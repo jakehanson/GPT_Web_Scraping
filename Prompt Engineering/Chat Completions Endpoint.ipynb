{
 "cells": [
  {
   "cell_type": "markdown",
   "id": "d74b02a2-3fbe-4c95-952e-589534bbe6f1",
   "metadata": {},
   "source": [
    "## Prompt Engineering\n",
    "- Try different prompts and formatting\n",
    "- Check Results against human benchmark"
   ]
  },
  {
   "cell_type": "code",
   "execution_count": 1,
   "id": "0766fe2b-2320-46c7-9351-e71f0ca50bce",
   "metadata": {},
   "outputs": [],
   "source": [
    "import pandas as pd\n",
    "import numpy as np\n",
    "import os\n",
    "from openai import OpenAI\n",
    "import json\n",
    "from IPython.display import display, HTML\n",
    "from tqdm.notebook import tqdm"
   ]
  },
  {
   "cell_type": "markdown",
   "id": "2ad6a2b8-38c7-4247-8b24-46768d649cb0",
   "metadata": {},
   "source": [
    "## Load the Open AI API Key"
   ]
  },
  {
   "cell_type": "code",
   "execution_count": 2,
   "id": "ee7705da-222b-4d5b-9776-9cf46d017320",
   "metadata": {},
   "outputs": [
    {
     "name": "stdout",
     "output_type": "stream",
     "text": [
      "API key is loaded.\n"
     ]
    }
   ],
   "source": [
    "from dotenv import load_dotenv, find_dotenv\n",
    "_ = load_dotenv(find_dotenv()) # read local .env file\n",
    "\n",
    "api_key = os.getenv('OPENAI_API_KEY')\n",
    "\n",
    "# Check if the API key is loaded\n",
    "if api_key:\n",
    "    print(\"API key is loaded.\")\n",
    "else:\n",
    "    print(\"API key is not loaded.\")"
   ]
  },
  {
   "cell_type": "markdown",
   "id": "c5359d51-a32a-4f0f-9d35-4bb3496720b1",
   "metadata": {},
   "source": [
    "## Load the benchmark data"
   ]
  },
  {
   "cell_type": "markdown",
   "id": "a557156f-b1ca-4174-8467-02d0bec36132",
   "metadata": {},
   "source": [
    "#### Load the place results"
   ]
  },
  {
   "cell_type": "code",
   "execution_count": 3,
   "id": "a07537d9-da24-442b-91a9-4ab5a9a03f77",
   "metadata": {},
   "outputs": [
    {
     "data": {
      "text/html": [
       "<div>\n",
       "<style scoped>\n",
       "    .dataframe tbody tr th:only-of-type {\n",
       "        vertical-align: middle;\n",
       "    }\n",
       "\n",
       "    .dataframe tbody tr th {\n",
       "        vertical-align: top;\n",
       "    }\n",
       "\n",
       "    .dataframe thead th {\n",
       "        text-align: right;\n",
       "    }\n",
       "</style>\n",
       "<table border=\"1\" class=\"dataframe\">\n",
       "  <thead>\n",
       "    <tr style=\"text-align: right;\">\n",
       "      <th></th>\n",
       "      <th>Name</th>\n",
       "      <th>Place ID</th>\n",
       "      <th>Description</th>\n",
       "      <th>Website</th>\n",
       "      <th>Address</th>\n",
       "      <th>Phone</th>\n",
       "      <th>Rating</th>\n",
       "      <th>Price</th>\n",
       "      <th>Type</th>\n",
       "      <th>Highlights</th>\n",
       "      <th>Offerings</th>\n",
       "      <th>Q_and_A</th>\n",
       "      <th>Snippets</th>\n",
       "      <th>Reviews_Most_Relevant</th>\n",
       "    </tr>\n",
       "  </thead>\n",
       "  <tbody>\n",
       "    <tr>\n",
       "      <th>0</th>\n",
       "      <td>The Fresh Market</td>\n",
       "      <td>ChIJmb6kSDZ_54gRowDRme47G0k</td>\n",
       "      <td>Upscale grocery store chain with an old-world ...</td>\n",
       "      <td>https://stores.thefreshmarket.com/fl/orlando/38</td>\n",
       "      <td>5000 Dr Phillips Blvd, Orlando, FL 32819</td>\n",
       "      <td>(407) 294-1516</td>\n",
       "      <td>4.5</td>\n",
       "      <td>$$$</td>\n",
       "      <td>['Grocery store', 'American grocery store', 'B...</td>\n",
       "      <td>Great produce</td>\n",
       "      <td>Organic products</td>\n",
       "      <td>[{'question': {'user': {'name': 'Anita Caragan...</td>\n",
       "      <td>[{'snippet': '\"Exclusive place to buy good foo...</td>\n",
       "      <td>[{'username': 'Scott Ziegler', 'rating': 5, 'd...</td>\n",
       "    </tr>\n",
       "    <tr>\n",
       "      <th>1</th>\n",
       "      <td>The Ancient Olive Gourmet of Winter Garden</td>\n",
       "      <td>ChIJyZdkgPuD54gRqtF-E30N4x0</td>\n",
       "      <td>NaN</td>\n",
       "      <td>http://www.theancientolive.com/</td>\n",
       "      <td>125 W Plant St, Winter Garden, FL 34787</td>\n",
       "      <td>(407) 656-6457</td>\n",
       "      <td>4.8</td>\n",
       "      <td>NaN</td>\n",
       "      <td>['Gourmet grocery store']</td>\n",
       "      <td>NaN</td>\n",
       "      <td>NaN</td>\n",
       "      <td>[]</td>\n",
       "      <td>[{'snippet': '\"It is good with any kind of foo...</td>\n",
       "      <td>[{'username': 'Mesh G', 'rating': 5, 'descript...</td>\n",
       "    </tr>\n",
       "    <tr>\n",
       "      <th>2</th>\n",
       "      <td>Seriously Great Market Solution</td>\n",
       "      <td>ChIJu9MkmVF_54gRwZIoka6RoQk</td>\n",
       "      <td>NaN</td>\n",
       "      <td>NaN</td>\n",
       "      <td>8815 Conroy Windermere Rd # 35, Orlando, FL 32835</td>\n",
       "      <td>(321) 251-6383</td>\n",
       "      <td>NaN</td>\n",
       "      <td>NaN</td>\n",
       "      <td>['Grocery store']</td>\n",
       "      <td>NaN</td>\n",
       "      <td>NaN</td>\n",
       "      <td>[]</td>\n",
       "      <td>NaN</td>\n",
       "      <td>[]</td>\n",
       "    </tr>\n",
       "    <tr>\n",
       "      <th>3</th>\n",
       "      <td>Tn Food &amp; Grocery</td>\n",
       "      <td>ChIJmfVTDG2D54gRFdvotMCET7U</td>\n",
       "      <td>NaN</td>\n",
       "      <td>http://tn-food-grocery.keeq.io/</td>\n",
       "      <td>66 S Dillard St, Winter Garden, FL 34787</td>\n",
       "      <td>(407) 656-1551</td>\n",
       "      <td>4.3</td>\n",
       "      <td>NaN</td>\n",
       "      <td>['Grocery store']</td>\n",
       "      <td>NaN</td>\n",
       "      <td>NaN</td>\n",
       "      <td>[{'question': {'user': {'name': 'keycha “ ” vi...</td>\n",
       "      <td>[{'snippet': '\"Very friendly staff and the pla...</td>\n",
       "      <td>[{'username': 'Tara G.', 'rating': 5, 'descrip...</td>\n",
       "    </tr>\n",
       "    <tr>\n",
       "      <th>4</th>\n",
       "      <td>SC Foods</td>\n",
       "      <td>ChIJ2esYs3yP54gRAarbKINxxME</td>\n",
       "      <td>NaN</td>\n",
       "      <td>https://alisanc.com/contact-us/</td>\n",
       "      <td>15701 State Rte 50, Clermont, FL 34711, United...</td>\n",
       "      <td>+1 407-347-8135</td>\n",
       "      <td>NaN</td>\n",
       "      <td>NaN</td>\n",
       "      <td>['Grocery store']</td>\n",
       "      <td>NaN</td>\n",
       "      <td>NaN</td>\n",
       "      <td>[]</td>\n",
       "      <td>NaN</td>\n",
       "      <td>[]</td>\n",
       "    </tr>\n",
       "    <tr>\n",
       "      <th>5</th>\n",
       "      <td>Holson's Produce</td>\n",
       "      <td>ChIJo5_x_gV554gRp3F5Ml9JGxY</td>\n",
       "      <td>NaN</td>\n",
       "      <td>NaN</td>\n",
       "      <td>5853 Old Winter Garden Rd, Orlando, FL 32835</td>\n",
       "      <td>(407) 292-5678</td>\n",
       "      <td>4.1</td>\n",
       "      <td>NaN</td>\n",
       "      <td>['Produce market', 'Meat wholesaler', 'Produce...</td>\n",
       "      <td>NaN</td>\n",
       "      <td>NaN</td>\n",
       "      <td>[]</td>\n",
       "      <td>[{'snippet': '\"Service is good, food is good.....</td>\n",
       "      <td>[{'username': 'Angelo M', 'rating': 5, 'descri...</td>\n",
       "    </tr>\n",
       "    <tr>\n",
       "      <th>6</th>\n",
       "      <td>Suns Market</td>\n",
       "      <td>ChIJwVN3bHOD54gRSlij1UhudVc</td>\n",
       "      <td>NaN</td>\n",
       "      <td>NaN</td>\n",
       "      <td>523 S Dillard St, Winter Garden, FL 34787</td>\n",
       "      <td>(407) 877-3020</td>\n",
       "      <td>4.0</td>\n",
       "      <td>NaN</td>\n",
       "      <td>['Grocery store']</td>\n",
       "      <td>NaN</td>\n",
       "      <td>NaN</td>\n",
       "      <td>[{'question': {'user': {'name': 'Kelly Pounds'...</td>\n",
       "      <td>[{'snippet': '\"Nice experience prices a little...</td>\n",
       "      <td>[{'username': \"Dad's Home Movies\", 'rating': 2...</td>\n",
       "    </tr>\n",
       "    <tr>\n",
       "      <th>7</th>\n",
       "      <td>Colonial Grocery Deli &amp; Bodega</td>\n",
       "      <td>ChIJEaAcVKx554gRbVLiyDDehHI</td>\n",
       "      <td>NaN</td>\n",
       "      <td>NaN</td>\n",
       "      <td>6339 W Colonial Dr, Orlando, FL 32818</td>\n",
       "      <td>(407) 296-9955</td>\n",
       "      <td>4.7</td>\n",
       "      <td>NaN</td>\n",
       "      <td>['Grocery store']</td>\n",
       "      <td>Great produce</td>\n",
       "      <td>NaN</td>\n",
       "      <td>[]</td>\n",
       "      <td>[{'snippet': '\"Very good food! and great choic...</td>\n",
       "      <td>[{'username': 'Robert Brown', 'rating': 5, 'de...</td>\n",
       "    </tr>\n",
       "    <tr>\n",
       "      <th>8</th>\n",
       "      <td>Trader Joe's</td>\n",
       "      <td>ChIJbeFK_p5_54gRGvfzUjKvlFA</td>\n",
       "      <td>Grocery chain with a variety of signature item...</td>\n",
       "      <td>https://locations.traderjoes.com/fl/orlando/76...</td>\n",
       "      <td>8323 Sand Lake Rd, Orlando, FL 32819</td>\n",
       "      <td>(407) 345-0611</td>\n",
       "      <td>4.7</td>\n",
       "      <td>$$</td>\n",
       "      <td>['Grocery store', 'Cheese shop', 'Fresh food m...</td>\n",
       "      <td>Great produce</td>\n",
       "      <td>Organic products</td>\n",
       "      <td>[{'question': {'user': {'name': 'ed m', 'link'...</td>\n",
       "      <td>[{'snippet': '\"Great selection, great meats, g...</td>\n",
       "      <td>[{'username': 'Richard Yu', 'rating': 5, 'desc...</td>\n",
       "    </tr>\n",
       "    <tr>\n",
       "      <th>9</th>\n",
       "      <td>JNM Super Market</td>\n",
       "      <td>ChIJIxxg6f9-54gRVzC_PSR-wn8</td>\n",
       "      <td>NaN</td>\n",
       "      <td>NaN</td>\n",
       "      <td>7521 International Dr, Orlando, FL 32819</td>\n",
       "      <td>(407) 592-4748</td>\n",
       "      <td>3.3</td>\n",
       "      <td>NaN</td>\n",
       "      <td>['Grocery store', 'Beer store', 'Convenience s...</td>\n",
       "      <td>NaN</td>\n",
       "      <td>NaN</td>\n",
       "      <td>[{'question': {'user': {'name': 'LINDA RUPP', ...</td>\n",
       "      <td>[{'snippet': '\"Great selection and good qualit...</td>\n",
       "      <td>[{'username': 'Anthony Barney', 'rating': 1, '...</td>\n",
       "    </tr>\n",
       "  </tbody>\n",
       "</table>\n",
       "</div>"
      ],
      "text/plain": [
       "                                         Name                     Place ID  \\\n",
       "0                            The Fresh Market  ChIJmb6kSDZ_54gRowDRme47G0k   \n",
       "1  The Ancient Olive Gourmet of Winter Garden  ChIJyZdkgPuD54gRqtF-E30N4x0   \n",
       "2             Seriously Great Market Solution  ChIJu9MkmVF_54gRwZIoka6RoQk   \n",
       "3                           Tn Food & Grocery  ChIJmfVTDG2D54gRFdvotMCET7U   \n",
       "4                                    SC Foods  ChIJ2esYs3yP54gRAarbKINxxME   \n",
       "5                            Holson's Produce  ChIJo5_x_gV554gRp3F5Ml9JGxY   \n",
       "6                                 Suns Market  ChIJwVN3bHOD54gRSlij1UhudVc   \n",
       "7              Colonial Grocery Deli & Bodega  ChIJEaAcVKx554gRbVLiyDDehHI   \n",
       "8                                Trader Joe's  ChIJbeFK_p5_54gRGvfzUjKvlFA   \n",
       "9                            JNM Super Market  ChIJIxxg6f9-54gRVzC_PSR-wn8   \n",
       "\n",
       "                                         Description  \\\n",
       "0  Upscale grocery store chain with an old-world ...   \n",
       "1                                                NaN   \n",
       "2                                                NaN   \n",
       "3                                                NaN   \n",
       "4                                                NaN   \n",
       "5                                                NaN   \n",
       "6                                                NaN   \n",
       "7                                                NaN   \n",
       "8  Grocery chain with a variety of signature item...   \n",
       "9                                                NaN   \n",
       "\n",
       "                                             Website  \\\n",
       "0    https://stores.thefreshmarket.com/fl/orlando/38   \n",
       "1                    http://www.theancientolive.com/   \n",
       "2                                                NaN   \n",
       "3                    http://tn-food-grocery.keeq.io/   \n",
       "4                    https://alisanc.com/contact-us/   \n",
       "5                                                NaN   \n",
       "6                                                NaN   \n",
       "7                                                NaN   \n",
       "8  https://locations.traderjoes.com/fl/orlando/76...   \n",
       "9                                                NaN   \n",
       "\n",
       "                                             Address            Phone  Rating  \\\n",
       "0           5000 Dr Phillips Blvd, Orlando, FL 32819   (407) 294-1516     4.5   \n",
       "1            125 W Plant St, Winter Garden, FL 34787   (407) 656-6457     4.8   \n",
       "2  8815 Conroy Windermere Rd # 35, Orlando, FL 32835   (321) 251-6383     NaN   \n",
       "3           66 S Dillard St, Winter Garden, FL 34787   (407) 656-1551     4.3   \n",
       "4  15701 State Rte 50, Clermont, FL 34711, United...  +1 407-347-8135     NaN   \n",
       "5       5853 Old Winter Garden Rd, Orlando, FL 32835   (407) 292-5678     4.1   \n",
       "6          523 S Dillard St, Winter Garden, FL 34787   (407) 877-3020     4.0   \n",
       "7              6339 W Colonial Dr, Orlando, FL 32818   (407) 296-9955     4.7   \n",
       "8               8323 Sand Lake Rd, Orlando, FL 32819   (407) 345-0611     4.7   \n",
       "9           7521 International Dr, Orlando, FL 32819   (407) 592-4748     3.3   \n",
       "\n",
       "  Price                                               Type     Highlights  \\\n",
       "0   $$$  ['Grocery store', 'American grocery store', 'B...  Great produce   \n",
       "1   NaN                          ['Gourmet grocery store']            NaN   \n",
       "2   NaN                                  ['Grocery store']            NaN   \n",
       "3   NaN                                  ['Grocery store']            NaN   \n",
       "4   NaN                                  ['Grocery store']            NaN   \n",
       "5   NaN  ['Produce market', 'Meat wholesaler', 'Produce...            NaN   \n",
       "6   NaN                                  ['Grocery store']            NaN   \n",
       "7   NaN                                  ['Grocery store']  Great produce   \n",
       "8    $$  ['Grocery store', 'Cheese shop', 'Fresh food m...  Great produce   \n",
       "9   NaN  ['Grocery store', 'Beer store', 'Convenience s...            NaN   \n",
       "\n",
       "          Offerings                                            Q_and_A  \\\n",
       "0  Organic products  [{'question': {'user': {'name': 'Anita Caragan...   \n",
       "1               NaN                                                 []   \n",
       "2               NaN                                                 []   \n",
       "3               NaN  [{'question': {'user': {'name': 'keycha “ ” vi...   \n",
       "4               NaN                                                 []   \n",
       "5               NaN                                                 []   \n",
       "6               NaN  [{'question': {'user': {'name': 'Kelly Pounds'...   \n",
       "7               NaN                                                 []   \n",
       "8  Organic products  [{'question': {'user': {'name': 'ed m', 'link'...   \n",
       "9               NaN  [{'question': {'user': {'name': 'LINDA RUPP', ...   \n",
       "\n",
       "                                            Snippets  \\\n",
       "0  [{'snippet': '\"Exclusive place to buy good foo...   \n",
       "1  [{'snippet': '\"It is good with any kind of foo...   \n",
       "2                                                NaN   \n",
       "3  [{'snippet': '\"Very friendly staff and the pla...   \n",
       "4                                                NaN   \n",
       "5  [{'snippet': '\"Service is good, food is good.....   \n",
       "6  [{'snippet': '\"Nice experience prices a little...   \n",
       "7  [{'snippet': '\"Very good food! and great choic...   \n",
       "8  [{'snippet': '\"Great selection, great meats, g...   \n",
       "9  [{'snippet': '\"Great selection and good qualit...   \n",
       "\n",
       "                               Reviews_Most_Relevant  \n",
       "0  [{'username': 'Scott Ziegler', 'rating': 5, 'd...  \n",
       "1  [{'username': 'Mesh G', 'rating': 5, 'descript...  \n",
       "2                                                 []  \n",
       "3  [{'username': 'Tara G.', 'rating': 5, 'descrip...  \n",
       "4                                                 []  \n",
       "5  [{'username': 'Angelo M', 'rating': 5, 'descri...  \n",
       "6  [{'username': \"Dad's Home Movies\", 'rating': 2...  \n",
       "7  [{'username': 'Robert Brown', 'rating': 5, 'de...  \n",
       "8  [{'username': 'Richard Yu', 'rating': 5, 'desc...  \n",
       "9  [{'username': 'Anthony Barney', 'rating': 1, '...  "
      ]
     },
     "execution_count": 3,
     "metadata": {},
     "output_type": "execute_result"
    }
   ],
   "source": [
    "benchmark_place_results = pd.read_csv('./Data/benchmark_input.csv')\n",
    "benchmark_place_results"
   ]
  },
  {
   "cell_type": "markdown",
   "id": "494f699e-d65d-47e2-8c7b-acf01261c54e",
   "metadata": {},
   "source": [
    "#### Separate a single record for prompt engineering"
   ]
  },
  {
   "cell_type": "code",
   "execution_count": 4,
   "id": "396c2e68-5ed5-4bd7-8d23-a0613c4c1b66",
   "metadata": {},
   "outputs": [
    {
     "data": {
      "text/plain": [
       "'{\"Name\":\"The Fresh Market\",\"Description\":\"Upscale grocery store chain with an old-world vibe offers local produce, prepared eats, wine & more.\",\"Website\":\"https:\\\\/\\\\/stores.thefreshmarket.com\\\\/fl\\\\/orlando\\\\/38\",\"Address\":\"5000 Dr Phillips Blvd, Orlando, FL 32819\",\"Phone\":\"(407) 294-1516\",\"Rating\":4.5,\"Price\":\"$$$\",\"Type\":[\"Grocery store\",\"American grocery store\",\"Bakery\",\"Butcher shop\",\"Fruit and vegetable store\",\"Gourmet grocery store\",\"Market\",\"Organic food store\",\"Produce market\",\"Supermarket\"],\"Highlights\":\"Great produce\",\"Offerings\":\"Organic products\",\"Q_and_A\":[{\"question\":{\"user\":{\"name\":\"Anita Caragan\",\"link\":\"https:\\\\/\\\\/www.google.com\\\\/maps\\\\/contrib\\\\/113357052055774270348\",\"thumbnail\":\"https:\\\\/\\\\/lh3.googleusercontent.com\\\\/a\\\\/ACg8ocKdK8_h2Q72RjHiQIaBRzydgHNYXF_L4fVzUnKZqkzr=s120-c-rp-mo-br100\"},\"text\":\"Do you have bake chicken?\",\"date\":\"4 years ago\",\"language\":\"en\"},\"answer\":{\"user\":{\"name\":\"Jeanne M\",\"link\":\"https:\\\\/\\\\/www.google.com\\\\/maps\\\\/contrib\\\\/103273231700736606425\",\"thumbnail\":\"https:\\\\/\\\\/lh3.googleusercontent.com\\\\/a-\\\\/ALV-UjV1dxAWbPQ3Hw4yKJqSD6JTjsAO3KK2rwa8j93c3LoWWeQd=s120-c-rp-mo-ba6-br100\"},\"text\":\"Yes they do.\",\"date\":\"2 years ago\",\"language\":\"en\"}}],\"Snippets\":[{\"snippet\":\"\\\\\"Exclusive place to buy good food, prices are what you expect, and quality meals.\\\\\"\"},{\"snippet\":\"\\\\\"Nice staff, pretty good selection of groceries available, $$$$\\\\\"\"},{\"snippet\":\"\\\\\"Good variety of produce, meat, sea food, cheeses and deli.\\\\\"\"}],\"Reviews_Most_Relevant\":[{\"username\":\"Scott Ziegler\",\"rating\":5,\"description\":\"Fresh Market is my #1\\\\nMy top 5 grocery stores in the Dr Phillips\\\\/SW Orlando area: no\\\\n\\\\nThe Fresh Market is my favorite all around grocery store in DP\\\\/SW Orlando based on product assortment\\\\/selection and quality\\\\/ freshness, customer orientation\\\\/service, value offers, shopping pleasure and parking convenience.\\\\n\\\\nClose 2nd and 3rd are Publix in the Cascades of Islesworth and Traders Joe\\\\u2019s.\\\\n\\\\nNot too far behind are Walmart Neighborhood Market and Publix O Town West\\\\n\\\\nNot in:  Winn Dixie, Whole Foods, Publix Plaza Venitzia, Sprouts, Publix Dr Phillips Marketplace\\\\n\\\\nWhat do you think?\",\"date\":\"5 days ago\"},{\"username\":\"Jack Shekinah\",\"rating\":5,\"description\":\"Beautiful place to shop! I just enjoyed my first shopping in Orlando on this shop! Great price and great staff!\",\"date\":\"2 months ago\"},{\"username\":\"Vicki\",\"rating\":5,\"description\":\"Fresh Market in the Dr. Phillips area is truly outstanding. The facility is clean, inviting, and has a great employee team working there. Great specials and the best food quality. Kudos to Ryan. the sushi team and Kat, among so many others.\",\"date\":\"a week ago\"},{\"username\":\"Jane Walker\",\"rating\":5,\"description\":\"Everyone is exceptionally nice, there is one employee that keeps her area perfect, nuts candy, coffee , Angela ! the displays at the holiday time are great, I\\\\u2019m hoping to see something for the Super Bowl.\\\\nI love Kevin, Kat  and William in the deli, both are an asset to this company. Happy New Year!\",\"date\":\"6 days ago\"},{\"username\":\"Manal Ammagui\",\"rating\":5,\"description\":\"great supermarket that offers such a great variety if produce, meats, snacks, beverages, and ready-to-go meals. those meals are my favorite thing here, so many delicious options! the staff is nice and helpful. this location\\\\u2019s in a plaza so there\\\\u2019s good parking available but it can get pretty packed since it\\\\u2019s rather small.\",\"date\":\"a year ago\"},{\"username\":\"Catherine de Beer\",\"rating\":5,\"description\":\"Great upscale local grocery store.  They have lots of fresh to go and prepared foods as well as full service deli and meat departments, a bakery, large wine and cheese selection, and varied produce section with products not found in regular supermarkets.\\\\n\\\\nThis store has great weekly fresh meat and seafood specials, and a weekly take and make dinner offering.  They have many hard to find dried herbs and spices as well as a selection of unique grocery items and craft cooking kits and sauces.  When you\\'re looking for something different or special this is a great place to try.  If you are lucky enough to live nearby they offer occasional email coupons and updates on their specials.\",\"date\":\"3 years ago\"},{\"username\":\"George Jones\",\"rating\":4,\"description\":\"The parking lot is pretty open during the weekdays, but it gets busy during the weekend. Be sure to check their weekly flyer at the front of the store to find the best deals. Rotisserie chicken was on Sales for $5 all month! Also, can\\\\u2019t say enough about their coffee, they always have a fresh pot and a great blend!\\\\nUnfortunately, found some of there food that was recently expired and the prices are a little high. So, almost great.\",\"date\":\"4 years ago\"},{\"username\":\"Olivia\",\"rating\":5,\"description\":\"Such a lovely upscale grocery store. The choice is fantastic and the staff are even better! Always so helpful, especially Kat. Will keep coming back!\",\"date\":\"2 months ago\"}]}'"
      ]
     },
     "execution_count": 4,
     "metadata": {},
     "output_type": "execute_result"
    }
   ],
   "source": [
    "with open('./Data/test.json', 'r') as file:\n",
    "    test_json = json.load(file)\n",
    "test_json"
   ]
  },
  {
   "cell_type": "markdown",
   "id": "a0ea90c5-a4eb-4fca-a705-e07519d43fe1",
   "metadata": {},
   "source": [
    "#### Load human scores"
   ]
  },
  {
   "cell_type": "code",
   "execution_count": 6,
   "id": "a4e5c93a-5ae8-4183-8d4a-b0323791701f",
   "metadata": {},
   "outputs": [
    {
     "data": {
      "text/html": [
       "<div>\n",
       "<style scoped>\n",
       "    .dataframe tbody tr th:only-of-type {\n",
       "        vertical-align: middle;\n",
       "    }\n",
       "\n",
       "    .dataframe tbody tr th {\n",
       "        vertical-align: top;\n",
       "    }\n",
       "\n",
       "    .dataframe thead th {\n",
       "        text-align: right;\n",
       "    }\n",
       "</style>\n",
       "<table border=\"1\" class=\"dataframe\">\n",
       "  <thead>\n",
       "    <tr style=\"text-align: right;\">\n",
       "      <th></th>\n",
       "      <th>Name</th>\n",
       "      <th>Human Score</th>\n",
       "      <th>Human Notes</th>\n",
       "    </tr>\n",
       "  </thead>\n",
       "  <tbody>\n",
       "    <tr>\n",
       "      <th>0</th>\n",
       "      <td>The Fresh Market</td>\n",
       "      <td>8.0</td>\n",
       "      <td>Local market with a focus on gourmet. Several ...</td>\n",
       "    </tr>\n",
       "    <tr>\n",
       "      <th>1</th>\n",
       "      <td>The Ancient Olive Gourmet of Winter Garden</td>\n",
       "      <td>8.0</td>\n",
       "      <td>Gourmet pantry with a honey pantry section. Mi...</td>\n",
       "    </tr>\n",
       "    <tr>\n",
       "      <th>2</th>\n",
       "      <td>Seriously Great Market Solution</td>\n",
       "      <td>1.0</td>\n",
       "      <td>No reviews or website</td>\n",
       "    </tr>\n",
       "    <tr>\n",
       "      <th>3</th>\n",
       "      <td>Tn Food &amp; Grocery</td>\n",
       "      <td>4.0</td>\n",
       "      <td>No focus on gourmet</td>\n",
       "    </tr>\n",
       "    <tr>\n",
       "      <th>4</th>\n",
       "      <td>Holson's Produce</td>\n",
       "      <td>5.0</td>\n",
       "      <td>No website but maybe.</td>\n",
       "    </tr>\n",
       "    <tr>\n",
       "      <th>5</th>\n",
       "      <td>Suns Market</td>\n",
       "      <td>3.0</td>\n",
       "      <td>Family owned so that's a plus, but gas station...</td>\n",
       "    </tr>\n",
       "    <tr>\n",
       "      <th>6</th>\n",
       "      <td>SC Foods</td>\n",
       "      <td>4.0</td>\n",
       "      <td>I don't know what this is but there's no focus...</td>\n",
       "    </tr>\n",
       "    <tr>\n",
       "      <th>7</th>\n",
       "      <td>Colonial Grocery Deli &amp; Bodega</td>\n",
       "      <td>6.5</td>\n",
       "      <td>Ethnic market. Strong focus on local. No clear...</td>\n",
       "    </tr>\n",
       "    <tr>\n",
       "      <th>8</th>\n",
       "      <td>Trader Joe's</td>\n",
       "      <td>4.0</td>\n",
       "      <td>Massive chain. Too much red tape.</td>\n",
       "    </tr>\n",
       "    <tr>\n",
       "      <th>9</th>\n",
       "      <td>JNM Super Market</td>\n",
       "      <td>1.0</td>\n",
       "      <td>Gas station.</td>\n",
       "    </tr>\n",
       "  </tbody>\n",
       "</table>\n",
       "</div>"
      ],
      "text/plain": [
       "                                         Name  Human Score  \\\n",
       "0                            The Fresh Market          8.0   \n",
       "1  The Ancient Olive Gourmet of Winter Garden          8.0   \n",
       "2             Seriously Great Market Solution          1.0   \n",
       "3                           Tn Food & Grocery          4.0   \n",
       "4                            Holson's Produce          5.0   \n",
       "5                                 Suns Market          3.0   \n",
       "6                                    SC Foods          4.0   \n",
       "7              Colonial Grocery Deli & Bodega          6.5   \n",
       "8                                Trader Joe's          4.0   \n",
       "9                            JNM Super Market          1.0   \n",
       "\n",
       "                                         Human Notes  \n",
       "0  Local market with a focus on gourmet. Several ...  \n",
       "1  Gourmet pantry with a honey pantry section. Mi...  \n",
       "2                              No reviews or website  \n",
       "3                                No focus on gourmet  \n",
       "4                              No website but maybe.  \n",
       "5  Family owned so that's a plus, but gas station...  \n",
       "6  I don't know what this is but there's no focus...  \n",
       "7  Ethnic market. Strong focus on local. No clear...  \n",
       "8                  Massive chain. Too much red tape.  \n",
       "9                                      Gas station.   "
      ]
     },
     "execution_count": 6,
     "metadata": {},
     "output_type": "execute_result"
    }
   ],
   "source": [
    "human_scores = pd.read_csv('./Data/human_scores.csv')\n",
    "human_scores"
   ]
  },
  {
   "cell_type": "markdown",
   "id": "b1ca84a2-c737-4b8b-8d02-26b8d39334c6",
   "metadata": {},
   "source": [
    "## Prompt Engineering"
   ]
  },
  {
   "cell_type": "markdown",
   "id": "5d4946fd-78f0-42fc-b942-24c7134d77c1",
   "metadata": {},
   "source": [
    "#### Prompt 1: Basic, Unstructured\n",
    "Relying on GPT4's NLP ability to do a better job than I would do"
   ]
  },
  {
   "cell_type": "code",
   "execution_count": 10,
   "id": "3ab96082-4151-43d3-84a0-f0bc661b792b",
   "metadata": {},
   "outputs": [],
   "source": [
    "client = OpenAI()\n",
    "\n",
    "instructions = (\"You are a helpful assistant tasked with helping us find grocery stores to stock our honey. \"\n",
    "                \"We are a fourth-generation, family-owned apiary based out of northern Florida that specializes \"\n",
    "                \"in the production of extremely high quality, mono-floral honey. We are looking for grocers that \"\n",
    "                \"specialize in curating gourmet food products, especially from small businesses such as ours. \"\n",
    "                \"Your task is to assign a compatibility score from 1-10 to the grocery store based on the {json} \"\n",
    "                \"of store data we provide. The output should be a json with the score and a short description \"\n",
    "                \"justifying why a given score was received.\")\n",
    "\n",
    "response = client.chat.completions.create(\n",
    "    model=\"gpt-4-1106-preview\",\n",
    "    temperature=0.0,\n",
    "    messages=[\n",
    "        {\"role\": \"system\", \"content\": instructions},\n",
    "        {\"role\": \"user\", \"content\": test_json}\n",
    "  ]\n",
    ")"
   ]
  },
  {
   "cell_type": "code",
   "execution_count": 17,
   "id": "145c036d-6cc2-4bcc-87e1-de6b5077870d",
   "metadata": {},
   "outputs": [
    {
     "data": {
      "text/plain": [
       "ChatCompletion(id='chatcmpl-8gFtWLJ5MMWJq9r1qcZ4oHlFj0SGp', choices=[Choice(finish_reason='stop', index=0, logprobs=None, message=ChatCompletionMessage(content='```json\\n{\\n  \"Score\": 9,\\n  \"Description\": \"The Fresh Market\\'s upscale and gourmet focus, along with its high customer ratings and emphasis on quality and local produce, makes it an excellent match for a high-quality, mono-floral honey from a small family-owned business. The store\\'s offerings of organic products and a variety of gourmet grocery items align well with the target market for specialty honey. The only reason it does not receive a perfect score is due to the lack of explicit mention of a focus on small business products, but the overall vibe and product selection suggest a strong compatibility.\"\\n}\\n```', role='assistant', function_call=None, tool_calls=None))], created=1705081566, model='gpt-4-1106-preview', object='chat.completion', system_fingerprint='fp_168383a679', usage=CompletionUsage(completion_tokens=124, prompt_tokens=1345, total_tokens=1469))"
      ]
     },
     "execution_count": 17,
     "metadata": {},
     "output_type": "execute_result"
    }
   ],
   "source": [
    "response"
   ]
  },
  {
   "cell_type": "markdown",
   "id": "a6548679-90d7-4aa3-9b7e-c1945f2cb90d",
   "metadata": {},
   "source": [
    "#### Parse the response"
   ]
  },
  {
   "cell_type": "code",
   "execution_count": 12,
   "id": "f60f9e94-6873-4c4f-8c2b-615072d8a3e4",
   "metadata": {},
   "outputs": [],
   "source": [
    "def parse_chat_completion(response):\n",
    "    \"\"\"\n",
    "    Parses a chat completion response to extract score, description, and calculate the cost.\n",
    "\n",
    "    Args:\n",
    "    response (ChatCompletion): A response object containing the completion message and usage data.\n",
    "\n",
    "    Returns:\n",
    "    tuple: A tuple containing the score, description, and cost of the chat completion.\n",
    "    \"\"\"\n",
    "\n",
    "    # Extracting and cleaning the JSON string for score and description\n",
    "    json_response = response.choices[0].message.content\n",
    "    cleaned_json_string = json_response.strip('```json\\n').rstrip('\\n```')\n",
    "\n",
    "    # Parse the JSON string\n",
    "    data = json.loads(cleaned_json_string)\n",
    "\n",
    "    # Extracting score and description\n",
    "    score = data.get('Score')\n",
    "    description = data.get('Description')\n",
    "\n",
    "    # Cost calculation\n",
    "    cost_per_input_token = 0.01 / 1000\n",
    "    cost_per_output_token = 0.03 / 1000\n",
    "    input_tokens = response.usage.prompt_tokens\n",
    "    output_tokens = response.usage.completion_tokens\n",
    "    cost = round((input_tokens * cost_per_input_token) + (output_tokens * cost_per_output_token), 4)\n",
    "\n",
    "    return score, description, cost\n",
    "\n",
    "# Example usage\n",
    "# Assuming 'response' is a valid ChatCompletion object\n",
    "# score, description, total_cost = analyze_chat_completion(response)\n",
    "# print(\"Score:\", score)\n",
    "# print(\"Description:\", description)\n",
    "# print(f\"Total Cost = ${total_cost:.3f}\")"
   ]
  },
  {
   "cell_type": "code",
   "execution_count": 75,
   "id": "2d325e52-3af5-419b-a0a4-5805d37b4fa4",
   "metadata": {},
   "outputs": [
    {
     "data": {
      "text/html": [
       "<strong>Score:</strong> 9"
      ],
      "text/plain": [
       "<IPython.core.display.HTML object>"
      ]
     },
     "metadata": {},
     "output_type": "display_data"
    },
    {
     "data": {
      "text/html": [
       "<strong>Description:</strong> The Fresh Market's upscale and gourmet focus, along with its high customer ratings and emphasis on quality and local produce, makes it an excellent match for a high-quality, mono-floral honey from a small family-owned business. The store's offerings of organic products and a variety of gourmet grocery items align well with the target market for specialty honey. The only reason it does not receive a perfect score is due to the lack of explicit mention of a focus on small business products, but the overall vibe and product selection suggest a strong compatibility."
      ],
      "text/plain": [
       "<IPython.core.display.HTML object>"
      ]
     },
     "metadata": {},
     "output_type": "display_data"
    },
    {
     "data": {
      "text/html": [
       "<strong>Total Cost =</strong> $0.017"
      ],
      "text/plain": [
       "<IPython.core.display.HTML object>"
      ]
     },
     "metadata": {},
     "output_type": "display_data"
    }
   ],
   "source": [
    "score, description, total_cost = parse_chat_completion(response)\n",
    "\n",
    "display(HTML(f\"<strong>Score:</strong> {score}\"))\n",
    "display(HTML(f\"<strong>Description:</strong> {description}\"))\n",
    "display(HTML(f\"<strong>GPT Cost =</strong> ${total_cost:.3f}\"))"
   ]
  },
  {
   "cell_type": "markdown",
   "id": "ccdf0090-df26-4dd7-90ba-244166c7cb0c",
   "metadata": {},
   "source": [
    "## Repeat for all locations"
   ]
  },
  {
   "cell_type": "code",
   "execution_count": 13,
   "id": "9e262651-7c95-4928-96aa-8988ffea8664",
   "metadata": {},
   "outputs": [
    {
     "data": {
      "application/vnd.jupyter.widget-view+json": {
       "model_id": "a55649b607934c08bc4be1d04ed52421",
       "version_major": 2,
       "version_minor": 0
      },
      "text/plain": [
       "  0%|          | 0/10 [00:00<?, ?it/s]"
      ]
     },
     "metadata": {},
     "output_type": "display_data"
    },
    {
     "data": {
      "text/html": [
       "<div>\n",
       "<style scoped>\n",
       "    .dataframe tbody tr th:only-of-type {\n",
       "        vertical-align: middle;\n",
       "    }\n",
       "\n",
       "    .dataframe tbody tr th {\n",
       "        vertical-align: top;\n",
       "    }\n",
       "\n",
       "    .dataframe thead th {\n",
       "        text-align: right;\n",
       "    }\n",
       "</style>\n",
       "<table border=\"1\" class=\"dataframe\">\n",
       "  <thead>\n",
       "    <tr style=\"text-align: right;\">\n",
       "      <th></th>\n",
       "      <th>Store Name</th>\n",
       "      <th>Place ID</th>\n",
       "      <th>GPT Description</th>\n",
       "      <th>GPT Score</th>\n",
       "      <th>GPT Cost ($)</th>\n",
       "    </tr>\n",
       "  </thead>\n",
       "  <tbody>\n",
       "    <tr>\n",
       "      <th>0</th>\n",
       "      <td>The Fresh Market</td>\n",
       "      <td>ChIJmb6kSDZ_54gRowDRme47G0k</td>\n",
       "      <td>The Fresh Market appears to be an excellent ma...</td>\n",
       "      <td>9</td>\n",
       "      <td>0.0186</td>\n",
       "    </tr>\n",
       "    <tr>\n",
       "      <th>1</th>\n",
       "      <td>The Ancient Olive Gourmet of Winter Garden</td>\n",
       "      <td>ChIJyZdkgPuD54gRqtF-E30N4x0</td>\n",
       "      <td>The Ancient Olive Gourmet of Winter Garden is ...</td>\n",
       "      <td>9</td>\n",
       "      <td>0.0156</td>\n",
       "    </tr>\n",
       "    <tr>\n",
       "      <th>2</th>\n",
       "      <td>Seriously Great Market Solution</td>\n",
       "      <td>ChIJu9MkmVF_54gRwZIoka6RoQk</td>\n",
       "      <td>Seriously Great Market Solution is listed as a...</td>\n",
       "      <td>2</td>\n",
       "      <td>0.0056</td>\n",
       "    </tr>\n",
       "    <tr>\n",
       "      <th>3</th>\n",
       "      <td>Tn Food &amp; Grocery</td>\n",
       "      <td>ChIJmfVTDG2D54gRFdvotMCET7U</td>\n",
       "      <td>Tn Food &amp; Grocery has a community-focused atmo...</td>\n",
       "      <td>5</td>\n",
       "      <td>0.0157</td>\n",
       "    </tr>\n",
       "    <tr>\n",
       "      <th>4</th>\n",
       "      <td>SC Foods</td>\n",
       "      <td>ChIJ2esYs3yP54gRAarbKINxxME</td>\n",
       "      <td>SC Foods is listed as a 'Grocery store' withou...</td>\n",
       "      <td>2</td>\n",
       "      <td>0.0059</td>\n",
       "    </tr>\n",
       "    <tr>\n",
       "      <th>5</th>\n",
       "      <td>Holson's Produce</td>\n",
       "      <td>ChIJo5_x_gV554gRp3F5Ml9JGxY</td>\n",
       "      <td>Holson's Produce appears to be a well-regarded...</td>\n",
       "      <td>7</td>\n",
       "      <td>0.0135</td>\n",
       "    </tr>\n",
       "    <tr>\n",
       "      <th>6</th>\n",
       "      <td>Suns Market</td>\n",
       "      <td>ChIJwVN3bHOD54gRSlij1UhudVc</td>\n",
       "      <td>Suns Market appears to be a small, local groce...</td>\n",
       "      <td>3</td>\n",
       "      <td>0.0150</td>\n",
       "    </tr>\n",
       "    <tr>\n",
       "      <th>7</th>\n",
       "      <td>Colonial Grocery Deli &amp; Bodega</td>\n",
       "      <td>ChIJEaAcVKx554gRbVLiyDDehHI</td>\n",
       "      <td>Colonial Grocery Deli &amp; Bodega has a high cust...</td>\n",
       "      <td>6</td>\n",
       "      <td>0.0135</td>\n",
       "    </tr>\n",
       "    <tr>\n",
       "      <th>8</th>\n",
       "      <td>Trader Joe's</td>\n",
       "      <td>ChIJbeFK_p5_54gRGvfzUjKvlFA</td>\n",
       "      <td>Trader Joe's has a strong reputation for quali...</td>\n",
       "      <td>7</td>\n",
       "      <td>0.0231</td>\n",
       "    </tr>\n",
       "    <tr>\n",
       "      <th>9</th>\n",
       "      <td>JNM Super Market</td>\n",
       "      <td>ChIJIxxg6f9-54gRVzC_PSR-wn8</td>\n",
       "      <td>JNM Super Market appears to be more of a conve...</td>\n",
       "      <td>2</td>\n",
       "      <td>0.0129</td>\n",
       "    </tr>\n",
       "  </tbody>\n",
       "</table>\n",
       "</div>"
      ],
      "text/plain": [
       "                                   Store Name                     Place ID  \\\n",
       "0                            The Fresh Market  ChIJmb6kSDZ_54gRowDRme47G0k   \n",
       "1  The Ancient Olive Gourmet of Winter Garden  ChIJyZdkgPuD54gRqtF-E30N4x0   \n",
       "2             Seriously Great Market Solution  ChIJu9MkmVF_54gRwZIoka6RoQk   \n",
       "3                           Tn Food & Grocery  ChIJmfVTDG2D54gRFdvotMCET7U   \n",
       "4                                    SC Foods  ChIJ2esYs3yP54gRAarbKINxxME   \n",
       "5                            Holson's Produce  ChIJo5_x_gV554gRp3F5Ml9JGxY   \n",
       "6                                 Suns Market  ChIJwVN3bHOD54gRSlij1UhudVc   \n",
       "7              Colonial Grocery Deli & Bodega  ChIJEaAcVKx554gRbVLiyDDehHI   \n",
       "8                                Trader Joe's  ChIJbeFK_p5_54gRGvfzUjKvlFA   \n",
       "9                            JNM Super Market  ChIJIxxg6f9-54gRVzC_PSR-wn8   \n",
       "\n",
       "                                     GPT Description  GPT Score  GPT Cost ($)  \n",
       "0  The Fresh Market appears to be an excellent ma...          9        0.0186  \n",
       "1  The Ancient Olive Gourmet of Winter Garden is ...          9        0.0156  \n",
       "2  Seriously Great Market Solution is listed as a...          2        0.0056  \n",
       "3  Tn Food & Grocery has a community-focused atmo...          5        0.0157  \n",
       "4  SC Foods is listed as a 'Grocery store' withou...          2        0.0059  \n",
       "5  Holson's Produce appears to be a well-regarded...          7        0.0135  \n",
       "6  Suns Market appears to be a small, local groce...          3        0.0150  \n",
       "7  Colonial Grocery Deli & Bodega has a high cust...          6        0.0135  \n",
       "8  Trader Joe's has a strong reputation for quali...          7        0.0231  \n",
       "9  JNM Super Market appears to be more of a conve...          2        0.0129  "
      ]
     },
     "execution_count": 13,
     "metadata": {},
     "output_type": "execute_result"
    }
   ],
   "source": [
    "records = []\n",
    "\n",
    "for i in tqdm(place_data_df.index):\n",
    "\n",
    "    ## Convert input to json, in accordance with chat instructions\n",
    "    input_data = place_data_df.loc[i].to_json()\n",
    "\n",
    "    ## Get the GPT 4 chat completion object\n",
    "    ## Temp = 0 for reproducability\n",
    "    response = client.chat.completions.create(\n",
    "        model=\"gpt-4-1106-preview\",\n",
    "        temperature=0.0,\n",
    "        messages=[\n",
    "            {\"role\": \"system\", \"content\": instructions},\n",
    "            {\"role\": \"user\", \"content\": input_data}\n",
    "        ]\n",
    "    )\n",
    "\n",
    "    ## Parse the response\n",
    "    score, description, total_cost = parse_chat_completion(response)\n",
    "\n",
    "    ## Append the record as a dictionary to the list\n",
    "    records.append({\n",
    "        'Store Name': place_data_df['Name'].loc[i],\n",
    "        'Place ID': place_data_df['Place ID'].loc[i],\n",
    "        'GPT Description': description,\n",
    "        'GPT Score': score,\n",
    "        'GPT Cost ($)': total_cost\n",
    "    })\n",
    "\n",
    "# Convert the list of records into a DataFrame\n",
    "gpt_results = pd.DataFrame(records)\n",
    "gpt_results"
   ]
  },
  {
   "cell_type": "markdown",
   "id": "f7f9a7b7-bbc8-4855-94e2-dbdb0d58d926",
   "metadata": {},
   "source": [
    "#### Join Human Results"
   ]
  },
  {
   "cell_type": "code",
   "execution_count": 14,
   "id": "2c661252-9138-4fc6-8308-1ffda6ca5ee1",
   "metadata": {},
   "outputs": [
    {
     "data": {
      "text/html": [
       "<div>\n",
       "<style scoped>\n",
       "    .dataframe tbody tr th:only-of-type {\n",
       "        vertical-align: middle;\n",
       "    }\n",
       "\n",
       "    .dataframe tbody tr th {\n",
       "        vertical-align: top;\n",
       "    }\n",
       "\n",
       "    .dataframe thead th {\n",
       "        text-align: right;\n",
       "    }\n",
       "</style>\n",
       "<table border=\"1\" class=\"dataframe\">\n",
       "  <thead>\n",
       "    <tr style=\"text-align: right;\">\n",
       "      <th></th>\n",
       "      <th>Name</th>\n",
       "      <th>Human Score</th>\n",
       "      <th>Human Notes</th>\n",
       "    </tr>\n",
       "  </thead>\n",
       "  <tbody>\n",
       "    <tr>\n",
       "      <th>0</th>\n",
       "      <td>The Fresh Market</td>\n",
       "      <td>7.0</td>\n",
       "      <td>Curates artisans but a bit of a chain. Lots of...</td>\n",
       "    </tr>\n",
       "    <tr>\n",
       "      <th>1</th>\n",
       "      <td>The Ancient Olive Gourmet of Winter Garden</td>\n",
       "      <td>8.0</td>\n",
       "      <td>Gourmet pantry with a honey pantry section. Mi...</td>\n",
       "    </tr>\n",
       "    <tr>\n",
       "      <th>2</th>\n",
       "      <td>Seriously Great Market Solution</td>\n",
       "      <td>1.0</td>\n",
       "      <td>No reviews or website</td>\n",
       "    </tr>\n",
       "    <tr>\n",
       "      <th>3</th>\n",
       "      <td>Tn Food &amp; Grocery</td>\n",
       "      <td>4.0</td>\n",
       "      <td>No focus on gourmet</td>\n",
       "    </tr>\n",
       "    <tr>\n",
       "      <th>4</th>\n",
       "      <td>Holson's Produce</td>\n",
       "      <td>5.0</td>\n",
       "      <td>No website but maybe.</td>\n",
       "    </tr>\n",
       "    <tr>\n",
       "      <th>5</th>\n",
       "      <td>Suns Market</td>\n",
       "      <td>3.0</td>\n",
       "      <td>Family owned so that's a plus, but gas station...</td>\n",
       "    </tr>\n",
       "    <tr>\n",
       "      <th>6</th>\n",
       "      <td>SC Foods</td>\n",
       "      <td>4.0</td>\n",
       "      <td>I don't know what this is but there's no focus...</td>\n",
       "    </tr>\n",
       "    <tr>\n",
       "      <th>7</th>\n",
       "      <td>Colonial Grocery Deli &amp; Bodega</td>\n",
       "      <td>6.5</td>\n",
       "      <td>Ethnic market. Strong focus on local. No clear...</td>\n",
       "    </tr>\n",
       "    <tr>\n",
       "      <th>8</th>\n",
       "      <td>Trader Joe's</td>\n",
       "      <td>4.0</td>\n",
       "      <td>Massive chain. Too much red tape.</td>\n",
       "    </tr>\n",
       "    <tr>\n",
       "      <th>9</th>\n",
       "      <td>JNM Super Market</td>\n",
       "      <td>1.0</td>\n",
       "      <td>Gas station.</td>\n",
       "    </tr>\n",
       "  </tbody>\n",
       "</table>\n",
       "</div>"
      ],
      "text/plain": [
       "                                         Name  Human Score  \\\n",
       "0                            The Fresh Market          7.0   \n",
       "1  The Ancient Olive Gourmet of Winter Garden          8.0   \n",
       "2             Seriously Great Market Solution          1.0   \n",
       "3                           Tn Food & Grocery          4.0   \n",
       "4                            Holson's Produce          5.0   \n",
       "5                                 Suns Market          3.0   \n",
       "6                                    SC Foods          4.0   \n",
       "7              Colonial Grocery Deli & Bodega          6.5   \n",
       "8                                Trader Joe's          4.0   \n",
       "9                            JNM Super Market          1.0   \n",
       "\n",
       "                                         Human Notes  \n",
       "0  Curates artisans but a bit of a chain. Lots of...  \n",
       "1  Gourmet pantry with a honey pantry section. Mi...  \n",
       "2                              No reviews or website  \n",
       "3                                No focus on gourmet  \n",
       "4                              No website but maybe.  \n",
       "5  Family owned so that's a plus, but gas station...  \n",
       "6  I don't know what this is but there's no focus...  \n",
       "7  Ethnic market. Strong focus on local. No clear...  \n",
       "8                  Massive chain. Too much red tape.  \n",
       "9                                      Gas station.   "
      ]
     },
     "execution_count": 14,
     "metadata": {},
     "output_type": "execute_result"
    }
   ],
   "source": [
    "human_scores"
   ]
  },
  {
   "cell_type": "code",
   "execution_count": 23,
   "id": "e76901ca-9770-477e-8226-2d462abccf41",
   "metadata": {},
   "outputs": [
    {
     "data": {
      "text/html": [
       "<div>\n",
       "<style scoped>\n",
       "    .dataframe tbody tr th:only-of-type {\n",
       "        vertical-align: middle;\n",
       "    }\n",
       "\n",
       "    .dataframe tbody tr th {\n",
       "        vertical-align: top;\n",
       "    }\n",
       "\n",
       "    .dataframe thead th {\n",
       "        text-align: right;\n",
       "    }\n",
       "</style>\n",
       "<table border=\"1\" class=\"dataframe\">\n",
       "  <thead>\n",
       "    <tr style=\"text-align: right;\">\n",
       "      <th></th>\n",
       "      <th>Name</th>\n",
       "      <th>Human Score</th>\n",
       "      <th>Human Notes</th>\n",
       "      <th>Place ID</th>\n",
       "      <th>GPT Description</th>\n",
       "      <th>GPT Score</th>\n",
       "      <th>GPT Cost ($)</th>\n",
       "    </tr>\n",
       "  </thead>\n",
       "  <tbody>\n",
       "    <tr>\n",
       "      <th>0</th>\n",
       "      <td>The Fresh Market</td>\n",
       "      <td>8.0</td>\n",
       "      <td>Local market with a focus on gourmet. Several ...</td>\n",
       "      <td>ChIJmb6kSDZ_54gRowDRme47G0k</td>\n",
       "      <td>The Fresh Market appears to be an excellent ma...</td>\n",
       "      <td>9</td>\n",
       "      <td>0.0186</td>\n",
       "    </tr>\n",
       "    <tr>\n",
       "      <th>1</th>\n",
       "      <td>The Ancient Olive Gourmet of Winter Garden</td>\n",
       "      <td>8.0</td>\n",
       "      <td>Gourmet pantry with a honey pantry section. Mi...</td>\n",
       "      <td>ChIJyZdkgPuD54gRqtF-E30N4x0</td>\n",
       "      <td>The Ancient Olive Gourmet of Winter Garden is ...</td>\n",
       "      <td>9</td>\n",
       "      <td>0.0156</td>\n",
       "    </tr>\n",
       "    <tr>\n",
       "      <th>2</th>\n",
       "      <td>Seriously Great Market Solution</td>\n",
       "      <td>1.0</td>\n",
       "      <td>No reviews or website</td>\n",
       "      <td>ChIJu9MkmVF_54gRwZIoka6RoQk</td>\n",
       "      <td>Seriously Great Market Solution is listed as a...</td>\n",
       "      <td>2</td>\n",
       "      <td>0.0056</td>\n",
       "    </tr>\n",
       "    <tr>\n",
       "      <th>3</th>\n",
       "      <td>Tn Food &amp; Grocery</td>\n",
       "      <td>4.0</td>\n",
       "      <td>No focus on gourmet</td>\n",
       "      <td>ChIJmfVTDG2D54gRFdvotMCET7U</td>\n",
       "      <td>Tn Food &amp; Grocery has a community-focused atmo...</td>\n",
       "      <td>5</td>\n",
       "      <td>0.0157</td>\n",
       "    </tr>\n",
       "    <tr>\n",
       "      <th>4</th>\n",
       "      <td>Holson's Produce</td>\n",
       "      <td>5.0</td>\n",
       "      <td>No website but maybe.</td>\n",
       "      <td>ChIJo5_x_gV554gRp3F5Ml9JGxY</td>\n",
       "      <td>Holson's Produce appears to be a well-regarded...</td>\n",
       "      <td>7</td>\n",
       "      <td>0.0135</td>\n",
       "    </tr>\n",
       "    <tr>\n",
       "      <th>5</th>\n",
       "      <td>Suns Market</td>\n",
       "      <td>3.0</td>\n",
       "      <td>Family owned so that's a plus, but gas station...</td>\n",
       "      <td>ChIJwVN3bHOD54gRSlij1UhudVc</td>\n",
       "      <td>Suns Market appears to be a small, local groce...</td>\n",
       "      <td>3</td>\n",
       "      <td>0.0150</td>\n",
       "    </tr>\n",
       "    <tr>\n",
       "      <th>6</th>\n",
       "      <td>SC Foods</td>\n",
       "      <td>4.0</td>\n",
       "      <td>I don't know what this is but there's no focus...</td>\n",
       "      <td>ChIJ2esYs3yP54gRAarbKINxxME</td>\n",
       "      <td>SC Foods is listed as a 'Grocery store' withou...</td>\n",
       "      <td>2</td>\n",
       "      <td>0.0059</td>\n",
       "    </tr>\n",
       "    <tr>\n",
       "      <th>7</th>\n",
       "      <td>Colonial Grocery Deli &amp; Bodega</td>\n",
       "      <td>6.5</td>\n",
       "      <td>Ethnic market. Strong focus on local. No clear...</td>\n",
       "      <td>ChIJEaAcVKx554gRbVLiyDDehHI</td>\n",
       "      <td>Colonial Grocery Deli &amp; Bodega has a high cust...</td>\n",
       "      <td>6</td>\n",
       "      <td>0.0135</td>\n",
       "    </tr>\n",
       "    <tr>\n",
       "      <th>8</th>\n",
       "      <td>Trader Joe's</td>\n",
       "      <td>4.0</td>\n",
       "      <td>Massive chain. Too much red tape.</td>\n",
       "      <td>ChIJbeFK_p5_54gRGvfzUjKvlFA</td>\n",
       "      <td>Trader Joe's has a strong reputation for quali...</td>\n",
       "      <td>7</td>\n",
       "      <td>0.0231</td>\n",
       "    </tr>\n",
       "    <tr>\n",
       "      <th>9</th>\n",
       "      <td>JNM Super Market</td>\n",
       "      <td>1.0</td>\n",
       "      <td>Gas station.</td>\n",
       "      <td>ChIJIxxg6f9-54gRVzC_PSR-wn8</td>\n",
       "      <td>JNM Super Market appears to be more of a conve...</td>\n",
       "      <td>2</td>\n",
       "      <td>0.0129</td>\n",
       "    </tr>\n",
       "  </tbody>\n",
       "</table>\n",
       "</div>"
      ],
      "text/plain": [
       "                                         Name  Human Score  \\\n",
       "0                            The Fresh Market          8.0   \n",
       "1  The Ancient Olive Gourmet of Winter Garden          8.0   \n",
       "2             Seriously Great Market Solution          1.0   \n",
       "3                           Tn Food & Grocery          4.0   \n",
       "4                            Holson's Produce          5.0   \n",
       "5                                 Suns Market          3.0   \n",
       "6                                    SC Foods          4.0   \n",
       "7              Colonial Grocery Deli & Bodega          6.5   \n",
       "8                                Trader Joe's          4.0   \n",
       "9                            JNM Super Market          1.0   \n",
       "\n",
       "                                         Human Notes  \\\n",
       "0  Local market with a focus on gourmet. Several ...   \n",
       "1  Gourmet pantry with a honey pantry section. Mi...   \n",
       "2                              No reviews or website   \n",
       "3                                No focus on gourmet   \n",
       "4                              No website but maybe.   \n",
       "5  Family owned so that's a plus, but gas station...   \n",
       "6  I don't know what this is but there's no focus...   \n",
       "7  Ethnic market. Strong focus on local. No clear...   \n",
       "8                  Massive chain. Too much red tape.   \n",
       "9                                      Gas station.    \n",
       "\n",
       "                      Place ID  \\\n",
       "0  ChIJmb6kSDZ_54gRowDRme47G0k   \n",
       "1  ChIJyZdkgPuD54gRqtF-E30N4x0   \n",
       "2  ChIJu9MkmVF_54gRwZIoka6RoQk   \n",
       "3  ChIJmfVTDG2D54gRFdvotMCET7U   \n",
       "4  ChIJo5_x_gV554gRp3F5Ml9JGxY   \n",
       "5  ChIJwVN3bHOD54gRSlij1UhudVc   \n",
       "6  ChIJ2esYs3yP54gRAarbKINxxME   \n",
       "7  ChIJEaAcVKx554gRbVLiyDDehHI   \n",
       "8  ChIJbeFK_p5_54gRGvfzUjKvlFA   \n",
       "9  ChIJIxxg6f9-54gRVzC_PSR-wn8   \n",
       "\n",
       "                                     GPT Description  GPT Score  GPT Cost ($)  \n",
       "0  The Fresh Market appears to be an excellent ma...          9        0.0186  \n",
       "1  The Ancient Olive Gourmet of Winter Garden is ...          9        0.0156  \n",
       "2  Seriously Great Market Solution is listed as a...          2        0.0056  \n",
       "3  Tn Food & Grocery has a community-focused atmo...          5        0.0157  \n",
       "4  Holson's Produce appears to be a well-regarded...          7        0.0135  \n",
       "5  Suns Market appears to be a small, local groce...          3        0.0150  \n",
       "6  SC Foods is listed as a 'Grocery store' withou...          2        0.0059  \n",
       "7  Colonial Grocery Deli & Bodega has a high cust...          6        0.0135  \n",
       "8  Trader Joe's has a strong reputation for quali...          7        0.0231  \n",
       "9  JNM Super Market appears to be more of a conve...          2        0.0129  "
      ]
     },
     "execution_count": 23,
     "metadata": {},
     "output_type": "execute_result"
    }
   ],
   "source": [
    "benchmark_results = pd.merge(human_scores,gpt_results,how='left',left_on='Name',right_on='Store Name').drop(\"Store Name\",axis=1)\n",
    "benchmark_results"
   ]
  },
  {
   "cell_type": "markdown",
   "id": "d4ffd87d-9f6a-4854-83be-d4cfb293790e",
   "metadata": {},
   "source": [
    "#### Export"
   ]
  },
  {
   "cell_type": "code",
   "execution_count": 18,
   "id": "5b68b7ab-ee2f-4fd3-986a-91996ce788a4",
   "metadata": {},
   "outputs": [
    {
     "name": "stdout",
     "output_type": "stream",
     "text": [
      "DONE\n"
     ]
    }
   ],
   "source": [
    "benchmark_results.to_csv('./Results/benchmark_results.csv',index=False)\n",
    "print(\"DONE\")"
   ]
  },
  {
   "cell_type": "markdown",
   "id": "3f4d8aa0-a04f-4217-b479-6bc521a88184",
   "metadata": {},
   "source": [
    "## Print to Screen"
   ]
  },
  {
   "cell_type": "code",
   "execution_count": 26,
   "id": "3ca35528-6873-4c21-8470-dae4292482a3",
   "metadata": {},
   "outputs": [
    {
     "data": {
      "text/html": [
       "<strong>Name:</strong> The Fresh Market"
      ],
      "text/plain": [
       "<IPython.core.display.HTML object>"
      ]
     },
     "metadata": {},
     "output_type": "display_data"
    },
    {
     "name": "stdout",
     "output_type": "stream",
     "text": [
      "\n",
      "\n"
     ]
    },
    {
     "data": {
      "text/html": [
       "<strong>GPT Compatibility Score:</strong> 9.0"
      ],
      "text/plain": [
       "<IPython.core.display.HTML object>"
      ]
     },
     "metadata": {},
     "output_type": "display_data"
    },
    {
     "data": {
      "text/html": [
       "<strong>GPT Description:</strong> The Fresh Market appears to be an excellent match for your high-quality, mono-floral honey. With its upscale positioning, focus on gourmet grocery items, and a clientele that appreciates local and organic products, it aligns well with your product offering. The store's high rating and reviews indicate a satisfied customer base that values quality, which is consistent with your brand. The only reason it does not receive a perfect score is due to the potential for other high-quality competitors in the store, which could affect visibility and sales of your product."
      ],
      "text/plain": [
       "<IPython.core.display.HTML object>"
      ]
     },
     "metadata": {},
     "output_type": "display_data"
    },
    {
     "name": "stdout",
     "output_type": "stream",
     "text": [
      "\n",
      "\n"
     ]
    },
    {
     "data": {
      "text/html": [
       "<strong>Human Compatibility Score:</strong> 8.0"
      ],
      "text/plain": [
       "<IPython.core.display.HTML object>"
      ]
     },
     "metadata": {},
     "output_type": "display_data"
    },
    {
     "data": {
      "text/html": [
       "<strong>Human Description:</strong> Local market with a focus on gourmet. Several locations, which may mean lots of procedures"
      ],
      "text/plain": [
       "<IPython.core.display.HTML object>"
      ]
     },
     "metadata": {},
     "output_type": "display_data"
    },
    {
     "name": "stdout",
     "output_type": "stream",
     "text": [
      "\n",
      "\n"
     ]
    },
    {
     "data": {
      "text/html": [
       "<strong>GPT Cost =</strong> $0.019"
      ],
      "text/plain": [
       "<IPython.core.display.HTML object>"
      ]
     },
     "metadata": {},
     "output_type": "display_data"
    },
    {
     "name": "stdout",
     "output_type": "stream",
     "text": [
      "\n",
      "\n",
      "\n"
     ]
    },
    {
     "data": {
      "text/html": [
       "<strong>Name:</strong> The Ancient Olive Gourmet of Winter Garden"
      ],
      "text/plain": [
       "<IPython.core.display.HTML object>"
      ]
     },
     "metadata": {},
     "output_type": "display_data"
    },
    {
     "name": "stdout",
     "output_type": "stream",
     "text": [
      "\n",
      "\n"
     ]
    },
    {
     "data": {
      "text/html": [
       "<strong>GPT Compatibility Score:</strong> 9.0"
      ],
      "text/plain": [
       "<IPython.core.display.HTML object>"
      ]
     },
     "metadata": {},
     "output_type": "display_data"
    },
    {
     "data": {
      "text/html": [
       "<strong>GPT Description:</strong> The Ancient Olive Gourmet of Winter Garden is highly compatible with your high-quality, mono-floral honey. As a gourmet grocery store with a 4.8 rating, it focuses on premium food items and has a clientele that appreciates gourmet and artisanal products. The store's selection of olive oils, vinegars, and other gourmet items, as well as the customer reviews, suggest a discerning customer base that values quality and could be interested in unique, small-batch products like your honey. The store's willingness to feature a variety of gourmet products and the positive feedback on customer service indicate a supportive environment for local suppliers. The score is not a perfect 10 because there is no direct evidence of the store currently stocking honey or similar products, but the overall fit seems very promising."
      ],
      "text/plain": [
       "<IPython.core.display.HTML object>"
      ]
     },
     "metadata": {},
     "output_type": "display_data"
    },
    {
     "name": "stdout",
     "output_type": "stream",
     "text": [
      "\n",
      "\n"
     ]
    },
    {
     "data": {
      "text/html": [
       "<strong>Human Compatibility Score:</strong> 8.0"
      ],
      "text/plain": [
       "<IPython.core.display.HTML object>"
      ]
     },
     "metadata": {},
     "output_type": "display_data"
    },
    {
     "data": {
      "text/html": [
       "<strong>Human Description:</strong> Gourmet pantry with a honey pantry section. Might be online only."
      ],
      "text/plain": [
       "<IPython.core.display.HTML object>"
      ]
     },
     "metadata": {},
     "output_type": "display_data"
    },
    {
     "name": "stdout",
     "output_type": "stream",
     "text": [
      "\n",
      "\n"
     ]
    },
    {
     "data": {
      "text/html": [
       "<strong>GPT Cost =</strong> $0.016"
      ],
      "text/plain": [
       "<IPython.core.display.HTML object>"
      ]
     },
     "metadata": {},
     "output_type": "display_data"
    },
    {
     "name": "stdout",
     "output_type": "stream",
     "text": [
      "\n",
      "\n",
      "\n"
     ]
    },
    {
     "data": {
      "text/html": [
       "<strong>Name:</strong> Seriously Great Market Solution"
      ],
      "text/plain": [
       "<IPython.core.display.HTML object>"
      ]
     },
     "metadata": {},
     "output_type": "display_data"
    },
    {
     "name": "stdout",
     "output_type": "stream",
     "text": [
      "\n",
      "\n"
     ]
    },
    {
     "data": {
      "text/html": [
       "<strong>GPT Compatibility Score:</strong> 2.0"
      ],
      "text/plain": [
       "<IPython.core.display.HTML object>"
      ]
     },
     "metadata": {},
     "output_type": "display_data"
    },
    {
     "data": {
      "text/html": [
       "<strong>GPT Description:</strong> Seriously Great Market Solution is listed as a 'Grocery store' but lacks detailed information about its specialization in gourmet or small business products. There is no available data on their offerings, highlights, or customer reviews that could indicate a focus on high-quality or artisanal items. The absence of a website and description in the provided data makes it difficult to assess their compatibility with a specialty honey product. Therefore, the compatibility score is low."
      ],
      "text/plain": [
       "<IPython.core.display.HTML object>"
      ]
     },
     "metadata": {},
     "output_type": "display_data"
    },
    {
     "name": "stdout",
     "output_type": "stream",
     "text": [
      "\n",
      "\n"
     ]
    },
    {
     "data": {
      "text/html": [
       "<strong>Human Compatibility Score:</strong> 1.0"
      ],
      "text/plain": [
       "<IPython.core.display.HTML object>"
      ]
     },
     "metadata": {},
     "output_type": "display_data"
    },
    {
     "data": {
      "text/html": [
       "<strong>Human Description:</strong> No reviews or website"
      ],
      "text/plain": [
       "<IPython.core.display.HTML object>"
      ]
     },
     "metadata": {},
     "output_type": "display_data"
    },
    {
     "name": "stdout",
     "output_type": "stream",
     "text": [
      "\n",
      "\n"
     ]
    },
    {
     "data": {
      "text/html": [
       "<strong>GPT Cost =</strong> $0.006"
      ],
      "text/plain": [
       "<IPython.core.display.HTML object>"
      ]
     },
     "metadata": {},
     "output_type": "display_data"
    },
    {
     "name": "stdout",
     "output_type": "stream",
     "text": [
      "\n",
      "\n",
      "\n"
     ]
    },
    {
     "data": {
      "text/html": [
       "<strong>Name:</strong> Tn Food & Grocery"
      ],
      "text/plain": [
       "<IPython.core.display.HTML object>"
      ]
     },
     "metadata": {},
     "output_type": "display_data"
    },
    {
     "name": "stdout",
     "output_type": "stream",
     "text": [
      "\n",
      "\n"
     ]
    },
    {
     "data": {
      "text/html": [
       "<strong>GPT Compatibility Score:</strong> 5.0"
      ],
      "text/plain": [
       "<IPython.core.display.HTML object>"
      ]
     },
     "metadata": {},
     "output_type": "display_data"
    },
    {
     "data": {
      "text/html": [
       "<strong>GPT Description:</strong> Tn Food & Grocery has a community-focused atmosphere with a 4.3 rating, suggesting a positive local reputation. The reviews highlight friendly staff and a well-organized store, which could be conducive to showcasing specialty products like high-quality honey. However, the store is categorized simply as a 'Grocery store' with no specific mention of gourmet or artisanal product offerings. The lack of information on whether they specialize in curating gourmet food products from small businesses leads to a middle-of-the-road score. A direct inquiry with the store would be necessary to determine if they would be interested in stocking a specialty item like mono-floral honey."
      ],
      "text/plain": [
       "<IPython.core.display.HTML object>"
      ]
     },
     "metadata": {},
     "output_type": "display_data"
    },
    {
     "name": "stdout",
     "output_type": "stream",
     "text": [
      "\n",
      "\n"
     ]
    },
    {
     "data": {
      "text/html": [
       "<strong>Human Compatibility Score:</strong> 4.0"
      ],
      "text/plain": [
       "<IPython.core.display.HTML object>"
      ]
     },
     "metadata": {},
     "output_type": "display_data"
    },
    {
     "data": {
      "text/html": [
       "<strong>Human Description:</strong> No focus on gourmet"
      ],
      "text/plain": [
       "<IPython.core.display.HTML object>"
      ]
     },
     "metadata": {},
     "output_type": "display_data"
    },
    {
     "name": "stdout",
     "output_type": "stream",
     "text": [
      "\n",
      "\n"
     ]
    },
    {
     "data": {
      "text/html": [
       "<strong>GPT Cost =</strong> $0.016"
      ],
      "text/plain": [
       "<IPython.core.display.HTML object>"
      ]
     },
     "metadata": {},
     "output_type": "display_data"
    },
    {
     "name": "stdout",
     "output_type": "stream",
     "text": [
      "\n",
      "\n",
      "\n"
     ]
    },
    {
     "data": {
      "text/html": [
       "<strong>Name:</strong> Holson's Produce"
      ],
      "text/plain": [
       "<IPython.core.display.HTML object>"
      ]
     },
     "metadata": {},
     "output_type": "display_data"
    },
    {
     "name": "stdout",
     "output_type": "stream",
     "text": [
      "\n",
      "\n"
     ]
    },
    {
     "data": {
      "text/html": [
       "<strong>GPT Compatibility Score:</strong> 7.0"
      ],
      "text/plain": [
       "<IPython.core.display.HTML object>"
      ]
     },
     "metadata": {},
     "output_type": "display_data"
    },
    {
     "data": {
      "text/html": [
       "<strong>GPT Description:</strong> Holson's Produce appears to be a well-regarded produce and meat market in Orlando, with a focus on quality products and good customer service, as indicated by the positive reviews and ratings. While it is not explicitly stated that they specialize in gourmet or artisanal products, the emphasis on quality and the variety of produce and meats suggest that they may be open to stocking high-quality, specialty items like mono-floral honey. However, the lack of information on their website and specific offerings means that further research and direct contact would be necessary to determine their interest in and compatibility with gourmet small business products. The score reflects potential compatibility based on customer appreciation for quality, but acknowledges the need for more information."
      ],
      "text/plain": [
       "<IPython.core.display.HTML object>"
      ]
     },
     "metadata": {},
     "output_type": "display_data"
    },
    {
     "name": "stdout",
     "output_type": "stream",
     "text": [
      "\n",
      "\n"
     ]
    },
    {
     "data": {
      "text/html": [
       "<strong>Human Compatibility Score:</strong> 5.0"
      ],
      "text/plain": [
       "<IPython.core.display.HTML object>"
      ]
     },
     "metadata": {},
     "output_type": "display_data"
    },
    {
     "data": {
      "text/html": [
       "<strong>Human Description:</strong> No website but maybe."
      ],
      "text/plain": [
       "<IPython.core.display.HTML object>"
      ]
     },
     "metadata": {},
     "output_type": "display_data"
    },
    {
     "name": "stdout",
     "output_type": "stream",
     "text": [
      "\n",
      "\n"
     ]
    },
    {
     "data": {
      "text/html": [
       "<strong>GPT Cost =</strong> $0.013"
      ],
      "text/plain": [
       "<IPython.core.display.HTML object>"
      ]
     },
     "metadata": {},
     "output_type": "display_data"
    },
    {
     "name": "stdout",
     "output_type": "stream",
     "text": [
      "\n",
      "\n",
      "\n"
     ]
    },
    {
     "data": {
      "text/html": [
       "<strong>Name:</strong> Suns Market"
      ],
      "text/plain": [
       "<IPython.core.display.HTML object>"
      ]
     },
     "metadata": {},
     "output_type": "display_data"
    },
    {
     "name": "stdout",
     "output_type": "stream",
     "text": [
      "\n",
      "\n"
     ]
    },
    {
     "data": {
      "text/html": [
       "<strong>GPT Compatibility Score:</strong> 3.0"
      ],
      "text/plain": [
       "<IPython.core.display.HTML object>"
      ]
     },
     "metadata": {},
     "output_type": "display_data"
    },
    {
     "data": {
      "text/html": [
       "<strong>GPT Description:</strong> Suns Market appears to be a small, local grocery store with a community presence. However, the reviews indicate that the store may not maintain the highest standards of cleanliness and may not focus on gourmet or specialty products, which could be a concern for a high-quality, mono-floral honey producer. The store's offerings seem to be more general and not specifically curated towards gourmet or artisanal products. Additionally, there is no evidence of a strong emphasis on supporting small businesses. Therefore, the compatibility score is low."
      ],
      "text/plain": [
       "<IPython.core.display.HTML object>"
      ]
     },
     "metadata": {},
     "output_type": "display_data"
    },
    {
     "name": "stdout",
     "output_type": "stream",
     "text": [
      "\n",
      "\n"
     ]
    },
    {
     "data": {
      "text/html": [
       "<strong>Human Compatibility Score:</strong> 3.0"
      ],
      "text/plain": [
       "<IPython.core.display.HTML object>"
      ]
     },
     "metadata": {},
     "output_type": "display_data"
    },
    {
     "data": {
      "text/html": [
       "<strong>Human Description:</strong> Family owned so that's a plus, but gas station vibes. No gourmet."
      ],
      "text/plain": [
       "<IPython.core.display.HTML object>"
      ]
     },
     "metadata": {},
     "output_type": "display_data"
    },
    {
     "name": "stdout",
     "output_type": "stream",
     "text": [
      "\n",
      "\n"
     ]
    },
    {
     "data": {
      "text/html": [
       "<strong>GPT Cost =</strong> $0.015"
      ],
      "text/plain": [
       "<IPython.core.display.HTML object>"
      ]
     },
     "metadata": {},
     "output_type": "display_data"
    },
    {
     "name": "stdout",
     "output_type": "stream",
     "text": [
      "\n",
      "\n",
      "\n"
     ]
    },
    {
     "data": {
      "text/html": [
       "<strong>Name:</strong> SC Foods"
      ],
      "text/plain": [
       "<IPython.core.display.HTML object>"
      ]
     },
     "metadata": {},
     "output_type": "display_data"
    },
    {
     "name": "stdout",
     "output_type": "stream",
     "text": [
      "\n",
      "\n"
     ]
    },
    {
     "data": {
      "text/html": [
       "<strong>GPT Compatibility Score:</strong> 2.0"
      ],
      "text/plain": [
       "<IPython.core.display.HTML object>"
      ]
     },
     "metadata": {},
     "output_type": "display_data"
    },
    {
     "data": {
      "text/html": [
       "<strong>GPT Description:</strong> SC Foods is listed as a 'Grocery store' without any specific mention of specializing in gourmet or artisanal products. There is no available information on whether they focus on small businesses or local products. The lack of details in the provided data such as Description, Rating, Price, Highlights, Offerings, Q_and_A, and Reviews makes it difficult to accurately assess their compatibility with a high-quality, mono-floral honey producer. Therefore, the compatibility score is low."
      ],
      "text/plain": [
       "<IPython.core.display.HTML object>"
      ]
     },
     "metadata": {},
     "output_type": "display_data"
    },
    {
     "name": "stdout",
     "output_type": "stream",
     "text": [
      "\n",
      "\n"
     ]
    },
    {
     "data": {
      "text/html": [
       "<strong>Human Compatibility Score:</strong> 4.0"
      ],
      "text/plain": [
       "<IPython.core.display.HTML object>"
      ]
     },
     "metadata": {},
     "output_type": "display_data"
    },
    {
     "data": {
      "text/html": [
       "<strong>Human Description:</strong> I don't know what this is but there's no focus on gourmet."
      ],
      "text/plain": [
       "<IPython.core.display.HTML object>"
      ]
     },
     "metadata": {},
     "output_type": "display_data"
    },
    {
     "name": "stdout",
     "output_type": "stream",
     "text": [
      "\n",
      "\n"
     ]
    },
    {
     "data": {
      "text/html": [
       "<strong>GPT Cost =</strong> $0.006"
      ],
      "text/plain": [
       "<IPython.core.display.HTML object>"
      ]
     },
     "metadata": {},
     "output_type": "display_data"
    },
    {
     "name": "stdout",
     "output_type": "stream",
     "text": [
      "\n",
      "\n",
      "\n"
     ]
    },
    {
     "data": {
      "text/html": [
       "<strong>Name:</strong> Colonial Grocery Deli & Bodega"
      ],
      "text/plain": [
       "<IPython.core.display.HTML object>"
      ]
     },
     "metadata": {},
     "output_type": "display_data"
    },
    {
     "name": "stdout",
     "output_type": "stream",
     "text": [
      "\n",
      "\n"
     ]
    },
    {
     "data": {
      "text/html": [
       "<strong>GPT Compatibility Score:</strong> 6.0"
      ],
      "text/plain": [
       "<IPython.core.display.HTML object>"
      ]
     },
     "metadata": {},
     "output_type": "display_data"
    },
    {
     "data": {
      "text/html": [
       "<strong>GPT Description:</strong> Colonial Grocery Deli & Bodega has a high customer rating and is praised for its great produce and Latin groceries. While it seems to be a popular local spot with a focus on Latin cuisine, there is no specific mention of a specialty in gourmet or artisanal products. The lack of a website and detailed description makes it difficult to assess their interest in small business products like your mono-floral honey. However, the positive reviews and community-oriented atmosphere suggest a moderate potential for partnership. A score of 6 reflects this balance between the unknowns and the positive aspects that could favor your product placement."
      ],
      "text/plain": [
       "<IPython.core.display.HTML object>"
      ]
     },
     "metadata": {},
     "output_type": "display_data"
    },
    {
     "name": "stdout",
     "output_type": "stream",
     "text": [
      "\n",
      "\n"
     ]
    },
    {
     "data": {
      "text/html": [
       "<strong>Human Compatibility Score:</strong> 6.5"
      ],
      "text/plain": [
       "<IPython.core.display.HTML object>"
      ]
     },
     "metadata": {},
     "output_type": "display_data"
    },
    {
     "data": {
      "text/html": [
       "<strong>Human Description:</strong> Ethnic market. Strong focus on local. No clear gourmet but small."
      ],
      "text/plain": [
       "<IPython.core.display.HTML object>"
      ]
     },
     "metadata": {},
     "output_type": "display_data"
    },
    {
     "name": "stdout",
     "output_type": "stream",
     "text": [
      "\n",
      "\n"
     ]
    },
    {
     "data": {
      "text/html": [
       "<strong>GPT Cost =</strong> $0.013"
      ],
      "text/plain": [
       "<IPython.core.display.HTML object>"
      ]
     },
     "metadata": {},
     "output_type": "display_data"
    },
    {
     "name": "stdout",
     "output_type": "stream",
     "text": [
      "\n",
      "\n",
      "\n"
     ]
    },
    {
     "data": {
      "text/html": [
       "<strong>Name:</strong> Trader Joe's"
      ],
      "text/plain": [
       "<IPython.core.display.HTML object>"
      ]
     },
     "metadata": {},
     "output_type": "display_data"
    },
    {
     "name": "stdout",
     "output_type": "stream",
     "text": [
      "\n",
      "\n"
     ]
    },
    {
     "data": {
      "text/html": [
       "<strong>GPT Compatibility Score:</strong> 7.0"
      ],
      "text/plain": [
       "<IPython.core.display.HTML object>"
      ]
     },
     "metadata": {},
     "output_type": "display_data"
    },
    {
     "data": {
      "text/html": [
       "<strong>GPT Description:</strong> Trader Joe's has a strong reputation for quality and customer service, as evidenced by the high rating and positive reviews. Their offerings include organic products, which aligns with the high-quality, natural aspect of the mono-floral honey produced by the family-owned apiary. However, Trader Joe's is a larger chain and may not specialize in curating gourmet food products from small businesses to the extent that a boutique grocer would. The compatibility score reflects the potential for a good partnership, but also acknowledges that there may be challenges in terms of product placement and visibility among the store's signature items and wide selection."
      ],
      "text/plain": [
       "<IPython.core.display.HTML object>"
      ]
     },
     "metadata": {},
     "output_type": "display_data"
    },
    {
     "name": "stdout",
     "output_type": "stream",
     "text": [
      "\n",
      "\n"
     ]
    },
    {
     "data": {
      "text/html": [
       "<strong>Human Compatibility Score:</strong> 4.0"
      ],
      "text/plain": [
       "<IPython.core.display.HTML object>"
      ]
     },
     "metadata": {},
     "output_type": "display_data"
    },
    {
     "data": {
      "text/html": [
       "<strong>Human Description:</strong> Massive chain. Too much red tape."
      ],
      "text/plain": [
       "<IPython.core.display.HTML object>"
      ]
     },
     "metadata": {},
     "output_type": "display_data"
    },
    {
     "name": "stdout",
     "output_type": "stream",
     "text": [
      "\n",
      "\n"
     ]
    },
    {
     "data": {
      "text/html": [
       "<strong>GPT Cost =</strong> $0.023"
      ],
      "text/plain": [
       "<IPython.core.display.HTML object>"
      ]
     },
     "metadata": {},
     "output_type": "display_data"
    },
    {
     "name": "stdout",
     "output_type": "stream",
     "text": [
      "\n",
      "\n",
      "\n"
     ]
    },
    {
     "data": {
      "text/html": [
       "<strong>Name:</strong> JNM Super Market"
      ],
      "text/plain": [
       "<IPython.core.display.HTML object>"
      ]
     },
     "metadata": {},
     "output_type": "display_data"
    },
    {
     "name": "stdout",
     "output_type": "stream",
     "text": [
      "\n",
      "\n"
     ]
    },
    {
     "data": {
      "text/html": [
       "<strong>GPT Compatibility Score:</strong> 2.0"
      ],
      "text/plain": [
       "<IPython.core.display.HTML object>"
      ]
     },
     "metadata": {},
     "output_type": "display_data"
    },
    {
     "data": {
      "text/html": [
       "<strong>GPT Description:</strong> JNM Super Market appears to be more of a convenience store with a focus on souvenirs rather than a specialized grocery store. The reviews indicate a limited selection of groceries and some dissatisfaction with the store's offerings. Given that our honey is a high-quality, gourmet product, this store may not be the best fit for our brand. The compatibility score is low because the store does not specialize in gourmet food products and may not cater to the clientele that would appreciate our mono-floral honey."
      ],
      "text/plain": [
       "<IPython.core.display.HTML object>"
      ]
     },
     "metadata": {},
     "output_type": "display_data"
    },
    {
     "name": "stdout",
     "output_type": "stream",
     "text": [
      "\n",
      "\n"
     ]
    },
    {
     "data": {
      "text/html": [
       "<strong>Human Compatibility Score:</strong> 1.0"
      ],
      "text/plain": [
       "<IPython.core.display.HTML object>"
      ]
     },
     "metadata": {},
     "output_type": "display_data"
    },
    {
     "data": {
      "text/html": [
       "<strong>Human Description:</strong> Gas station. "
      ],
      "text/plain": [
       "<IPython.core.display.HTML object>"
      ]
     },
     "metadata": {},
     "output_type": "display_data"
    },
    {
     "name": "stdout",
     "output_type": "stream",
     "text": [
      "\n",
      "\n"
     ]
    },
    {
     "data": {
      "text/html": [
       "<strong>GPT Cost =</strong> $0.013"
      ],
      "text/plain": [
       "<IPython.core.display.HTML object>"
      ]
     },
     "metadata": {},
     "output_type": "display_data"
    },
    {
     "name": "stdout",
     "output_type": "stream",
     "text": [
      "\n",
      "\n",
      "\n"
     ]
    }
   ],
   "source": [
    "for i in benchmark_results.index:\n",
    "\n",
    "    ## Parse Results\n",
    "    name = benchmark_results['Name'].loc[i]\n",
    "    \n",
    "    gpt_score = benchmark_results['GPT Score'].loc[i]\n",
    "    gpt_description = benchmark_results['GPT Description'].loc[i]\n",
    "    gpt_cost = benchmark_results['GPT Cost ($)'].loc[i]\n",
    "    \n",
    "    human_score = benchmark_results['Human Score'].loc[i]\n",
    "    human_description = benchmark_results['Human Notes'].loc[i]\n",
    "\n",
    "    ## Display with HTML formatting\n",
    "    display(HTML(f\"<strong>Name:</strong> {name}\"))\n",
    "    print(\"\\n\")\n",
    "    display(HTML(f\"<strong>GPT Compatibility Score:</strong> {float(gpt_score)}\"))\n",
    "    display(HTML(f\"<strong>GPT Description:</strong> {gpt_description}\"))\n",
    "    print(\"\\n\")\n",
    "    display(HTML(f\"<strong>Human Compatibility Score:</strong> {human_score}\"))\n",
    "    display(HTML(f\"<strong>Human Description:</strong> {human_description}\"))\n",
    "    print(\"\\n\")\n",
    "    display(HTML(f\"<strong>GPT Cost =</strong> ${gpt_cost:.3f}\"))\n",
    "    print(\"\\n\\n\")"
   ]
  },
  {
   "cell_type": "markdown",
   "id": "62cb5351-e280-4c86-9e4e-1772b4487a88",
   "metadata": {},
   "source": [
    "## That looks good, let's do it for all place data\n",
    "### There are a lot of hyperparameters to tune\n",
    "- How zoomed in the map search is (z). We want more unique place IDs where type includes \"Gourmet Grocery Store\"\n",
    "- Pagination parameter (p) which specifies how many pages to keep.\n",
    "- The initial latitude and longitudes to pass for location. How dense of a grid? Should we search high density populations first?"
   ]
  },
  {
   "cell_type": "markdown",
   "id": "106af67c-1955-4f16-a04b-7401144fced9",
   "metadata": {},
   "source": [
    "### Next: tuning hyperparameters"
   ]
  }
 ],
 "metadata": {
  "kernelspec": {
   "display_name": "Python 3 (ipykernel)",
   "language": "python",
   "name": "python3"
  },
  "language_info": {
   "codemirror_mode": {
    "name": "ipython",
    "version": 3
   },
   "file_extension": ".py",
   "mimetype": "text/x-python",
   "name": "python",
   "nbconvert_exporter": "python",
   "pygments_lexer": "ipython3",
   "version": "3.11.6"
  }
 },
 "nbformat": 4,
 "nbformat_minor": 5
}
