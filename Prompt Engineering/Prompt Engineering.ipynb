{
 "cells": [
  {
   "cell_type": "markdown",
   "id": "d74b02a2-3fbe-4c95-952e-589534bbe6f1",
   "metadata": {},
   "source": [
    "## Prompt Engineering\n",
    "- Try different prompts and formatting\n",
    "- Check results against human benchmark"
   ]
  },
  {
   "cell_type": "code",
   "execution_count": 78,
   "id": "0766fe2b-2320-46c7-9351-e71f0ca50bce",
   "metadata": {},
   "outputs": [],
   "source": [
    "import pandas as pd\n",
    "import numpy as np\n",
    "import os\n",
    "from openai import OpenAI\n",
    "import json\n",
    "from IPython.display import display, HTML\n",
    "from tqdm.notebook import tqdm"
   ]
  },
  {
   "cell_type": "markdown",
   "id": "2ad6a2b8-38c7-4247-8b24-46768d649cb0",
   "metadata": {},
   "source": [
    "## Load the Open AI API Key"
   ]
  },
  {
   "cell_type": "code",
   "execution_count": 79,
   "id": "ee7705da-222b-4d5b-9776-9cf46d017320",
   "metadata": {},
   "outputs": [
    {
     "name": "stdout",
     "output_type": "stream",
     "text": [
      "API key is loaded.\n"
     ]
    }
   ],
   "source": [
    "from dotenv import load_dotenv, find_dotenv\n",
    "_ = load_dotenv(find_dotenv()) # read local .env file\n",
    "\n",
    "api_key = os.getenv('OPENAI_API_KEY')\n",
    "\n",
    "# Check if the API key is loaded\n",
    "if api_key:\n",
    "    print(\"API key is loaded.\")\n",
    "else:\n",
    "    print(\"API key is not loaded.\")"
   ]
  },
  {
   "cell_type": "markdown",
   "id": "c5359d51-a32a-4f0f-9d35-4bb3496720b1",
   "metadata": {},
   "source": [
    "## Load the benchmark data"
   ]
  },
  {
   "cell_type": "markdown",
   "id": "a557156f-b1ca-4174-8467-02d0bec36132",
   "metadata": {},
   "source": [
    "#### Load the place results"
   ]
  },
  {
   "cell_type": "code",
   "execution_count": 80,
   "id": "a07537d9-da24-442b-91a9-4ab5a9a03f77",
   "metadata": {},
   "outputs": [
    {
     "data": {
      "text/html": [
       "<div>\n",
       "<style scoped>\n",
       "    .dataframe tbody tr th:only-of-type {\n",
       "        vertical-align: middle;\n",
       "    }\n",
       "\n",
       "    .dataframe tbody tr th {\n",
       "        vertical-align: top;\n",
       "    }\n",
       "\n",
       "    .dataframe thead th {\n",
       "        text-align: right;\n",
       "    }\n",
       "</style>\n",
       "<table border=\"1\" class=\"dataframe\">\n",
       "  <thead>\n",
       "    <tr style=\"text-align: right;\">\n",
       "      <th></th>\n",
       "      <th>Name</th>\n",
       "      <th>Place ID</th>\n",
       "      <th>Description</th>\n",
       "      <th>Website</th>\n",
       "      <th>Address</th>\n",
       "      <th>Phone</th>\n",
       "      <th>Rating</th>\n",
       "      <th>Price</th>\n",
       "      <th>Type</th>\n",
       "      <th>Highlights</th>\n",
       "      <th>Offerings</th>\n",
       "      <th>Q_and_A</th>\n",
       "      <th>Snippets</th>\n",
       "      <th>Reviews_Most_Relevant</th>\n",
       "    </tr>\n",
       "  </thead>\n",
       "  <tbody>\n",
       "    <tr>\n",
       "      <th>0</th>\n",
       "      <td>The Fresh Market</td>\n",
       "      <td>ChIJmb6kSDZ_54gRowDRme47G0k</td>\n",
       "      <td>Upscale grocery store chain with an old-world ...</td>\n",
       "      <td>https://stores.thefreshmarket.com/fl/orlando/38</td>\n",
       "      <td>5000 Dr Phillips Blvd, Orlando, FL 32819</td>\n",
       "      <td>(407) 294-1516</td>\n",
       "      <td>4.5</td>\n",
       "      <td>$$$</td>\n",
       "      <td>['Grocery store', 'American grocery store', 'B...</td>\n",
       "      <td>Great produce</td>\n",
       "      <td>Organic products</td>\n",
       "      <td>[{'question': {'user': {'name': 'Anita Caragan...</td>\n",
       "      <td>[{'snippet': '\"Exclusive place to buy good foo...</td>\n",
       "      <td>[{'username': 'Scott Ziegler', 'rating': 5, 'd...</td>\n",
       "    </tr>\n",
       "    <tr>\n",
       "      <th>1</th>\n",
       "      <td>The Ancient Olive Gourmet of Winter Garden</td>\n",
       "      <td>ChIJyZdkgPuD54gRqtF-E30N4x0</td>\n",
       "      <td>NaN</td>\n",
       "      <td>http://www.theancientolive.com/</td>\n",
       "      <td>125 W Plant St, Winter Garden, FL 34787</td>\n",
       "      <td>(407) 656-6457</td>\n",
       "      <td>4.8</td>\n",
       "      <td>NaN</td>\n",
       "      <td>['Gourmet grocery store']</td>\n",
       "      <td>NaN</td>\n",
       "      <td>NaN</td>\n",
       "      <td>[]</td>\n",
       "      <td>[{'snippet': '\"It is good with any kind of foo...</td>\n",
       "      <td>[{'username': 'Mesh G', 'rating': 5, 'descript...</td>\n",
       "    </tr>\n",
       "    <tr>\n",
       "      <th>2</th>\n",
       "      <td>Seriously Great Market Solution</td>\n",
       "      <td>ChIJu9MkmVF_54gRwZIoka6RoQk</td>\n",
       "      <td>NaN</td>\n",
       "      <td>NaN</td>\n",
       "      <td>8815 Conroy Windermere Rd # 35, Orlando, FL 32835</td>\n",
       "      <td>(321) 251-6383</td>\n",
       "      <td>NaN</td>\n",
       "      <td>NaN</td>\n",
       "      <td>['Grocery store']</td>\n",
       "      <td>NaN</td>\n",
       "      <td>NaN</td>\n",
       "      <td>[]</td>\n",
       "      <td>NaN</td>\n",
       "      <td>[]</td>\n",
       "    </tr>\n",
       "    <tr>\n",
       "      <th>3</th>\n",
       "      <td>Tn Food &amp; Grocery</td>\n",
       "      <td>ChIJmfVTDG2D54gRFdvotMCET7U</td>\n",
       "      <td>NaN</td>\n",
       "      <td>http://tn-food-grocery.keeq.io/</td>\n",
       "      <td>66 S Dillard St, Winter Garden, FL 34787</td>\n",
       "      <td>(407) 656-1551</td>\n",
       "      <td>4.3</td>\n",
       "      <td>NaN</td>\n",
       "      <td>['Grocery store']</td>\n",
       "      <td>NaN</td>\n",
       "      <td>NaN</td>\n",
       "      <td>[{'question': {'user': {'name': 'keycha “ ” vi...</td>\n",
       "      <td>[{'snippet': '\"Very friendly staff and the pla...</td>\n",
       "      <td>[{'username': 'Tara G.', 'rating': 5, 'descrip...</td>\n",
       "    </tr>\n",
       "    <tr>\n",
       "      <th>4</th>\n",
       "      <td>SC Foods</td>\n",
       "      <td>ChIJ2esYs3yP54gRAarbKINxxME</td>\n",
       "      <td>NaN</td>\n",
       "      <td>https://alisanc.com/contact-us/</td>\n",
       "      <td>15701 State Rte 50, Clermont, FL 34711, United...</td>\n",
       "      <td>+1 407-347-8135</td>\n",
       "      <td>NaN</td>\n",
       "      <td>NaN</td>\n",
       "      <td>['Grocery store']</td>\n",
       "      <td>NaN</td>\n",
       "      <td>NaN</td>\n",
       "      <td>[]</td>\n",
       "      <td>NaN</td>\n",
       "      <td>[]</td>\n",
       "    </tr>\n",
       "    <tr>\n",
       "      <th>5</th>\n",
       "      <td>Holson's Produce</td>\n",
       "      <td>ChIJo5_x_gV554gRp3F5Ml9JGxY</td>\n",
       "      <td>NaN</td>\n",
       "      <td>NaN</td>\n",
       "      <td>5853 Old Winter Garden Rd, Orlando, FL 32835</td>\n",
       "      <td>(407) 292-5678</td>\n",
       "      <td>4.1</td>\n",
       "      <td>NaN</td>\n",
       "      <td>['Produce market', 'Meat wholesaler', 'Produce...</td>\n",
       "      <td>NaN</td>\n",
       "      <td>NaN</td>\n",
       "      <td>[]</td>\n",
       "      <td>[{'snippet': '\"Service is good, food is good.....</td>\n",
       "      <td>[{'username': 'Angelo M', 'rating': 5, 'descri...</td>\n",
       "    </tr>\n",
       "    <tr>\n",
       "      <th>6</th>\n",
       "      <td>Suns Market</td>\n",
       "      <td>ChIJwVN3bHOD54gRSlij1UhudVc</td>\n",
       "      <td>NaN</td>\n",
       "      <td>NaN</td>\n",
       "      <td>523 S Dillard St, Winter Garden, FL 34787</td>\n",
       "      <td>(407) 877-3020</td>\n",
       "      <td>4.0</td>\n",
       "      <td>NaN</td>\n",
       "      <td>['Grocery store']</td>\n",
       "      <td>NaN</td>\n",
       "      <td>NaN</td>\n",
       "      <td>[{'question': {'user': {'name': 'Kelly Pounds'...</td>\n",
       "      <td>[{'snippet': '\"Nice experience prices a little...</td>\n",
       "      <td>[{'username': \"Dad's Home Movies\", 'rating': 2...</td>\n",
       "    </tr>\n",
       "    <tr>\n",
       "      <th>7</th>\n",
       "      <td>Colonial Grocery Deli &amp; Bodega</td>\n",
       "      <td>ChIJEaAcVKx554gRbVLiyDDehHI</td>\n",
       "      <td>NaN</td>\n",
       "      <td>NaN</td>\n",
       "      <td>6339 W Colonial Dr, Orlando, FL 32818</td>\n",
       "      <td>(407) 296-9955</td>\n",
       "      <td>4.7</td>\n",
       "      <td>NaN</td>\n",
       "      <td>['Grocery store']</td>\n",
       "      <td>Great produce</td>\n",
       "      <td>NaN</td>\n",
       "      <td>[]</td>\n",
       "      <td>[{'snippet': '\"Very good food! and great choic...</td>\n",
       "      <td>[{'username': 'Robert Brown', 'rating': 5, 'de...</td>\n",
       "    </tr>\n",
       "    <tr>\n",
       "      <th>8</th>\n",
       "      <td>Trader Joe's</td>\n",
       "      <td>ChIJbeFK_p5_54gRGvfzUjKvlFA</td>\n",
       "      <td>Grocery chain with a variety of signature item...</td>\n",
       "      <td>https://locations.traderjoes.com/fl/orlando/76...</td>\n",
       "      <td>8323 Sand Lake Rd, Orlando, FL 32819</td>\n",
       "      <td>(407) 345-0611</td>\n",
       "      <td>4.7</td>\n",
       "      <td>$$</td>\n",
       "      <td>['Grocery store', 'Cheese shop', 'Fresh food m...</td>\n",
       "      <td>Great produce</td>\n",
       "      <td>Organic products</td>\n",
       "      <td>[{'question': {'user': {'name': 'ed m', 'link'...</td>\n",
       "      <td>[{'snippet': '\"Great selection, great meats, g...</td>\n",
       "      <td>[{'username': 'Richard Yu', 'rating': 5, 'desc...</td>\n",
       "    </tr>\n",
       "    <tr>\n",
       "      <th>9</th>\n",
       "      <td>JNM Super Market</td>\n",
       "      <td>ChIJIxxg6f9-54gRVzC_PSR-wn8</td>\n",
       "      <td>NaN</td>\n",
       "      <td>NaN</td>\n",
       "      <td>7521 International Dr, Orlando, FL 32819</td>\n",
       "      <td>(407) 592-4748</td>\n",
       "      <td>3.3</td>\n",
       "      <td>NaN</td>\n",
       "      <td>['Grocery store', 'Beer store', 'Convenience s...</td>\n",
       "      <td>NaN</td>\n",
       "      <td>NaN</td>\n",
       "      <td>[{'question': {'user': {'name': 'LINDA RUPP', ...</td>\n",
       "      <td>[{'snippet': '\"Great selection and good qualit...</td>\n",
       "      <td>[{'username': 'Anthony Barney', 'rating': 1, '...</td>\n",
       "    </tr>\n",
       "  </tbody>\n",
       "</table>\n",
       "</div>"
      ],
      "text/plain": [
       "                                         Name                     Place ID  \\\n",
       "0                            The Fresh Market  ChIJmb6kSDZ_54gRowDRme47G0k   \n",
       "1  The Ancient Olive Gourmet of Winter Garden  ChIJyZdkgPuD54gRqtF-E30N4x0   \n",
       "2             Seriously Great Market Solution  ChIJu9MkmVF_54gRwZIoka6RoQk   \n",
       "3                           Tn Food & Grocery  ChIJmfVTDG2D54gRFdvotMCET7U   \n",
       "4                                    SC Foods  ChIJ2esYs3yP54gRAarbKINxxME   \n",
       "5                            Holson's Produce  ChIJo5_x_gV554gRp3F5Ml9JGxY   \n",
       "6                                 Suns Market  ChIJwVN3bHOD54gRSlij1UhudVc   \n",
       "7              Colonial Grocery Deli & Bodega  ChIJEaAcVKx554gRbVLiyDDehHI   \n",
       "8                                Trader Joe's  ChIJbeFK_p5_54gRGvfzUjKvlFA   \n",
       "9                            JNM Super Market  ChIJIxxg6f9-54gRVzC_PSR-wn8   \n",
       "\n",
       "                                         Description  \\\n",
       "0  Upscale grocery store chain with an old-world ...   \n",
       "1                                                NaN   \n",
       "2                                                NaN   \n",
       "3                                                NaN   \n",
       "4                                                NaN   \n",
       "5                                                NaN   \n",
       "6                                                NaN   \n",
       "7                                                NaN   \n",
       "8  Grocery chain with a variety of signature item...   \n",
       "9                                                NaN   \n",
       "\n",
       "                                             Website  \\\n",
       "0    https://stores.thefreshmarket.com/fl/orlando/38   \n",
       "1                    http://www.theancientolive.com/   \n",
       "2                                                NaN   \n",
       "3                    http://tn-food-grocery.keeq.io/   \n",
       "4                    https://alisanc.com/contact-us/   \n",
       "5                                                NaN   \n",
       "6                                                NaN   \n",
       "7                                                NaN   \n",
       "8  https://locations.traderjoes.com/fl/orlando/76...   \n",
       "9                                                NaN   \n",
       "\n",
       "                                             Address            Phone  Rating  \\\n",
       "0           5000 Dr Phillips Blvd, Orlando, FL 32819   (407) 294-1516     4.5   \n",
       "1            125 W Plant St, Winter Garden, FL 34787   (407) 656-6457     4.8   \n",
       "2  8815 Conroy Windermere Rd # 35, Orlando, FL 32835   (321) 251-6383     NaN   \n",
       "3           66 S Dillard St, Winter Garden, FL 34787   (407) 656-1551     4.3   \n",
       "4  15701 State Rte 50, Clermont, FL 34711, United...  +1 407-347-8135     NaN   \n",
       "5       5853 Old Winter Garden Rd, Orlando, FL 32835   (407) 292-5678     4.1   \n",
       "6          523 S Dillard St, Winter Garden, FL 34787   (407) 877-3020     4.0   \n",
       "7              6339 W Colonial Dr, Orlando, FL 32818   (407) 296-9955     4.7   \n",
       "8               8323 Sand Lake Rd, Orlando, FL 32819   (407) 345-0611     4.7   \n",
       "9           7521 International Dr, Orlando, FL 32819   (407) 592-4748     3.3   \n",
       "\n",
       "  Price                                               Type     Highlights  \\\n",
       "0   $$$  ['Grocery store', 'American grocery store', 'B...  Great produce   \n",
       "1   NaN                          ['Gourmet grocery store']            NaN   \n",
       "2   NaN                                  ['Grocery store']            NaN   \n",
       "3   NaN                                  ['Grocery store']            NaN   \n",
       "4   NaN                                  ['Grocery store']            NaN   \n",
       "5   NaN  ['Produce market', 'Meat wholesaler', 'Produce...            NaN   \n",
       "6   NaN                                  ['Grocery store']            NaN   \n",
       "7   NaN                                  ['Grocery store']  Great produce   \n",
       "8    $$  ['Grocery store', 'Cheese shop', 'Fresh food m...  Great produce   \n",
       "9   NaN  ['Grocery store', 'Beer store', 'Convenience s...            NaN   \n",
       "\n",
       "          Offerings                                            Q_and_A  \\\n",
       "0  Organic products  [{'question': {'user': {'name': 'Anita Caragan...   \n",
       "1               NaN                                                 []   \n",
       "2               NaN                                                 []   \n",
       "3               NaN  [{'question': {'user': {'name': 'keycha “ ” vi...   \n",
       "4               NaN                                                 []   \n",
       "5               NaN                                                 []   \n",
       "6               NaN  [{'question': {'user': {'name': 'Kelly Pounds'...   \n",
       "7               NaN                                                 []   \n",
       "8  Organic products  [{'question': {'user': {'name': 'ed m', 'link'...   \n",
       "9               NaN  [{'question': {'user': {'name': 'LINDA RUPP', ...   \n",
       "\n",
       "                                            Snippets  \\\n",
       "0  [{'snippet': '\"Exclusive place to buy good foo...   \n",
       "1  [{'snippet': '\"It is good with any kind of foo...   \n",
       "2                                                NaN   \n",
       "3  [{'snippet': '\"Very friendly staff and the pla...   \n",
       "4                                                NaN   \n",
       "5  [{'snippet': '\"Service is good, food is good.....   \n",
       "6  [{'snippet': '\"Nice experience prices a little...   \n",
       "7  [{'snippet': '\"Very good food! and great choic...   \n",
       "8  [{'snippet': '\"Great selection, great meats, g...   \n",
       "9  [{'snippet': '\"Great selection and good qualit...   \n",
       "\n",
       "                               Reviews_Most_Relevant  \n",
       "0  [{'username': 'Scott Ziegler', 'rating': 5, 'd...  \n",
       "1  [{'username': 'Mesh G', 'rating': 5, 'descript...  \n",
       "2                                                 []  \n",
       "3  [{'username': 'Tara G.', 'rating': 5, 'descrip...  \n",
       "4                                                 []  \n",
       "5  [{'username': 'Angelo M', 'rating': 5, 'descri...  \n",
       "6  [{'username': \"Dad's Home Movies\", 'rating': 2...  \n",
       "7  [{'username': 'Robert Brown', 'rating': 5, 'de...  \n",
       "8  [{'username': 'Richard Yu', 'rating': 5, 'desc...  \n",
       "9  [{'username': 'Anthony Barney', 'rating': 1, '...  "
      ]
     },
     "execution_count": 80,
     "metadata": {},
     "output_type": "execute_result"
    }
   ],
   "source": [
    "benchmark_place_results = pd.read_csv('./Data/benchmark_input.csv')\n",
    "benchmark_place_results"
   ]
  },
  {
   "cell_type": "markdown",
   "id": "494f699e-d65d-47e2-8c7b-acf01261c54e",
   "metadata": {},
   "source": [
    "#### Separate a single record for prompt engineering"
   ]
  },
  {
   "cell_type": "code",
   "execution_count": 81,
   "id": "396c2e68-5ed5-4bd7-8d23-a0613c4c1b66",
   "metadata": {},
   "outputs": [
    {
     "data": {
      "text/plain": [
       "'{\"Name\":\"The Fresh Market\",\"Description\":\"Upscale grocery store chain with an old-world vibe offers local produce, prepared eats, wine & more.\",\"Website\":\"https:\\\\/\\\\/stores.thefreshmarket.com\\\\/fl\\\\/orlando\\\\/38\",\"Address\":\"5000 Dr Phillips Blvd, Orlando, FL 32819\",\"Phone\":\"(407) 294-1516\",\"Rating\":4.5,\"Price\":\"$$$\",\"Type\":[\"Grocery store\",\"American grocery store\",\"Bakery\",\"Butcher shop\",\"Fruit and vegetable store\",\"Gourmet grocery store\",\"Market\",\"Organic food store\",\"Produce market\",\"Supermarket\"],\"Highlights\":\"Great produce\",\"Offerings\":\"Organic products\",\"Q_and_A\":[{\"question\":{\"user\":{\"name\":\"Anita Caragan\",\"link\":\"https:\\\\/\\\\/www.google.com\\\\/maps\\\\/contrib\\\\/113357052055774270348\",\"thumbnail\":\"https:\\\\/\\\\/lh3.googleusercontent.com\\\\/a\\\\/ACg8ocKdK8_h2Q72RjHiQIaBRzydgHNYXF_L4fVzUnKZqkzr=s120-c-rp-mo-br100\"},\"text\":\"Do you have bake chicken?\",\"date\":\"4 years ago\",\"language\":\"en\"},\"answer\":{\"user\":{\"name\":\"Jeanne M\",\"link\":\"https:\\\\/\\\\/www.google.com\\\\/maps\\\\/contrib\\\\/103273231700736606425\",\"thumbnail\":\"https:\\\\/\\\\/lh3.googleusercontent.com\\\\/a-\\\\/ALV-UjV1dxAWbPQ3Hw4yKJqSD6JTjsAO3KK2rwa8j93c3LoWWeQd=s120-c-rp-mo-ba6-br100\"},\"text\":\"Yes they do.\",\"date\":\"2 years ago\",\"language\":\"en\"}}],\"Snippets\":[{\"snippet\":\"\\\\\"Exclusive place to buy good food, prices are what you expect, and quality meals.\\\\\"\"},{\"snippet\":\"\\\\\"Nice staff, pretty good selection of groceries available, $$$$\\\\\"\"},{\"snippet\":\"\\\\\"Good variety of produce, meat, sea food, cheeses and deli.\\\\\"\"}],\"Reviews_Most_Relevant\":[{\"username\":\"Scott Ziegler\",\"rating\":5,\"description\":\"Fresh Market is my #1\\\\nMy top 5 grocery stores in the Dr Phillips\\\\/SW Orlando area: no\\\\n\\\\nThe Fresh Market is my favorite all around grocery store in DP\\\\/SW Orlando based on product assortment\\\\/selection and quality\\\\/ freshness, customer orientation\\\\/service, value offers, shopping pleasure and parking convenience.\\\\n\\\\nClose 2nd and 3rd are Publix in the Cascades of Islesworth and Traders Joe\\\\u2019s.\\\\n\\\\nNot too far behind are Walmart Neighborhood Market and Publix O Town West\\\\n\\\\nNot in:  Winn Dixie, Whole Foods, Publix Plaza Venitzia, Sprouts, Publix Dr Phillips Marketplace\\\\n\\\\nWhat do you think?\",\"date\":\"5 days ago\"},{\"username\":\"Jack Shekinah\",\"rating\":5,\"description\":\"Beautiful place to shop! I just enjoyed my first shopping in Orlando on this shop! Great price and great staff!\",\"date\":\"2 months ago\"},{\"username\":\"Vicki\",\"rating\":5,\"description\":\"Fresh Market in the Dr. Phillips area is truly outstanding. The facility is clean, inviting, and has a great employee team working there. Great specials and the best food quality. Kudos to Ryan. the sushi team and Kat, among so many others.\",\"date\":\"a week ago\"},{\"username\":\"Jane Walker\",\"rating\":5,\"description\":\"Everyone is exceptionally nice, there is one employee that keeps her area perfect, nuts candy, coffee , Angela ! the displays at the holiday time are great, I\\\\u2019m hoping to see something for the Super Bowl.\\\\nI love Kevin, Kat  and William in the deli, both are an asset to this company. Happy New Year!\",\"date\":\"6 days ago\"},{\"username\":\"Manal Ammagui\",\"rating\":5,\"description\":\"great supermarket that offers such a great variety if produce, meats, snacks, beverages, and ready-to-go meals. those meals are my favorite thing here, so many delicious options! the staff is nice and helpful. this location\\\\u2019s in a plaza so there\\\\u2019s good parking available but it can get pretty packed since it\\\\u2019s rather small.\",\"date\":\"a year ago\"},{\"username\":\"Catherine de Beer\",\"rating\":5,\"description\":\"Great upscale local grocery store.  They have lots of fresh to go and prepared foods as well as full service deli and meat departments, a bakery, large wine and cheese selection, and varied produce section with products not found in regular supermarkets.\\\\n\\\\nThis store has great weekly fresh meat and seafood specials, and a weekly take and make dinner offering.  They have many hard to find dried herbs and spices as well as a selection of unique grocery items and craft cooking kits and sauces.  When you\\'re looking for something different or special this is a great place to try.  If you are lucky enough to live nearby they offer occasional email coupons and updates on their specials.\",\"date\":\"3 years ago\"},{\"username\":\"George Jones\",\"rating\":4,\"description\":\"The parking lot is pretty open during the weekdays, but it gets busy during the weekend. Be sure to check their weekly flyer at the front of the store to find the best deals. Rotisserie chicken was on Sales for $5 all month! Also, can\\\\u2019t say enough about their coffee, they always have a fresh pot and a great blend!\\\\nUnfortunately, found some of there food that was recently expired and the prices are a little high. So, almost great.\",\"date\":\"4 years ago\"},{\"username\":\"Olivia\",\"rating\":5,\"description\":\"Such a lovely upscale grocery store. The choice is fantastic and the staff are even better! Always so helpful, especially Kat. Will keep coming back!\",\"date\":\"2 months ago\"}]}'"
      ]
     },
     "execution_count": 81,
     "metadata": {},
     "output_type": "execute_result"
    }
   ],
   "source": [
    "with open('./Data/test.json', 'r') as file:\n",
    "    test_json = json.load(file)\n",
    "test_json"
   ]
  },
  {
   "cell_type": "markdown",
   "id": "a0ea90c5-a4eb-4fca-a705-e07519d43fe1",
   "metadata": {},
   "source": [
    "#### Load human scores"
   ]
  },
  {
   "cell_type": "code",
   "execution_count": 82,
   "id": "a4e5c93a-5ae8-4183-8d4a-b0323791701f",
   "metadata": {},
   "outputs": [
    {
     "data": {
      "text/html": [
       "<div>\n",
       "<style scoped>\n",
       "    .dataframe tbody tr th:only-of-type {\n",
       "        vertical-align: middle;\n",
       "    }\n",
       "\n",
       "    .dataframe tbody tr th {\n",
       "        vertical-align: top;\n",
       "    }\n",
       "\n",
       "    .dataframe thead th {\n",
       "        text-align: right;\n",
       "    }\n",
       "</style>\n",
       "<table border=\"1\" class=\"dataframe\">\n",
       "  <thead>\n",
       "    <tr style=\"text-align: right;\">\n",
       "      <th></th>\n",
       "      <th>Name</th>\n",
       "      <th>Human Score</th>\n",
       "      <th>Human Notes</th>\n",
       "    </tr>\n",
       "  </thead>\n",
       "  <tbody>\n",
       "    <tr>\n",
       "      <th>0</th>\n",
       "      <td>The Fresh Market</td>\n",
       "      <td>8.0</td>\n",
       "      <td>Local market with a focus on gourmet. Several ...</td>\n",
       "    </tr>\n",
       "    <tr>\n",
       "      <th>1</th>\n",
       "      <td>The Ancient Olive Gourmet of Winter Garden</td>\n",
       "      <td>8.0</td>\n",
       "      <td>Gourmet pantry with a honey pantry section. Mi...</td>\n",
       "    </tr>\n",
       "    <tr>\n",
       "      <th>2</th>\n",
       "      <td>Seriously Great Market Solution</td>\n",
       "      <td>1.0</td>\n",
       "      <td>No reviews or website</td>\n",
       "    </tr>\n",
       "    <tr>\n",
       "      <th>3</th>\n",
       "      <td>Tn Food &amp; Grocery</td>\n",
       "      <td>4.0</td>\n",
       "      <td>No focus on gourmet</td>\n",
       "    </tr>\n",
       "    <tr>\n",
       "      <th>4</th>\n",
       "      <td>Holson's Produce</td>\n",
       "      <td>5.0</td>\n",
       "      <td>No website but maybe.</td>\n",
       "    </tr>\n",
       "    <tr>\n",
       "      <th>5</th>\n",
       "      <td>Suns Market</td>\n",
       "      <td>3.0</td>\n",
       "      <td>Family owned so that's a plus, but gas station...</td>\n",
       "    </tr>\n",
       "    <tr>\n",
       "      <th>6</th>\n",
       "      <td>SC Foods</td>\n",
       "      <td>4.0</td>\n",
       "      <td>I don't know what this is but there's no focus...</td>\n",
       "    </tr>\n",
       "    <tr>\n",
       "      <th>7</th>\n",
       "      <td>Colonial Grocery Deli &amp; Bodega</td>\n",
       "      <td>6.5</td>\n",
       "      <td>Ethnic market. Strong focus on local. No clear...</td>\n",
       "    </tr>\n",
       "    <tr>\n",
       "      <th>8</th>\n",
       "      <td>Trader Joe's</td>\n",
       "      <td>4.0</td>\n",
       "      <td>Massive chain. Too much red tape.</td>\n",
       "    </tr>\n",
       "    <tr>\n",
       "      <th>9</th>\n",
       "      <td>JNM Super Market</td>\n",
       "      <td>1.0</td>\n",
       "      <td>Gas station.</td>\n",
       "    </tr>\n",
       "  </tbody>\n",
       "</table>\n",
       "</div>"
      ],
      "text/plain": [
       "                                         Name  Human Score  \\\n",
       "0                            The Fresh Market          8.0   \n",
       "1  The Ancient Olive Gourmet of Winter Garden          8.0   \n",
       "2             Seriously Great Market Solution          1.0   \n",
       "3                           Tn Food & Grocery          4.0   \n",
       "4                            Holson's Produce          5.0   \n",
       "5                                 Suns Market          3.0   \n",
       "6                                    SC Foods          4.0   \n",
       "7              Colonial Grocery Deli & Bodega          6.5   \n",
       "8                                Trader Joe's          4.0   \n",
       "9                            JNM Super Market          1.0   \n",
       "\n",
       "                                         Human Notes  \n",
       "0  Local market with a focus on gourmet. Several ...  \n",
       "1  Gourmet pantry with a honey pantry section. Mi...  \n",
       "2                              No reviews or website  \n",
       "3                                No focus on gourmet  \n",
       "4                              No website but maybe.  \n",
       "5  Family owned so that's a plus, but gas station...  \n",
       "6  I don't know what this is but there's no focus...  \n",
       "7  Ethnic market. Strong focus on local. No clear...  \n",
       "8                  Massive chain. Too much red tape.  \n",
       "9                                      Gas station.   "
      ]
     },
     "execution_count": 82,
     "metadata": {},
     "output_type": "execute_result"
    }
   ],
   "source": [
    "human_scores = pd.read_csv('./Data/human_scores.csv')\n",
    "human_scores"
   ]
  },
  {
   "cell_type": "markdown",
   "id": "b1ca84a2-c737-4b8b-8d02-26b8d39334c6",
   "metadata": {},
   "source": [
    "## Prompt Engineering"
   ]
  },
  {
   "cell_type": "markdown",
   "id": "5d4946fd-78f0-42fc-b942-24c7134d77c1",
   "metadata": {},
   "source": [
    "### Prompt 1: Basic, Unstructured\n",
    "Relying on GPT4's NLP ability to do a better job than I would do"
   ]
  },
  {
   "cell_type": "code",
   "execution_count": 83,
   "id": "3ab96082-4151-43d3-84a0-f0bc661b792b",
   "metadata": {},
   "outputs": [],
   "source": [
    "client = OpenAI()\n",
    "\n",
    "instructions = (\"You are a helpful assistant tasked with helping us find grocery stores to stock our honey. \"\n",
    "                \"We are a fourth-generation, family-owned apiary based out of northern Florida that specializes \"\n",
    "                \"in the production of extremely high quality, mono-floral honey. We are looking for grocers that \"\n",
    "                \"specialize in curating gourmet food products, especially from small businesses such as ours. \"\n",
    "                \"Your task is to assign a compatibility score from 1-10 to the grocery store based on the {json} \"\n",
    "                \"of store data we provide. The output should be a json with the score and a short description \"\n",
    "                \"justifying why a given score was received.\")\n",
    "\n",
    "response = client.chat.completions.create(\n",
    "    model=\"gpt-4-1106-preview\",\n",
    "    temperature=0.0,\n",
    "    messages=[\n",
    "        {\"role\": \"system\", \"content\": instructions},\n",
    "        {\"role\": \"user\", \"content\": test_json}\n",
    "  ]\n",
    ")"
   ]
  },
  {
   "cell_type": "code",
   "execution_count": 84,
   "id": "145c036d-6cc2-4bcc-87e1-de6b5077870d",
   "metadata": {},
   "outputs": [
    {
     "data": {
      "text/plain": [
       "ChatCompletion(id='chatcmpl-8xOfLD97ED0juBds4IRc7WNoQFUYC', choices=[Choice(finish_reason='stop', index=0, logprobs=None, message=ChatCompletionMessage(content='```json\\n{\\n  \"Score\": 9,\\n  \"Description\": \"The Fresh Market appears to be an excellent match for your high-quality, mono-floral honey. With its upscale atmosphere, focus on gourmet and organic products, and a clientele that appreciates local and specialty foods, it aligns well with your product offering. The store\\'s high rating and reviews indicate a satisfied customer base that values quality, which is consistent with your honey\\'s premium positioning. The only reason it does not receive a perfect score is due to the potential for competition with other premium products and the need to ensure that your honey stands out in their selection.\"\\n}\\n```', role='assistant', function_call=None, tool_calls=None))], created=1709166859, model='gpt-4-1106-preview', object='chat.completion', system_fingerprint='fp_7cc080b25b', usage=CompletionUsage(completion_tokens=130, prompt_tokens=1345, total_tokens=1475))"
      ]
     },
     "execution_count": 84,
     "metadata": {},
     "output_type": "execute_result"
    }
   ],
   "source": [
    "response"
   ]
  },
  {
   "cell_type": "markdown",
   "id": "a6548679-90d7-4aa3-9b7e-c1945f2cb90d",
   "metadata": {},
   "source": [
    "#### Parse the response"
   ]
  },
  {
   "cell_type": "code",
   "execution_count": 85,
   "id": "f60f9e94-6873-4c4f-8c2b-615072d8a3e4",
   "metadata": {},
   "outputs": [],
   "source": [
    "def parse_chat_completion(response):\n",
    "    \"\"\"\n",
    "    Parses a chat completion response to extract score, description, and calculate the cost.\n",
    "\n",
    "    Args:\n",
    "    response (ChatCompletion): A response object containing the completion message and usage data.\n",
    "\n",
    "    Returns:\n",
    "    tuple: A tuple containing the score, description, and cost of the chat completion.\n",
    "    \"\"\"\n",
    "\n",
    "    # Extracting and cleaning the JSON string for score and description\n",
    "    json_response = response.choices[0].message.content\n",
    "    cleaned_json_string = json_response.strip('```json\\n').rstrip('\\n```')\n",
    "\n",
    "    # Parse the JSON string\n",
    "    data = json.loads(cleaned_json_string)\n",
    "\n",
    "    # Extracting score and description\n",
    "    score = data.get('Score')\n",
    "    description = data.get('Description')\n",
    "\n",
    "    # Cost calculation\n",
    "    cost_per_input_token = 0.01 / 1000\n",
    "    cost_per_output_token = 0.03 / 1000\n",
    "    input_tokens = response.usage.prompt_tokens\n",
    "    output_tokens = response.usage.completion_tokens\n",
    "    cost = round((input_tokens * cost_per_input_token) + (output_tokens * cost_per_output_token), 4)\n",
    "    print(\"input_tokens\",input_tokens)\n",
    "    print(\"output_tokens\",output_tokens)\n",
    "    \n",
    "    return score, description, cost\n",
    "\n",
    "# Example usage\n",
    "# Assuming 'response' is a valid ChatCompletion object\n",
    "# score, description, total_cost = analyze_chat_completion(response)\n",
    "# print(\"Score:\", score)\n",
    "# print(\"Description:\", description)\n",
    "# print(f\"Total Cost = ${total_cost:.3f}\")"
   ]
  },
  {
   "cell_type": "code",
   "execution_count": 86,
   "id": "2d325e52-3af5-419b-a0a4-5805d37b4fa4",
   "metadata": {},
   "outputs": [
    {
     "name": "stdout",
     "output_type": "stream",
     "text": [
      "input_tokens 1345\n",
      "output_tokens 130\n"
     ]
    },
    {
     "data": {
      "text/html": [
       "<strong>Score:</strong> 9"
      ],
      "text/plain": [
       "<IPython.core.display.HTML object>"
      ]
     },
     "metadata": {},
     "output_type": "display_data"
    },
    {
     "data": {
      "text/html": [
       "<strong>Description:</strong> The Fresh Market appears to be an excellent match for your high-quality, mono-floral honey. With its upscale atmosphere, focus on gourmet and organic products, and a clientele that appreciates local and specialty foods, it aligns well with your product offering. The store's high rating and reviews indicate a satisfied customer base that values quality, which is consistent with your honey's premium positioning. The only reason it does not receive a perfect score is due to the potential for competition with other premium products and the need to ensure that your honey stands out in their selection."
      ],
      "text/plain": [
       "<IPython.core.display.HTML object>"
      ]
     },
     "metadata": {},
     "output_type": "display_data"
    },
    {
     "data": {
      "text/html": [
       "<strong>GPT Cost =</strong> $0.017"
      ],
      "text/plain": [
       "<IPython.core.display.HTML object>"
      ]
     },
     "metadata": {},
     "output_type": "display_data"
    }
   ],
   "source": [
    "score, description, total_cost = parse_chat_completion(response)\n",
    "\n",
    "display(HTML(f\"<strong>Score:</strong> {score}\"))\n",
    "display(HTML(f\"<strong>Description:</strong> {description}\"))\n",
    "display(HTML(f\"<strong>GPT Cost =</strong> ${total_cost:.3f}\"))"
   ]
  },
  {
   "cell_type": "markdown",
   "id": "a9d5e730-9e4e-435a-a2e9-d13de4a1ec53",
   "metadata": {},
   "source": [
    "#### This prompt does really well, but it fails to punish large stores. "
   ]
  },
  {
   "cell_type": "markdown",
   "id": "62c2e6ca-b7ef-4d68-97ab-d3187d822a08",
   "metadata": {},
   "source": [
    "### Prompt 2: Better formatting, estimate size"
   ]
  },
  {
   "cell_type": "code",
   "execution_count": 88,
   "id": "6fea6da3-4b14-4bb3-81b8-5929bcf105d8",
   "metadata": {},
   "outputs": [],
   "source": [
    "client = OpenAI()\n",
    "\n",
    "instructions = (\n",
    "\"\"\"\n",
    "Given the details of a grocery store provided in JSON format, please evaluate the compatibility of our fourth-generation, family-owned apiary based in northern Florida with the grocery store. Our apiary specializes in producing high-quality, mono-floral honey. We are targeting small grocers that curate gourmet food products, particularly from small businesses like ours. \n",
    "\n",
    "Your task is to:\n",
    "1. Assign a compatibility score from 1 to 10, where 10 indicates the highest compatibility with our high-quality, mono-floral honey.\n",
    "2. Provide a short description justifying the assigned compatibility score. This description should be a few sentences explaining why the grocery store is considered compatible or incompatible with our product.\n",
    "3. Research and estimate the number of stores in the grocery store chain. This should be an integer value.\n",
    "\n",
    "Please format your response as a JSON object with the following fields:\n",
    "- \"Compatibility Score\": [An integer from 1 to 10 indicating the compatibility score]\n",
    "- \"Compatibility Description\": [A short description in a few sentences justifying the assigned score]\n",
    "- \"Estimated Number of Stores\": [An integer estimate of the number of stores in the chain]\n",
    "\n",
    "For example, if the provided JSON data suggests a small, gourmet-focused grocer with a strong emphasis on supporting local small businesses, and it's part of a chain with 15 stores, your output should look something like this:\n",
    "\n",
    "{\n",
    "  \"Compatibility Score\": 9,\n",
    "  \"Compatibility Description\": \"The grocer's focus on gourmet products and support for local small businesses aligns well with our apiary's high-quality, mono-floral honey, making it a highly compatible partner.\",\n",
    "  \"Estimated Number of Stores\": 15\n",
    "}\n",
    "\n",
    "Note: Do not include any extraneous information such as research notes.\n",
    "\"\"\"\n",
    ")\n",
    "\n",
    "response = client.chat.completions.create(\n",
    "    model=\"gpt-4-1106-preview\",\n",
    "    temperature=0.0,\n",
    "    messages=[\n",
    "        {\"role\": \"system\", \"content\": instructions},\n",
    "        {\"role\": \"user\", \"content\": test_json}\n",
    "  ]\n",
    ")"
   ]
  },
  {
   "cell_type": "markdown",
   "id": "467ebcd7-b950-43a4-8614-916c45a728c2",
   "metadata": {},
   "source": [
    "#### Parse the response"
   ]
  },
  {
   "cell_type": "code",
   "execution_count": 110,
   "id": "fae527a5-5734-47fd-b3e1-aedb50f4245a",
   "metadata": {},
   "outputs": [],
   "source": [
    "def parse_chat_completion_2(response):\n",
    "    \"\"\"\n",
    "    Parses a chat completion response to extract score, description, and calculate the cost.\n",
    "\n",
    "    Args:\n",
    "    response (ChatCompletion): A response object containing the completion message and usage data.\n",
    "\n",
    "    Returns:\n",
    "    tuple: A tuple containing the score, description, and cost of the chat completion.\n",
    "    \"\"\"\n",
    "\n",
    "    # Extracting and cleaning the JSON string for score and description\n",
    "    json_response = response.choices[0].message.content\n",
    "    cleaned_json_string = json_response.strip('```json\\n').rstrip('\\n```')\n",
    "\n",
    "    # Parse the JSON string\n",
    "    data = json.loads(cleaned_json_string)\n",
    "\n",
    "\n",
    "    # Extracting score and description\n",
    "    score = data.get('Compatibility Score')\n",
    "    description = data.get('Compatibility Description')\n",
    "    num_stores = data.get('Estimated Number of Stores')\n",
    "\n",
    "\n",
    "    # Cost calculation\n",
    "    cost_per_input_token = 0.01 / 1000\n",
    "    cost_per_output_token = 0.03 / 1000\n",
    "    input_tokens = response.usage.prompt_tokens\n",
    "    output_tokens = response.usage.completion_tokens\n",
    "    cost = round((input_tokens * cost_per_input_token) + (output_tokens * cost_per_output_token), 4)\n",
    "    #print(\"input_tokens\",input_tokens)\n",
    "    #print(\"output_tokens\",output_tokens)\n",
    "    \n",
    "    return score, description, num_stores, cost\n",
    "\n",
    "# Example usage\n",
    "# Assuming 'response' is a valid ChatCompletion object\n",
    "# score, description, num_stores, total_cost = analyze_chat_completion(response)\n",
    "# print(\"Score:\", score)\n",
    "# print(\"Description:\", description)\n",
    "# print(\"Estimated Number of Stores:\", num_stores)\n",
    "# print(f\"Total Cost = ${total_cost:.3f}\")"
   ]
  },
  {
   "cell_type": "code",
   "execution_count": 92,
   "id": "218fdf4d-d3f6-429d-9444-33b9f5770a23",
   "metadata": {},
   "outputs": [
    {
     "name": "stdout",
     "output_type": "stream",
     "text": [
      "input_tokens 1579\n",
      "output_tokens 107\n"
     ]
    },
    {
     "data": {
      "text/html": [
       "<strong>Score:</strong> 8"
      ],
      "text/plain": [
       "<IPython.core.display.HTML object>"
      ]
     },
     "metadata": {},
     "output_type": "display_data"
    },
    {
     "data": {
      "text/html": [
       "<strong>Description:</strong> The Fresh Market's upscale and gourmet focus, along with its offerings of organic products, aligns well with our apiary's high-quality, mono-floral honey. The store's clientele who appreciate local produce and prepared eats are likely to value the unique qualities of our product. The compatibility is not a perfect score because the store is not exclusively local-focused and may have established honey suppliers."
      ],
      "text/plain": [
       "<IPython.core.display.HTML object>"
      ]
     },
     "metadata": {},
     "output_type": "display_data"
    },
    {
     "data": {
      "text/html": [
       "<strong>Num Stores:</strong> 159"
      ],
      "text/plain": [
       "<IPython.core.display.HTML object>"
      ]
     },
     "metadata": {},
     "output_type": "display_data"
    },
    {
     "data": {
      "text/html": [
       "<strong>GPT Cost =</strong> $0.019"
      ],
      "text/plain": [
       "<IPython.core.display.HTML object>"
      ]
     },
     "metadata": {},
     "output_type": "display_data"
    }
   ],
   "source": [
    "score, description, num_stores, total_cost = parse_chat_completion_2(response)\n",
    "\n",
    "display(HTML(f\"<strong>Score:</strong> {score}\"))\n",
    "display(HTML(f\"<strong>Description:</strong> {description}\"))\n",
    "display(HTML(f\"<strong>Num Stores:</strong> {num_stores}\"))\n",
    "display(HTML(f\"<strong>GPT Cost =</strong> ${total_cost:.3f}\"))"
   ]
  },
  {
   "cell_type": "markdown",
   "id": "5d98333c-84db-425c-947e-ea1e93ac3fa2",
   "metadata": {},
   "source": [
    "#### An 8 seems a bit low, maybe this prompt is more strict across the board."
   ]
  },
  {
   "cell_type": "markdown",
   "id": "ccdf0090-df26-4dd7-90ba-244166c7cb0c",
   "metadata": {},
   "source": [
    "## Repeat for all locations"
   ]
  },
  {
   "cell_type": "code",
   "execution_count": 96,
   "id": "9e262651-7c95-4928-96aa-8988ffea8664",
   "metadata": {},
   "outputs": [
    {
     "data": {
      "application/vnd.jupyter.widget-view+json": {
       "model_id": "85d96ca986324ce6b4cadc18090e3e4c",
       "version_major": 2,
       "version_minor": 0
      },
      "text/plain": [
       "  0%|          | 0/10 [00:00<?, ?it/s]"
      ]
     },
     "metadata": {},
     "output_type": "display_data"
    },
    {
     "name": "stdout",
     "output_type": "stream",
     "text": [
      "input_tokens 1722\n",
      "output_tokens 128\n",
      "input_tokens 1270\n",
      "output_tokens 106\n",
      "input_tokens 481\n",
      "output_tokens 108\n",
      "input_tokens 1370\n",
      "output_tokens 111\n",
      "input_tokens 485\n",
      "output_tokens 109\n",
      "input_tokens 1115\n",
      "output_tokens 129\n",
      "input_tokens 1377\n",
      "output_tokens 132\n",
      "input_tokens 1174\n",
      "output_tokens 101\n",
      "input_tokens 2130\n",
      "output_tokens 133\n",
      "input_tokens 1181\n",
      "output_tokens 100\n"
     ]
    },
    {
     "data": {
      "text/html": [
       "<div>\n",
       "<style scoped>\n",
       "    .dataframe tbody tr th:only-of-type {\n",
       "        vertical-align: middle;\n",
       "    }\n",
       "\n",
       "    .dataframe tbody tr th {\n",
       "        vertical-align: top;\n",
       "    }\n",
       "\n",
       "    .dataframe thead th {\n",
       "        text-align: right;\n",
       "    }\n",
       "</style>\n",
       "<table border=\"1\" class=\"dataframe\">\n",
       "  <thead>\n",
       "    <tr style=\"text-align: right;\">\n",
       "      <th></th>\n",
       "      <th>Store Name</th>\n",
       "      <th>Place ID</th>\n",
       "      <th>GPT Description</th>\n",
       "      <th>GPT Score</th>\n",
       "      <th>GPT Num Stores</th>\n",
       "      <th>GPT Cost ($)</th>\n",
       "    </tr>\n",
       "  </thead>\n",
       "  <tbody>\n",
       "    <tr>\n",
       "      <th>0</th>\n",
       "      <td>The Fresh Market</td>\n",
       "      <td>ChIJmb6kSDZ_54gRowDRme47G0k</td>\n",
       "      <td>The Fresh Market's upscale and gourmet focus, ...</td>\n",
       "      <td>8</td>\n",
       "      <td>159</td>\n",
       "      <td>0.0211</td>\n",
       "    </tr>\n",
       "    <tr>\n",
       "      <th>1</th>\n",
       "      <td>The Ancient Olive Gourmet of Winter Garden</td>\n",
       "      <td>ChIJyZdkgPuD54gRqtF-E30N4x0</td>\n",
       "      <td>The Ancient Olive Gourmet of Winter Garden spe...</td>\n",
       "      <td>9</td>\n",
       "      <td>4</td>\n",
       "      <td>0.0159</td>\n",
       "    </tr>\n",
       "    <tr>\n",
       "      <th>2</th>\n",
       "      <td>Seriously Great Market Solution</td>\n",
       "      <td>ChIJu9MkmVF_54gRwZIoka6RoQk</td>\n",
       "      <td>While the provided JSON data lacks detailed in...</td>\n",
       "      <td>7</td>\n",
       "      <td>1</td>\n",
       "      <td>0.0080</td>\n",
       "    </tr>\n",
       "    <tr>\n",
       "      <th>3</th>\n",
       "      <td>Tn Food &amp; Grocery</td>\n",
       "      <td>ChIJmfVTDG2D54gRFdvotMCET7U</td>\n",
       "      <td>Tn Food &amp; Grocery appears to be a local store ...</td>\n",
       "      <td>7</td>\n",
       "      <td>1</td>\n",
       "      <td>0.0170</td>\n",
       "    </tr>\n",
       "    <tr>\n",
       "      <th>4</th>\n",
       "      <td>SC Foods</td>\n",
       "      <td>ChIJ2esYs3yP54gRAarbKINxxME</td>\n",
       "      <td>SC Foods, being a grocery store, is a potentia...</td>\n",
       "      <td>8</td>\n",
       "      <td>1</td>\n",
       "      <td>0.0081</td>\n",
       "    </tr>\n",
       "    <tr>\n",
       "      <th>5</th>\n",
       "      <td>Holson's Produce</td>\n",
       "      <td>ChIJo5_x_gV554gRp3F5Ml9JGxY</td>\n",
       "      <td>Holson's Produce appears to be a local market ...</td>\n",
       "      <td>7</td>\n",
       "      <td>1</td>\n",
       "      <td>0.0150</td>\n",
       "    </tr>\n",
       "    <tr>\n",
       "      <th>6</th>\n",
       "      <td>Suns Market</td>\n",
       "      <td>ChIJwVN3bHOD54gRSlij1UhudVc</td>\n",
       "      <td>Suns Market appears to be a small, independent...</td>\n",
       "      <td>5</td>\n",
       "      <td>1</td>\n",
       "      <td>0.0177</td>\n",
       "    </tr>\n",
       "    <tr>\n",
       "      <th>7</th>\n",
       "      <td>Colonial Grocery Deli &amp; Bodega</td>\n",
       "      <td>ChIJEaAcVKx554gRbVLiyDDehHI</td>\n",
       "      <td>Colonial Grocery Deli &amp; Bodega seems to be a s...</td>\n",
       "      <td>6</td>\n",
       "      <td>1</td>\n",
       "      <td>0.0148</td>\n",
       "    </tr>\n",
       "    <tr>\n",
       "      <th>8</th>\n",
       "      <td>Trader Joe's</td>\n",
       "      <td>ChIJbeFK_p5_54gRGvfzUjKvlFA</td>\n",
       "      <td>Trader Joe's is known for its curated selectio...</td>\n",
       "      <td>7</td>\n",
       "      <td>530</td>\n",
       "      <td>0.0253</td>\n",
       "    </tr>\n",
       "    <tr>\n",
       "      <th>9</th>\n",
       "      <td>JNM Super Market</td>\n",
       "      <td>ChIJIxxg6f9-54gRVzC_PSR-wn8</td>\n",
       "      <td>Given the mixed reviews about the store's focu...</td>\n",
       "      <td>2</td>\n",
       "      <td>1</td>\n",
       "      <td>0.0148</td>\n",
       "    </tr>\n",
       "  </tbody>\n",
       "</table>\n",
       "</div>"
      ],
      "text/plain": [
       "                                   Store Name                     Place ID  \\\n",
       "0                            The Fresh Market  ChIJmb6kSDZ_54gRowDRme47G0k   \n",
       "1  The Ancient Olive Gourmet of Winter Garden  ChIJyZdkgPuD54gRqtF-E30N4x0   \n",
       "2             Seriously Great Market Solution  ChIJu9MkmVF_54gRwZIoka6RoQk   \n",
       "3                           Tn Food & Grocery  ChIJmfVTDG2D54gRFdvotMCET7U   \n",
       "4                                    SC Foods  ChIJ2esYs3yP54gRAarbKINxxME   \n",
       "5                            Holson's Produce  ChIJo5_x_gV554gRp3F5Ml9JGxY   \n",
       "6                                 Suns Market  ChIJwVN3bHOD54gRSlij1UhudVc   \n",
       "7              Colonial Grocery Deli & Bodega  ChIJEaAcVKx554gRbVLiyDDehHI   \n",
       "8                                Trader Joe's  ChIJbeFK_p5_54gRGvfzUjKvlFA   \n",
       "9                            JNM Super Market  ChIJIxxg6f9-54gRVzC_PSR-wn8   \n",
       "\n",
       "                                     GPT Description  GPT Score  \\\n",
       "0  The Fresh Market's upscale and gourmet focus, ...          8   \n",
       "1  The Ancient Olive Gourmet of Winter Garden spe...          9   \n",
       "2  While the provided JSON data lacks detailed in...          7   \n",
       "3  Tn Food & Grocery appears to be a local store ...          7   \n",
       "4  SC Foods, being a grocery store, is a potentia...          8   \n",
       "5  Holson's Produce appears to be a local market ...          7   \n",
       "6  Suns Market appears to be a small, independent...          5   \n",
       "7  Colonial Grocery Deli & Bodega seems to be a s...          6   \n",
       "8  Trader Joe's is known for its curated selectio...          7   \n",
       "9  Given the mixed reviews about the store's focu...          2   \n",
       "\n",
       "   GPT Num Stores  GPT Cost ($)  \n",
       "0             159        0.0211  \n",
       "1               4        0.0159  \n",
       "2               1        0.0080  \n",
       "3               1        0.0170  \n",
       "4               1        0.0081  \n",
       "5               1        0.0150  \n",
       "6               1        0.0177  \n",
       "7               1        0.0148  \n",
       "8             530        0.0253  \n",
       "9               1        0.0148  "
      ]
     },
     "execution_count": 96,
     "metadata": {},
     "output_type": "execute_result"
    }
   ],
   "source": [
    "records = []\n",
    "\n",
    "for i in tqdm(benchmark_place_results.index):\n",
    "\n",
    "    ## Convert input to json, in accordance with chat instructions\n",
    "    input_data = benchmark_place_results.loc[i].to_json()\n",
    "\n",
    "    ## Get the GPT 4 chat completion object\n",
    "    ## Temp = 0 for reproducability\n",
    "    response = client.chat.completions.create(\n",
    "        model=\"gpt-4-1106-preview\",\n",
    "        temperature=0.0,\n",
    "        messages=[\n",
    "            {\"role\": \"system\", \"content\": instructions},\n",
    "            {\"role\": \"user\", \"content\": input_data}\n",
    "        ]\n",
    "    )\n",
    "\n",
    "    ## Parse the response\n",
    "    score, description, num_stores, total_cost = parse_chat_completion_2(response)\n",
    "\n",
    "    ## Append the record as a dictionary to the list\n",
    "    records.append({\n",
    "        'Store Name': benchmark_place_results['Name'].loc[i],\n",
    "        'Place ID': benchmark_place_results['Place ID'].loc[i],\n",
    "        'GPT Description': description,\n",
    "        'GPT Score': score,\n",
    "        'GPT Num Stores': num_stores,\n",
    "        'GPT Cost ($)': total_cost\n",
    "    })\n",
    "\n",
    "# Convert the list of records into a DataFrame\n",
    "gpt_results = pd.DataFrame(records)\n",
    "gpt_results"
   ]
  },
  {
   "cell_type": "markdown",
   "id": "f7f9a7b7-bbc8-4855-94e2-dbdb0d58d926",
   "metadata": {},
   "source": [
    "#### Join Human Results"
   ]
  },
  {
   "cell_type": "code",
   "execution_count": 97,
   "id": "2c661252-9138-4fc6-8308-1ffda6ca5ee1",
   "metadata": {},
   "outputs": [
    {
     "data": {
      "text/html": [
       "<div>\n",
       "<style scoped>\n",
       "    .dataframe tbody tr th:only-of-type {\n",
       "        vertical-align: middle;\n",
       "    }\n",
       "\n",
       "    .dataframe tbody tr th {\n",
       "        vertical-align: top;\n",
       "    }\n",
       "\n",
       "    .dataframe thead th {\n",
       "        text-align: right;\n",
       "    }\n",
       "</style>\n",
       "<table border=\"1\" class=\"dataframe\">\n",
       "  <thead>\n",
       "    <tr style=\"text-align: right;\">\n",
       "      <th></th>\n",
       "      <th>Name</th>\n",
       "      <th>Human Score</th>\n",
       "      <th>Human Notes</th>\n",
       "    </tr>\n",
       "  </thead>\n",
       "  <tbody>\n",
       "    <tr>\n",
       "      <th>0</th>\n",
       "      <td>The Fresh Market</td>\n",
       "      <td>8.0</td>\n",
       "      <td>Local market with a focus on gourmet. Several ...</td>\n",
       "    </tr>\n",
       "    <tr>\n",
       "      <th>1</th>\n",
       "      <td>The Ancient Olive Gourmet of Winter Garden</td>\n",
       "      <td>8.0</td>\n",
       "      <td>Gourmet pantry with a honey pantry section. Mi...</td>\n",
       "    </tr>\n",
       "    <tr>\n",
       "      <th>2</th>\n",
       "      <td>Seriously Great Market Solution</td>\n",
       "      <td>1.0</td>\n",
       "      <td>No reviews or website</td>\n",
       "    </tr>\n",
       "    <tr>\n",
       "      <th>3</th>\n",
       "      <td>Tn Food &amp; Grocery</td>\n",
       "      <td>4.0</td>\n",
       "      <td>No focus on gourmet</td>\n",
       "    </tr>\n",
       "    <tr>\n",
       "      <th>4</th>\n",
       "      <td>Holson's Produce</td>\n",
       "      <td>5.0</td>\n",
       "      <td>No website but maybe.</td>\n",
       "    </tr>\n",
       "    <tr>\n",
       "      <th>5</th>\n",
       "      <td>Suns Market</td>\n",
       "      <td>3.0</td>\n",
       "      <td>Family owned so that's a plus, but gas station...</td>\n",
       "    </tr>\n",
       "    <tr>\n",
       "      <th>6</th>\n",
       "      <td>SC Foods</td>\n",
       "      <td>4.0</td>\n",
       "      <td>I don't know what this is but there's no focus...</td>\n",
       "    </tr>\n",
       "    <tr>\n",
       "      <th>7</th>\n",
       "      <td>Colonial Grocery Deli &amp; Bodega</td>\n",
       "      <td>6.5</td>\n",
       "      <td>Ethnic market. Strong focus on local. No clear...</td>\n",
       "    </tr>\n",
       "    <tr>\n",
       "      <th>8</th>\n",
       "      <td>Trader Joe's</td>\n",
       "      <td>4.0</td>\n",
       "      <td>Massive chain. Too much red tape.</td>\n",
       "    </tr>\n",
       "    <tr>\n",
       "      <th>9</th>\n",
       "      <td>JNM Super Market</td>\n",
       "      <td>1.0</td>\n",
       "      <td>Gas station.</td>\n",
       "    </tr>\n",
       "  </tbody>\n",
       "</table>\n",
       "</div>"
      ],
      "text/plain": [
       "                                         Name  Human Score  \\\n",
       "0                            The Fresh Market          8.0   \n",
       "1  The Ancient Olive Gourmet of Winter Garden          8.0   \n",
       "2             Seriously Great Market Solution          1.0   \n",
       "3                           Tn Food & Grocery          4.0   \n",
       "4                            Holson's Produce          5.0   \n",
       "5                                 Suns Market          3.0   \n",
       "6                                    SC Foods          4.0   \n",
       "7              Colonial Grocery Deli & Bodega          6.5   \n",
       "8                                Trader Joe's          4.0   \n",
       "9                            JNM Super Market          1.0   \n",
       "\n",
       "                                         Human Notes  \n",
       "0  Local market with a focus on gourmet. Several ...  \n",
       "1  Gourmet pantry with a honey pantry section. Mi...  \n",
       "2                              No reviews or website  \n",
       "3                                No focus on gourmet  \n",
       "4                              No website but maybe.  \n",
       "5  Family owned so that's a plus, but gas station...  \n",
       "6  I don't know what this is but there's no focus...  \n",
       "7  Ethnic market. Strong focus on local. No clear...  \n",
       "8                  Massive chain. Too much red tape.  \n",
       "9                                      Gas station.   "
      ]
     },
     "execution_count": 97,
     "metadata": {},
     "output_type": "execute_result"
    }
   ],
   "source": [
    "human_scores"
   ]
  },
  {
   "cell_type": "code",
   "execution_count": 98,
   "id": "e76901ca-9770-477e-8226-2d462abccf41",
   "metadata": {},
   "outputs": [
    {
     "data": {
      "text/html": [
       "<div>\n",
       "<style scoped>\n",
       "    .dataframe tbody tr th:only-of-type {\n",
       "        vertical-align: middle;\n",
       "    }\n",
       "\n",
       "    .dataframe tbody tr th {\n",
       "        vertical-align: top;\n",
       "    }\n",
       "\n",
       "    .dataframe thead th {\n",
       "        text-align: right;\n",
       "    }\n",
       "</style>\n",
       "<table border=\"1\" class=\"dataframe\">\n",
       "  <thead>\n",
       "    <tr style=\"text-align: right;\">\n",
       "      <th></th>\n",
       "      <th>Name</th>\n",
       "      <th>Human Score</th>\n",
       "      <th>Human Notes</th>\n",
       "      <th>Place ID</th>\n",
       "      <th>GPT Description</th>\n",
       "      <th>GPT Score</th>\n",
       "      <th>GPT Num Stores</th>\n",
       "      <th>GPT Cost ($)</th>\n",
       "    </tr>\n",
       "  </thead>\n",
       "  <tbody>\n",
       "    <tr>\n",
       "      <th>0</th>\n",
       "      <td>The Fresh Market</td>\n",
       "      <td>8.0</td>\n",
       "      <td>Local market with a focus on gourmet. Several ...</td>\n",
       "      <td>ChIJmb6kSDZ_54gRowDRme47G0k</td>\n",
       "      <td>The Fresh Market's upscale and gourmet focus, ...</td>\n",
       "      <td>8</td>\n",
       "      <td>159</td>\n",
       "      <td>0.0211</td>\n",
       "    </tr>\n",
       "    <tr>\n",
       "      <th>1</th>\n",
       "      <td>The Ancient Olive Gourmet of Winter Garden</td>\n",
       "      <td>8.0</td>\n",
       "      <td>Gourmet pantry with a honey pantry section. Mi...</td>\n",
       "      <td>ChIJyZdkgPuD54gRqtF-E30N4x0</td>\n",
       "      <td>The Ancient Olive Gourmet of Winter Garden spe...</td>\n",
       "      <td>9</td>\n",
       "      <td>4</td>\n",
       "      <td>0.0159</td>\n",
       "    </tr>\n",
       "    <tr>\n",
       "      <th>2</th>\n",
       "      <td>Seriously Great Market Solution</td>\n",
       "      <td>1.0</td>\n",
       "      <td>No reviews or website</td>\n",
       "      <td>ChIJu9MkmVF_54gRwZIoka6RoQk</td>\n",
       "      <td>While the provided JSON data lacks detailed in...</td>\n",
       "      <td>7</td>\n",
       "      <td>1</td>\n",
       "      <td>0.0080</td>\n",
       "    </tr>\n",
       "    <tr>\n",
       "      <th>3</th>\n",
       "      <td>Tn Food &amp; Grocery</td>\n",
       "      <td>4.0</td>\n",
       "      <td>No focus on gourmet</td>\n",
       "      <td>ChIJmfVTDG2D54gRFdvotMCET7U</td>\n",
       "      <td>Tn Food &amp; Grocery appears to be a local store ...</td>\n",
       "      <td>7</td>\n",
       "      <td>1</td>\n",
       "      <td>0.0170</td>\n",
       "    </tr>\n",
       "    <tr>\n",
       "      <th>4</th>\n",
       "      <td>Holson's Produce</td>\n",
       "      <td>5.0</td>\n",
       "      <td>No website but maybe.</td>\n",
       "      <td>ChIJo5_x_gV554gRp3F5Ml9JGxY</td>\n",
       "      <td>Holson's Produce appears to be a local market ...</td>\n",
       "      <td>7</td>\n",
       "      <td>1</td>\n",
       "      <td>0.0150</td>\n",
       "    </tr>\n",
       "    <tr>\n",
       "      <th>5</th>\n",
       "      <td>Suns Market</td>\n",
       "      <td>3.0</td>\n",
       "      <td>Family owned so that's a plus, but gas station...</td>\n",
       "      <td>ChIJwVN3bHOD54gRSlij1UhudVc</td>\n",
       "      <td>Suns Market appears to be a small, independent...</td>\n",
       "      <td>5</td>\n",
       "      <td>1</td>\n",
       "      <td>0.0177</td>\n",
       "    </tr>\n",
       "    <tr>\n",
       "      <th>6</th>\n",
       "      <td>SC Foods</td>\n",
       "      <td>4.0</td>\n",
       "      <td>I don't know what this is but there's no focus...</td>\n",
       "      <td>ChIJ2esYs3yP54gRAarbKINxxME</td>\n",
       "      <td>SC Foods, being a grocery store, is a potentia...</td>\n",
       "      <td>8</td>\n",
       "      <td>1</td>\n",
       "      <td>0.0081</td>\n",
       "    </tr>\n",
       "    <tr>\n",
       "      <th>7</th>\n",
       "      <td>Colonial Grocery Deli &amp; Bodega</td>\n",
       "      <td>6.5</td>\n",
       "      <td>Ethnic market. Strong focus on local. No clear...</td>\n",
       "      <td>ChIJEaAcVKx554gRbVLiyDDehHI</td>\n",
       "      <td>Colonial Grocery Deli &amp; Bodega seems to be a s...</td>\n",
       "      <td>6</td>\n",
       "      <td>1</td>\n",
       "      <td>0.0148</td>\n",
       "    </tr>\n",
       "    <tr>\n",
       "      <th>8</th>\n",
       "      <td>Trader Joe's</td>\n",
       "      <td>4.0</td>\n",
       "      <td>Massive chain. Too much red tape.</td>\n",
       "      <td>ChIJbeFK_p5_54gRGvfzUjKvlFA</td>\n",
       "      <td>Trader Joe's is known for its curated selectio...</td>\n",
       "      <td>7</td>\n",
       "      <td>530</td>\n",
       "      <td>0.0253</td>\n",
       "    </tr>\n",
       "    <tr>\n",
       "      <th>9</th>\n",
       "      <td>JNM Super Market</td>\n",
       "      <td>1.0</td>\n",
       "      <td>Gas station.</td>\n",
       "      <td>ChIJIxxg6f9-54gRVzC_PSR-wn8</td>\n",
       "      <td>Given the mixed reviews about the store's focu...</td>\n",
       "      <td>2</td>\n",
       "      <td>1</td>\n",
       "      <td>0.0148</td>\n",
       "    </tr>\n",
       "  </tbody>\n",
       "</table>\n",
       "</div>"
      ],
      "text/plain": [
       "                                         Name  Human Score  \\\n",
       "0                            The Fresh Market          8.0   \n",
       "1  The Ancient Olive Gourmet of Winter Garden          8.0   \n",
       "2             Seriously Great Market Solution          1.0   \n",
       "3                           Tn Food & Grocery          4.0   \n",
       "4                            Holson's Produce          5.0   \n",
       "5                                 Suns Market          3.0   \n",
       "6                                    SC Foods          4.0   \n",
       "7              Colonial Grocery Deli & Bodega          6.5   \n",
       "8                                Trader Joe's          4.0   \n",
       "9                            JNM Super Market          1.0   \n",
       "\n",
       "                                         Human Notes  \\\n",
       "0  Local market with a focus on gourmet. Several ...   \n",
       "1  Gourmet pantry with a honey pantry section. Mi...   \n",
       "2                              No reviews or website   \n",
       "3                                No focus on gourmet   \n",
       "4                              No website but maybe.   \n",
       "5  Family owned so that's a plus, but gas station...   \n",
       "6  I don't know what this is but there's no focus...   \n",
       "7  Ethnic market. Strong focus on local. No clear...   \n",
       "8                  Massive chain. Too much red tape.   \n",
       "9                                      Gas station.    \n",
       "\n",
       "                      Place ID  \\\n",
       "0  ChIJmb6kSDZ_54gRowDRme47G0k   \n",
       "1  ChIJyZdkgPuD54gRqtF-E30N4x0   \n",
       "2  ChIJu9MkmVF_54gRwZIoka6RoQk   \n",
       "3  ChIJmfVTDG2D54gRFdvotMCET7U   \n",
       "4  ChIJo5_x_gV554gRp3F5Ml9JGxY   \n",
       "5  ChIJwVN3bHOD54gRSlij1UhudVc   \n",
       "6  ChIJ2esYs3yP54gRAarbKINxxME   \n",
       "7  ChIJEaAcVKx554gRbVLiyDDehHI   \n",
       "8  ChIJbeFK_p5_54gRGvfzUjKvlFA   \n",
       "9  ChIJIxxg6f9-54gRVzC_PSR-wn8   \n",
       "\n",
       "                                     GPT Description  GPT Score  \\\n",
       "0  The Fresh Market's upscale and gourmet focus, ...          8   \n",
       "1  The Ancient Olive Gourmet of Winter Garden spe...          9   \n",
       "2  While the provided JSON data lacks detailed in...          7   \n",
       "3  Tn Food & Grocery appears to be a local store ...          7   \n",
       "4  Holson's Produce appears to be a local market ...          7   \n",
       "5  Suns Market appears to be a small, independent...          5   \n",
       "6  SC Foods, being a grocery store, is a potentia...          8   \n",
       "7  Colonial Grocery Deli & Bodega seems to be a s...          6   \n",
       "8  Trader Joe's is known for its curated selectio...          7   \n",
       "9  Given the mixed reviews about the store's focu...          2   \n",
       "\n",
       "   GPT Num Stores  GPT Cost ($)  \n",
       "0             159        0.0211  \n",
       "1               4        0.0159  \n",
       "2               1        0.0080  \n",
       "3               1        0.0170  \n",
       "4               1        0.0150  \n",
       "5               1        0.0177  \n",
       "6               1        0.0081  \n",
       "7               1        0.0148  \n",
       "8             530        0.0253  \n",
       "9               1        0.0148  "
      ]
     },
     "execution_count": 98,
     "metadata": {},
     "output_type": "execute_result"
    }
   ],
   "source": [
    "benchmark_results = pd.merge(human_scores,gpt_results,how='left',left_on='Name',right_on='Store Name').drop(\"Store Name\",axis=1)\n",
    "benchmark_results"
   ]
  },
  {
   "cell_type": "markdown",
   "id": "d4ffd87d-9f6a-4854-83be-d4cfb293790e",
   "metadata": {},
   "source": [
    "#### Export"
   ]
  },
  {
   "cell_type": "code",
   "execution_count": 99,
   "id": "5b68b7ab-ee2f-4fd3-986a-91996ce788a4",
   "metadata": {},
   "outputs": [
    {
     "name": "stdout",
     "output_type": "stream",
     "text": [
      "DONE\n"
     ]
    }
   ],
   "source": [
    "benchmark_results.to_csv('./Results/benchmark_results_prompt2.csv',index=False)\n",
    "print(\"DONE\")"
   ]
  },
  {
   "cell_type": "markdown",
   "id": "3f4d8aa0-a04f-4217-b479-6bc521a88184",
   "metadata": {},
   "source": [
    "## Print to Screen"
   ]
  },
  {
   "cell_type": "code",
   "execution_count": 101,
   "id": "3ca35528-6873-4c21-8470-dae4292482a3",
   "metadata": {},
   "outputs": [
    {
     "data": {
      "text/html": [
       "<strong>Name:</strong> The Fresh Market"
      ],
      "text/plain": [
       "<IPython.core.display.HTML object>"
      ]
     },
     "metadata": {},
     "output_type": "display_data"
    },
    {
     "name": "stdout",
     "output_type": "stream",
     "text": [
      "\n",
      "\n"
     ]
    },
    {
     "data": {
      "text/html": [
       "<strong>GPT Compatibility Score:</strong> 8.0"
      ],
      "text/plain": [
       "<IPython.core.display.HTML object>"
      ]
     },
     "metadata": {},
     "output_type": "display_data"
    },
    {
     "data": {
      "text/html": [
       "<strong>GPT Description:</strong> The Fresh Market's upscale and gourmet focus, along with its offerings of organic products, aligns well with the high-quality, mono-floral honey produced by the apiary. The store's clientele who appreciate local produce and gourmet food are likely to value the unique qualities of mono-floral honey. The compatibility is not rated a perfect 10 due to the lack of explicit information about the store's commitment to sourcing from small businesses, but the overall atmosphere and product selection suggest a good fit."
      ],
      "text/plain": [
       "<IPython.core.display.HTML object>"
      ]
     },
     "metadata": {},
     "output_type": "display_data"
    },
    {
     "data": {
      "text/html": [
       "<strong>GPT Number of Stores:</strong> 159"
      ],
      "text/plain": [
       "<IPython.core.display.HTML object>"
      ]
     },
     "metadata": {},
     "output_type": "display_data"
    },
    {
     "name": "stdout",
     "output_type": "stream",
     "text": [
      "\n",
      "\n"
     ]
    },
    {
     "data": {
      "text/html": [
       "<strong>Human Compatibility Score:</strong> 8.0"
      ],
      "text/plain": [
       "<IPython.core.display.HTML object>"
      ]
     },
     "metadata": {},
     "output_type": "display_data"
    },
    {
     "data": {
      "text/html": [
       "<strong>Human Description:</strong> Local market with a focus on gourmet. Several locations, which may mean lots of procedures"
      ],
      "text/plain": [
       "<IPython.core.display.HTML object>"
      ]
     },
     "metadata": {},
     "output_type": "display_data"
    },
    {
     "name": "stdout",
     "output_type": "stream",
     "text": [
      "\n",
      "\n"
     ]
    },
    {
     "data": {
      "text/html": [
       "<strong>GPT Cost =</strong> $0.021"
      ],
      "text/plain": [
       "<IPython.core.display.HTML object>"
      ]
     },
     "metadata": {},
     "output_type": "display_data"
    },
    {
     "name": "stdout",
     "output_type": "stream",
     "text": [
      "\n",
      "\n",
      "\n"
     ]
    },
    {
     "data": {
      "text/html": [
       "<strong>Name:</strong> The Ancient Olive Gourmet of Winter Garden"
      ],
      "text/plain": [
       "<IPython.core.display.HTML object>"
      ]
     },
     "metadata": {},
     "output_type": "display_data"
    },
    {
     "name": "stdout",
     "output_type": "stream",
     "text": [
      "\n",
      "\n"
     ]
    },
    {
     "data": {
      "text/html": [
       "<strong>GPT Compatibility Score:</strong> 9.0"
      ],
      "text/plain": [
       "<IPython.core.display.HTML object>"
      ]
     },
     "metadata": {},
     "output_type": "display_data"
    },
    {
     "data": {
      "text/html": [
       "<strong>GPT Description:</strong> The Ancient Olive Gourmet of Winter Garden specializes in gourmet food products, which aligns perfectly with our high-quality, mono-floral honey. The store's clientele appears to appreciate unique and high-quality food pairings, and our honey would complement their existing selection. The focus on gourmet items and the positive customer feedback on the store's offerings suggest a strong potential for a successful partnership."
      ],
      "text/plain": [
       "<IPython.core.display.HTML object>"
      ]
     },
     "metadata": {},
     "output_type": "display_data"
    },
    {
     "data": {
      "text/html": [
       "<strong>GPT Number of Stores:</strong> 4"
      ],
      "text/plain": [
       "<IPython.core.display.HTML object>"
      ]
     },
     "metadata": {},
     "output_type": "display_data"
    },
    {
     "name": "stdout",
     "output_type": "stream",
     "text": [
      "\n",
      "\n"
     ]
    },
    {
     "data": {
      "text/html": [
       "<strong>Human Compatibility Score:</strong> 8.0"
      ],
      "text/plain": [
       "<IPython.core.display.HTML object>"
      ]
     },
     "metadata": {},
     "output_type": "display_data"
    },
    {
     "data": {
      "text/html": [
       "<strong>Human Description:</strong> Gourmet pantry with a honey pantry section. Might be online only."
      ],
      "text/plain": [
       "<IPython.core.display.HTML object>"
      ]
     },
     "metadata": {},
     "output_type": "display_data"
    },
    {
     "name": "stdout",
     "output_type": "stream",
     "text": [
      "\n",
      "\n"
     ]
    },
    {
     "data": {
      "text/html": [
       "<strong>GPT Cost =</strong> $0.016"
      ],
      "text/plain": [
       "<IPython.core.display.HTML object>"
      ]
     },
     "metadata": {},
     "output_type": "display_data"
    },
    {
     "name": "stdout",
     "output_type": "stream",
     "text": [
      "\n",
      "\n",
      "\n"
     ]
    },
    {
     "data": {
      "text/html": [
       "<strong>Name:</strong> Seriously Great Market Solution"
      ],
      "text/plain": [
       "<IPython.core.display.HTML object>"
      ]
     },
     "metadata": {},
     "output_type": "display_data"
    },
    {
     "name": "stdout",
     "output_type": "stream",
     "text": [
      "\n",
      "\n"
     ]
    },
    {
     "data": {
      "text/html": [
       "<strong>GPT Compatibility Score:</strong> 7.0"
      ],
      "text/plain": [
       "<IPython.core.display.HTML object>"
      ]
     },
     "metadata": {},
     "output_type": "display_data"
    },
    {
     "data": {
      "text/html": [
       "<strong>GPT Description:</strong> While the provided JSON data lacks detailed information about the grocery store's focus on gourmet products or support for local small businesses, the fact that it is a grocery store suggests a potential for compatibility. However, without specific details on their product curation or emphasis on local partnerships, a perfect score cannot be justified. The store being in Florida increases the likelihood of interest in locally produced goods like our mono-floral honey."
      ],
      "text/plain": [
       "<IPython.core.display.HTML object>"
      ]
     },
     "metadata": {},
     "output_type": "display_data"
    },
    {
     "data": {
      "text/html": [
       "<strong>GPT Number of Stores:</strong> 1"
      ],
      "text/plain": [
       "<IPython.core.display.HTML object>"
      ]
     },
     "metadata": {},
     "output_type": "display_data"
    },
    {
     "name": "stdout",
     "output_type": "stream",
     "text": [
      "\n",
      "\n"
     ]
    },
    {
     "data": {
      "text/html": [
       "<strong>Human Compatibility Score:</strong> 1.0"
      ],
      "text/plain": [
       "<IPython.core.display.HTML object>"
      ]
     },
     "metadata": {},
     "output_type": "display_data"
    },
    {
     "data": {
      "text/html": [
       "<strong>Human Description:</strong> No reviews or website"
      ],
      "text/plain": [
       "<IPython.core.display.HTML object>"
      ]
     },
     "metadata": {},
     "output_type": "display_data"
    },
    {
     "name": "stdout",
     "output_type": "stream",
     "text": [
      "\n",
      "\n"
     ]
    },
    {
     "data": {
      "text/html": [
       "<strong>GPT Cost =</strong> $0.008"
      ],
      "text/plain": [
       "<IPython.core.display.HTML object>"
      ]
     },
     "metadata": {},
     "output_type": "display_data"
    },
    {
     "name": "stdout",
     "output_type": "stream",
     "text": [
      "\n",
      "\n",
      "\n"
     ]
    },
    {
     "data": {
      "text/html": [
       "<strong>Name:</strong> Tn Food & Grocery"
      ],
      "text/plain": [
       "<IPython.core.display.HTML object>"
      ]
     },
     "metadata": {},
     "output_type": "display_data"
    },
    {
     "name": "stdout",
     "output_type": "stream",
     "text": [
      "\n",
      "\n"
     ]
    },
    {
     "data": {
      "text/html": [
       "<strong>GPT Compatibility Score:</strong> 7.0"
      ],
      "text/plain": [
       "<IPython.core.display.HTML object>"
      ]
     },
     "metadata": {},
     "output_type": "display_data"
    },
    {
     "data": {
      "text/html": [
       "<strong>GPT Description:</strong> Tn Food & Grocery appears to be a local store with a focus on fresh, homemade food, which suggests they may value high-quality, artisanal products. The reviews indicate a community-oriented business, which aligns with our family-owned apiary's ethos. However, there is no explicit mention of a preference for gourmet or local products, so while there is potential for compatibility, it is not guaranteed."
      ],
      "text/plain": [
       "<IPython.core.display.HTML object>"
      ]
     },
     "metadata": {},
     "output_type": "display_data"
    },
    {
     "data": {
      "text/html": [
       "<strong>GPT Number of Stores:</strong> 1"
      ],
      "text/plain": [
       "<IPython.core.display.HTML object>"
      ]
     },
     "metadata": {},
     "output_type": "display_data"
    },
    {
     "name": "stdout",
     "output_type": "stream",
     "text": [
      "\n",
      "\n"
     ]
    },
    {
     "data": {
      "text/html": [
       "<strong>Human Compatibility Score:</strong> 4.0"
      ],
      "text/plain": [
       "<IPython.core.display.HTML object>"
      ]
     },
     "metadata": {},
     "output_type": "display_data"
    },
    {
     "data": {
      "text/html": [
       "<strong>Human Description:</strong> No focus on gourmet"
      ],
      "text/plain": [
       "<IPython.core.display.HTML object>"
      ]
     },
     "metadata": {},
     "output_type": "display_data"
    },
    {
     "name": "stdout",
     "output_type": "stream",
     "text": [
      "\n",
      "\n"
     ]
    },
    {
     "data": {
      "text/html": [
       "<strong>GPT Cost =</strong> $0.017"
      ],
      "text/plain": [
       "<IPython.core.display.HTML object>"
      ]
     },
     "metadata": {},
     "output_type": "display_data"
    },
    {
     "name": "stdout",
     "output_type": "stream",
     "text": [
      "\n",
      "\n",
      "\n"
     ]
    },
    {
     "data": {
      "text/html": [
       "<strong>Name:</strong> Holson's Produce"
      ],
      "text/plain": [
       "<IPython.core.display.HTML object>"
      ]
     },
     "metadata": {},
     "output_type": "display_data"
    },
    {
     "name": "stdout",
     "output_type": "stream",
     "text": [
      "\n",
      "\n"
     ]
    },
    {
     "data": {
      "text/html": [
       "<strong>GPT Compatibility Score:</strong> 7.0"
      ],
      "text/plain": [
       "<IPython.core.display.HTML object>"
      ]
     },
     "metadata": {},
     "output_type": "display_data"
    },
    {
     "data": {
      "text/html": [
       "<strong>GPT Description:</strong> Holson's Produce appears to be a local market with a focus on fresh produce and meats, which suggests they may value high-quality, natural products. The reviews indicate a community-oriented business that could be receptive to adding locally-produced, gourmet items like our mono-floral honey. However, the store's primary focus on produce and meat might mean that our honey wouldn't be a central product offering. The compatibility score reflects potential interest in quality goods, but with some uncertainty regarding their current product mix."
      ],
      "text/plain": [
       "<IPython.core.display.HTML object>"
      ]
     },
     "metadata": {},
     "output_type": "display_data"
    },
    {
     "data": {
      "text/html": [
       "<strong>GPT Number of Stores:</strong> 1"
      ],
      "text/plain": [
       "<IPython.core.display.HTML object>"
      ]
     },
     "metadata": {},
     "output_type": "display_data"
    },
    {
     "name": "stdout",
     "output_type": "stream",
     "text": [
      "\n",
      "\n"
     ]
    },
    {
     "data": {
      "text/html": [
       "<strong>Human Compatibility Score:</strong> 5.0"
      ],
      "text/plain": [
       "<IPython.core.display.HTML object>"
      ]
     },
     "metadata": {},
     "output_type": "display_data"
    },
    {
     "data": {
      "text/html": [
       "<strong>Human Description:</strong> No website but maybe."
      ],
      "text/plain": [
       "<IPython.core.display.HTML object>"
      ]
     },
     "metadata": {},
     "output_type": "display_data"
    },
    {
     "name": "stdout",
     "output_type": "stream",
     "text": [
      "\n",
      "\n"
     ]
    },
    {
     "data": {
      "text/html": [
       "<strong>GPT Cost =</strong> $0.015"
      ],
      "text/plain": [
       "<IPython.core.display.HTML object>"
      ]
     },
     "metadata": {},
     "output_type": "display_data"
    },
    {
     "name": "stdout",
     "output_type": "stream",
     "text": [
      "\n",
      "\n",
      "\n"
     ]
    },
    {
     "data": {
      "text/html": [
       "<strong>Name:</strong> Suns Market"
      ],
      "text/plain": [
       "<IPython.core.display.HTML object>"
      ]
     },
     "metadata": {},
     "output_type": "display_data"
    },
    {
     "name": "stdout",
     "output_type": "stream",
     "text": [
      "\n",
      "\n"
     ]
    },
    {
     "data": {
      "text/html": [
       "<strong>GPT Compatibility Score:</strong> 5.0"
      ],
      "text/plain": [
       "<IPython.core.display.HTML object>"
      ]
     },
     "metadata": {},
     "output_type": "display_data"
    },
    {
     "data": {
      "text/html": [
       "<strong>GPT Description:</strong> Suns Market appears to be a small, independent grocery store with a focus on convenience items rather than gourmet products. While the store is located in Florida, which is relatively close to our apiary in northern Florida, the reviews suggest that the store may not prioritize high-quality or specialty items. This could limit the appeal of our premium mono-floral honey to their customer base. However, as a small business, there may be potential for a partnership if the store is looking to expand its selection of local products."
      ],
      "text/plain": [
       "<IPython.core.display.HTML object>"
      ]
     },
     "metadata": {},
     "output_type": "display_data"
    },
    {
     "data": {
      "text/html": [
       "<strong>GPT Number of Stores:</strong> 1"
      ],
      "text/plain": [
       "<IPython.core.display.HTML object>"
      ]
     },
     "metadata": {},
     "output_type": "display_data"
    },
    {
     "name": "stdout",
     "output_type": "stream",
     "text": [
      "\n",
      "\n"
     ]
    },
    {
     "data": {
      "text/html": [
       "<strong>Human Compatibility Score:</strong> 3.0"
      ],
      "text/plain": [
       "<IPython.core.display.HTML object>"
      ]
     },
     "metadata": {},
     "output_type": "display_data"
    },
    {
     "data": {
      "text/html": [
       "<strong>Human Description:</strong> Family owned so that's a plus, but gas station vibes. No gourmet."
      ],
      "text/plain": [
       "<IPython.core.display.HTML object>"
      ]
     },
     "metadata": {},
     "output_type": "display_data"
    },
    {
     "name": "stdout",
     "output_type": "stream",
     "text": [
      "\n",
      "\n"
     ]
    },
    {
     "data": {
      "text/html": [
       "<strong>GPT Cost =</strong> $0.018"
      ],
      "text/plain": [
       "<IPython.core.display.HTML object>"
      ]
     },
     "metadata": {},
     "output_type": "display_data"
    },
    {
     "name": "stdout",
     "output_type": "stream",
     "text": [
      "\n",
      "\n",
      "\n"
     ]
    },
    {
     "data": {
      "text/html": [
       "<strong>Name:</strong> SC Foods"
      ],
      "text/plain": [
       "<IPython.core.display.HTML object>"
      ]
     },
     "metadata": {},
     "output_type": "display_data"
    },
    {
     "name": "stdout",
     "output_type": "stream",
     "text": [
      "\n",
      "\n"
     ]
    },
    {
     "data": {
      "text/html": [
       "<strong>GPT Compatibility Score:</strong> 8.0"
      ],
      "text/plain": [
       "<IPython.core.display.HTML object>"
      ]
     },
     "metadata": {},
     "output_type": "display_data"
    },
    {
     "data": {
      "text/html": [
       "<strong>GPT Description:</strong> SC Foods, being a grocery store, is a potential retail partner for a family-owned apiary. The store's location in Florida is geographically compatible with a northern Florida apiary, suggesting potential for a local supplier relationship. However, without specific information on their focus on gourmet or small business products, the score cannot be perfect. The compatibility is assumed to be high based on the potential for local product curation."
      ],
      "text/plain": [
       "<IPython.core.display.HTML object>"
      ]
     },
     "metadata": {},
     "output_type": "display_data"
    },
    {
     "data": {
      "text/html": [
       "<strong>GPT Number of Stores:</strong> 1"
      ],
      "text/plain": [
       "<IPython.core.display.HTML object>"
      ]
     },
     "metadata": {},
     "output_type": "display_data"
    },
    {
     "name": "stdout",
     "output_type": "stream",
     "text": [
      "\n",
      "\n"
     ]
    },
    {
     "data": {
      "text/html": [
       "<strong>Human Compatibility Score:</strong> 4.0"
      ],
      "text/plain": [
       "<IPython.core.display.HTML object>"
      ]
     },
     "metadata": {},
     "output_type": "display_data"
    },
    {
     "data": {
      "text/html": [
       "<strong>Human Description:</strong> I don't know what this is but there's no focus on gourmet."
      ],
      "text/plain": [
       "<IPython.core.display.HTML object>"
      ]
     },
     "metadata": {},
     "output_type": "display_data"
    },
    {
     "name": "stdout",
     "output_type": "stream",
     "text": [
      "\n",
      "\n"
     ]
    },
    {
     "data": {
      "text/html": [
       "<strong>GPT Cost =</strong> $0.008"
      ],
      "text/plain": [
       "<IPython.core.display.HTML object>"
      ]
     },
     "metadata": {},
     "output_type": "display_data"
    },
    {
     "name": "stdout",
     "output_type": "stream",
     "text": [
      "\n",
      "\n",
      "\n"
     ]
    },
    {
     "data": {
      "text/html": [
       "<strong>Name:</strong> Colonial Grocery Deli & Bodega"
      ],
      "text/plain": [
       "<IPython.core.display.HTML object>"
      ]
     },
     "metadata": {},
     "output_type": "display_data"
    },
    {
     "name": "stdout",
     "output_type": "stream",
     "text": [
      "\n",
      "\n"
     ]
    },
    {
     "data": {
      "text/html": [
       "<strong>GPT Compatibility Score:</strong> 6.0"
      ],
      "text/plain": [
       "<IPython.core.display.HTML object>"
      ]
     },
     "metadata": {},
     "output_type": "display_data"
    },
    {
     "data": {
      "text/html": [
       "<strong>GPT Description:</strong> Colonial Grocery Deli & Bodega seems to be a single-location grocery store with a focus on Latin groceries and prepared foods. While it may not specifically curate gourmet products or emphasize small business partnerships, the high rating and community focus suggest a moderate compatibility. Our high-quality, mono-floral honey could appeal to their clientele who appreciate quality food items."
      ],
      "text/plain": [
       "<IPython.core.display.HTML object>"
      ]
     },
     "metadata": {},
     "output_type": "display_data"
    },
    {
     "data": {
      "text/html": [
       "<strong>GPT Number of Stores:</strong> 1"
      ],
      "text/plain": [
       "<IPython.core.display.HTML object>"
      ]
     },
     "metadata": {},
     "output_type": "display_data"
    },
    {
     "name": "stdout",
     "output_type": "stream",
     "text": [
      "\n",
      "\n"
     ]
    },
    {
     "data": {
      "text/html": [
       "<strong>Human Compatibility Score:</strong> 6.5"
      ],
      "text/plain": [
       "<IPython.core.display.HTML object>"
      ]
     },
     "metadata": {},
     "output_type": "display_data"
    },
    {
     "data": {
      "text/html": [
       "<strong>Human Description:</strong> Ethnic market. Strong focus on local. No clear gourmet but small."
      ],
      "text/plain": [
       "<IPython.core.display.HTML object>"
      ]
     },
     "metadata": {},
     "output_type": "display_data"
    },
    {
     "name": "stdout",
     "output_type": "stream",
     "text": [
      "\n",
      "\n"
     ]
    },
    {
     "data": {
      "text/html": [
       "<strong>GPT Cost =</strong> $0.015"
      ],
      "text/plain": [
       "<IPython.core.display.HTML object>"
      ]
     },
     "metadata": {},
     "output_type": "display_data"
    },
    {
     "name": "stdout",
     "output_type": "stream",
     "text": [
      "\n",
      "\n",
      "\n"
     ]
    },
    {
     "data": {
      "text/html": [
       "<strong>Name:</strong> Trader Joe's"
      ],
      "text/plain": [
       "<IPython.core.display.HTML object>"
      ]
     },
     "metadata": {},
     "output_type": "display_data"
    },
    {
     "name": "stdout",
     "output_type": "stream",
     "text": [
      "\n",
      "\n"
     ]
    },
    {
     "data": {
      "text/html": [
       "<strong>GPT Compatibility Score:</strong> 7.0"
      ],
      "text/plain": [
       "<IPython.core.display.HTML object>"
      ]
     },
     "metadata": {},
     "output_type": "display_data"
    },
    {
     "data": {
      "text/html": [
       "<strong>GPT Description:</strong> Trader Joe's is known for its curated selection of quality products, including organic and gourmet items, which aligns with our apiary's high-quality, mono-floral honey. However, Trader Joe's is a large national chain, and while they do support a variety of products, they may not prioritize small family businesses as much as smaller grocers would. The compatibility is good due to their product selection and customer base that appreciates quality, but not excellent due to the potential challenges of entering a larger retail space."
      ],
      "text/plain": [
       "<IPython.core.display.HTML object>"
      ]
     },
     "metadata": {},
     "output_type": "display_data"
    },
    {
     "data": {
      "text/html": [
       "<strong>GPT Number of Stores:</strong> 530"
      ],
      "text/plain": [
       "<IPython.core.display.HTML object>"
      ]
     },
     "metadata": {},
     "output_type": "display_data"
    },
    {
     "name": "stdout",
     "output_type": "stream",
     "text": [
      "\n",
      "\n"
     ]
    },
    {
     "data": {
      "text/html": [
       "<strong>Human Compatibility Score:</strong> 4.0"
      ],
      "text/plain": [
       "<IPython.core.display.HTML object>"
      ]
     },
     "metadata": {},
     "output_type": "display_data"
    },
    {
     "data": {
      "text/html": [
       "<strong>Human Description:</strong> Massive chain. Too much red tape."
      ],
      "text/plain": [
       "<IPython.core.display.HTML object>"
      ]
     },
     "metadata": {},
     "output_type": "display_data"
    },
    {
     "name": "stdout",
     "output_type": "stream",
     "text": [
      "\n",
      "\n"
     ]
    },
    {
     "data": {
      "text/html": [
       "<strong>GPT Cost =</strong> $0.025"
      ],
      "text/plain": [
       "<IPython.core.display.HTML object>"
      ]
     },
     "metadata": {},
     "output_type": "display_data"
    },
    {
     "name": "stdout",
     "output_type": "stream",
     "text": [
      "\n",
      "\n",
      "\n"
     ]
    },
    {
     "data": {
      "text/html": [
       "<strong>Name:</strong> JNM Super Market"
      ],
      "text/plain": [
       "<IPython.core.display.HTML object>"
      ]
     },
     "metadata": {},
     "output_type": "display_data"
    },
    {
     "name": "stdout",
     "output_type": "stream",
     "text": [
      "\n",
      "\n"
     ]
    },
    {
     "data": {
      "text/html": [
       "<strong>GPT Compatibility Score:</strong> 2.0"
      ],
      "text/plain": [
       "<IPython.core.display.HTML object>"
      ]
     },
     "metadata": {},
     "output_type": "display_data"
    },
    {
     "data": {
      "text/html": [
       "<strong>GPT Description:</strong> Given the mixed reviews about the store's focus, with some customers not considering it a true grocery store, and the lack of information on a specific interest in gourmet or local products, the compatibility with our high-quality, mono-floral honey seems low. The store appears to be more of a convenience or souvenir store rather than a curated gourmet food retailer."
      ],
      "text/plain": [
       "<IPython.core.display.HTML object>"
      ]
     },
     "metadata": {},
     "output_type": "display_data"
    },
    {
     "data": {
      "text/html": [
       "<strong>GPT Number of Stores:</strong> 1"
      ],
      "text/plain": [
       "<IPython.core.display.HTML object>"
      ]
     },
     "metadata": {},
     "output_type": "display_data"
    },
    {
     "name": "stdout",
     "output_type": "stream",
     "text": [
      "\n",
      "\n"
     ]
    },
    {
     "data": {
      "text/html": [
       "<strong>Human Compatibility Score:</strong> 1.0"
      ],
      "text/plain": [
       "<IPython.core.display.HTML object>"
      ]
     },
     "metadata": {},
     "output_type": "display_data"
    },
    {
     "data": {
      "text/html": [
       "<strong>Human Description:</strong> Gas station. "
      ],
      "text/plain": [
       "<IPython.core.display.HTML object>"
      ]
     },
     "metadata": {},
     "output_type": "display_data"
    },
    {
     "name": "stdout",
     "output_type": "stream",
     "text": [
      "\n",
      "\n"
     ]
    },
    {
     "data": {
      "text/html": [
       "<strong>GPT Cost =</strong> $0.015"
      ],
      "text/plain": [
       "<IPython.core.display.HTML object>"
      ]
     },
     "metadata": {},
     "output_type": "display_data"
    },
    {
     "name": "stdout",
     "output_type": "stream",
     "text": [
      "\n",
      "\n",
      "\n"
     ]
    }
   ],
   "source": [
    "for i in benchmark_results.index:\n",
    "\n",
    "    ## Parse Results\n",
    "    name = benchmark_results['Name'].loc[i]\n",
    "    \n",
    "    gpt_score = benchmark_results['GPT Score'].loc[i]\n",
    "    gpt_description = benchmark_results['GPT Description'].loc[i]\n",
    "    gpt_num_stores = benchmark_results['GPT Num Stores'].loc[i]\n",
    "    gpt_cost = benchmark_results['GPT Cost ($)'].loc[i]\n",
    "    \n",
    "    human_score = benchmark_results['Human Score'].loc[i]\n",
    "    human_description = benchmark_results['Human Notes'].loc[i]\n",
    "\n",
    "    ## Display with HTML formatting\n",
    "    display(HTML(f\"<strong>Name:</strong> {name}\"))\n",
    "    print(\"\\n\")\n",
    "    display(HTML(f\"<strong>GPT Compatibility Score:</strong> {float(gpt_score)}\"))\n",
    "    display(HTML(f\"<strong>GPT Description:</strong> {gpt_description}\"))\n",
    "    display(HTML(f\"<strong>GPT Number of Stores:</strong> {gpt_num_stores}\"))\n",
    "    print(\"\\n\")\n",
    "    display(HTML(f\"<strong>Human Compatibility Score:</strong> {human_score}\"))\n",
    "    display(HTML(f\"<strong>Human Description:</strong> {human_description}\"))\n",
    "    print(\"\\n\")\n",
    "    display(HTML(f\"<strong>GPT Cost =</strong> ${gpt_cost:.3f}\"))\n",
    "    print(\"\\n\\n\")"
   ]
  },
  {
   "cell_type": "markdown",
   "id": "c284f5f9-aff7-4c66-b5e5-1b50169587e2",
   "metadata": {},
   "source": [
    "#### This model overvalues FL based stores, which all of these inputs are. It's overly optimistic with the potential to stock products without explicit mention."
   ]
  },
  {
   "cell_type": "markdown",
   "id": "0fe4aa4f-9566-4102-bf70-4824ece3d09a",
   "metadata": {},
   "source": [
    "### Prompt 3: Use explicit data, don't overvalue FL stores. More like Prompt 1 but with estimated store number."
   ]
  },
  {
   "cell_type": "code",
   "execution_count": 106,
   "id": "0f3f6f1a-590f-4ea2-8743-04d234329c7f",
   "metadata": {},
   "outputs": [],
   "source": [
    "client = OpenAI()\n",
    "\n",
    "instructions = (\"You are a helpful assistant tasked with helping us find grocery stores to stock our honey. \"\n",
    "                \"We are a fourth-generation, family-owned apiary based out of northern Florida that specializes \"\n",
    "                \"in the production of extremely high quality, mono-floral honey. We are looking for grocers that \"\n",
    "                \"specialize in curating gourmet food products, especially from small businesses such as ours. \"\n",
    "                \"Your task is to assign a compatibility score from 1-10 to the grocery store based on the {json} \"\n",
    "                \"of store data we provide. The output should be a json with the score and a short description \"\n",
    "                \"justifying why a given score was received.\")\n",
    "\n",
    "instructions = (\n",
    "\"\"\"\n",
    "You are a helpful assistant tasked with helping us find grocery stores to stock our honey. We are a fourth-generation, family-owned apiary based out of northern Florida that specializes in the production of extremely high quality, mono-floral honey. We are looking for grocers that specialize in curating gourmet food products, especially from small businesses such as ours.\n",
    "\n",
    "Your task is to:\n",
    "1. Assign a compatibility score from 1 to 10, where 10 indicates the highest compatibility with our high-quality, mono-floral honey.\n",
    "2. Provide a short description justifying the assigned compatibility score. This description should be a few sentences explaining why the grocery store is considered compatible or incompatible with our product.\n",
    "3. Research and estimate the number of stores in the grocery store chain. This should be an integer value.\n",
    "\n",
    "Please format your response as a JSON object with the following fields:\n",
    "- \"Compatibility Score\": [An integer from 1 to 10 indicating the compatibility score]\n",
    "- \"Compatibility Description\": [A short description in a few sentences justifying the assigned score]\n",
    "- \"Estimated Number of Stores\": [An integer estimate of the number of stores in the chain]\n",
    "\n",
    "For example, if the provided JSON data suggests a small, gourmet-focused grocer with a strong emphasis on supporting local small businesses, and it's part of a chain with 15 stores, your output should look something like this:\n",
    "\n",
    "{\n",
    "  \"Compatibility Score\": 9,\n",
    "  \"Compatibility Description\": \"The grocer's focus on gourmet products and support for local small businesses aligns well with our apiary's high-quality, mono-floral honey, making it a highly compatible partner.\",\n",
    "  \"Estimated Number of Stores\": 15\n",
    "}\n",
    "\n",
    "Note: Do not include any extraneous information such as research notes.\n",
    "Note: Large chains should be penalized.\n",
    "Note: Stores that don't explicitly focus on gourmet should be penalized.\n",
    "\"\"\"\n",
    ")\n",
    "\n",
    "response = client.chat.completions.create(\n",
    "    model=\"gpt-4-1106-preview\",\n",
    "    temperature=0.0,\n",
    "    messages=[\n",
    "        {\"role\": \"system\", \"content\": instructions},\n",
    "        {\"role\": \"user\", \"content\": test_json}\n",
    "  ]\n",
    ")"
   ]
  },
  {
   "cell_type": "code",
   "execution_count": 107,
   "id": "5282a766-bfdc-45b8-9a8f-cb3a23637088",
   "metadata": {},
   "outputs": [
    {
     "data": {
      "text/plain": [
       "ChatCompletion(id='chatcmpl-8xOv8vb0Wq78qlT3ac4In8gYHiPSG', choices=[Choice(finish_reason='stop', index=0, logprobs=None, message=ChatCompletionMessage(content='```json\\n{\\n  \"Compatibility Score\": 8,\\n  \"Compatibility Description\": \"The Fresh Market\\'s upscale atmosphere and focus on gourmet products, including local produce and prepared eats, suggest a strong alignment with high-quality, mono-floral honey from a small family-owned apiary. Their emphasis on organic and unique food items further supports compatibility. However, as a chain, they may not be as focused on local products as smaller, independent stores.\",\\n  \"Estimated Number of Stores\": 159\\n}\\n```', role='assistant', function_call=None, tool_calls=None))], created=1709167838, model='gpt-4-1106-preview', object='chat.completion', system_fingerprint='fp_7cc080b25b', usage=CompletionUsage(completion_tokens=102, prompt_tokens=1604, total_tokens=1706))"
      ]
     },
     "execution_count": 107,
     "metadata": {},
     "output_type": "execute_result"
    }
   ],
   "source": [
    "response"
   ]
  },
  {
   "cell_type": "code",
   "execution_count": 108,
   "id": "c9fa41d9-0c02-4fed-b0ce-08bde4f645a7",
   "metadata": {},
   "outputs": [
    {
     "name": "stdout",
     "output_type": "stream",
     "text": [
      "input_tokens 1604\n",
      "output_tokens 102\n"
     ]
    },
    {
     "data": {
      "text/html": [
       "<strong>Score:</strong> 8"
      ],
      "text/plain": [
       "<IPython.core.display.HTML object>"
      ]
     },
     "metadata": {},
     "output_type": "display_data"
    },
    {
     "data": {
      "text/html": [
       "<strong>Description:</strong> The Fresh Market's upscale atmosphere and focus on gourmet products, including local produce and prepared eats, suggest a strong alignment with high-quality, mono-floral honey from a small family-owned apiary. Their emphasis on organic and unique food items further supports compatibility. However, as a chain, they may not be as focused on local products as smaller, independent stores."
      ],
      "text/plain": [
       "<IPython.core.display.HTML object>"
      ]
     },
     "metadata": {},
     "output_type": "display_data"
    },
    {
     "data": {
      "text/html": [
       "<strong>Num Stores:</strong> 159"
      ],
      "text/plain": [
       "<IPython.core.display.HTML object>"
      ]
     },
     "metadata": {},
     "output_type": "display_data"
    },
    {
     "data": {
      "text/html": [
       "<strong>GPT Cost =</strong> $0.019"
      ],
      "text/plain": [
       "<IPython.core.display.HTML object>"
      ]
     },
     "metadata": {},
     "output_type": "display_data"
    }
   ],
   "source": [
    "score, description, num_stores, total_cost = parse_chat_completion_2(response)\n",
    "\n",
    "display(HTML(f\"<strong>Score:</strong> {score}\"))\n",
    "display(HTML(f\"<strong>Description:</strong> {description}\"))\n",
    "display(HTML(f\"<strong>Num Stores:</strong> {num_stores}\"))\n",
    "display(HTML(f\"<strong>GPT Cost =</strong> ${total_cost:.3f}\"))"
   ]
  },
  {
   "cell_type": "code",
   "execution_count": 109,
   "id": "241e557e-9c77-4f76-831e-42aa79e53e50",
   "metadata": {},
   "outputs": [
    {
     "data": {
      "application/vnd.jupyter.widget-view+json": {
       "model_id": "f83bf26b945b4331bf207930a7c8898a",
       "version_major": 2,
       "version_minor": 0
      },
      "text/plain": [
       "  0%|          | 0/10 [00:00<?, ?it/s]"
      ]
     },
     "metadata": {},
     "output_type": "display_data"
    },
    {
     "name": "stdout",
     "output_type": "stream",
     "text": [
      "input_tokens 1747\n",
      "output_tokens 92\n",
      "input_tokens 1295\n",
      "output_tokens 95\n",
      "input_tokens 506\n",
      "output_tokens 91\n",
      "input_tokens 1395\n",
      "output_tokens 110\n",
      "input_tokens 510\n",
      "output_tokens 88\n",
      "input_tokens 1140\n",
      "output_tokens 109\n",
      "input_tokens 1402\n",
      "output_tokens 84\n",
      "input_tokens 1199\n",
      "output_tokens 100\n",
      "input_tokens 2155\n",
      "output_tokens 97\n",
      "input_tokens 1206\n",
      "output_tokens 85\n"
     ]
    },
    {
     "data": {
      "text/html": [
       "<div>\n",
       "<style scoped>\n",
       "    .dataframe tbody tr th:only-of-type {\n",
       "        vertical-align: middle;\n",
       "    }\n",
       "\n",
       "    .dataframe tbody tr th {\n",
       "        vertical-align: top;\n",
       "    }\n",
       "\n",
       "    .dataframe thead th {\n",
       "        text-align: right;\n",
       "    }\n",
       "</style>\n",
       "<table border=\"1\" class=\"dataframe\">\n",
       "  <thead>\n",
       "    <tr style=\"text-align: right;\">\n",
       "      <th></th>\n",
       "      <th>Store Name</th>\n",
       "      <th>Place ID</th>\n",
       "      <th>GPT Description</th>\n",
       "      <th>GPT Score</th>\n",
       "      <th>GPT Num Stores</th>\n",
       "      <th>GPT Cost ($)</th>\n",
       "    </tr>\n",
       "  </thead>\n",
       "  <tbody>\n",
       "    <tr>\n",
       "      <th>0</th>\n",
       "      <td>The Fresh Market</td>\n",
       "      <td>ChIJmb6kSDZ_54gRowDRme47G0k</td>\n",
       "      <td>The Fresh Market's upscale and gourmet focus, ...</td>\n",
       "      <td>8</td>\n",
       "      <td>159</td>\n",
       "      <td>0.0202</td>\n",
       "    </tr>\n",
       "    <tr>\n",
       "      <th>1</th>\n",
       "      <td>The Ancient Olive Gourmet of Winter Garden</td>\n",
       "      <td>ChIJyZdkgPuD54gRqtF-E30N4x0</td>\n",
       "      <td>The Ancient Olive Gourmet of Winter Garden spe...</td>\n",
       "      <td>9</td>\n",
       "      <td>4</td>\n",
       "      <td>0.0158</td>\n",
       "    </tr>\n",
       "    <tr>\n",
       "      <th>2</th>\n",
       "      <td>Seriously Great Market Solution</td>\n",
       "      <td>ChIJu9MkmVF_54gRwZIoka6RoQk</td>\n",
       "      <td>Without specific information on their focus on...</td>\n",
       "      <td>4</td>\n",
       "      <td>1</td>\n",
       "      <td>0.0078</td>\n",
       "    </tr>\n",
       "    <tr>\n",
       "      <th>3</th>\n",
       "      <td>Tn Food &amp; Grocery</td>\n",
       "      <td>ChIJmfVTDG2D54gRFdvotMCET7U</td>\n",
       "      <td>Tn Food &amp; Grocery appears to be a local store ...</td>\n",
       "      <td>4</td>\n",
       "      <td>1</td>\n",
       "      <td>0.0173</td>\n",
       "    </tr>\n",
       "    <tr>\n",
       "      <th>4</th>\n",
       "      <td>SC Foods</td>\n",
       "      <td>ChIJ2esYs3yP54gRAarbKINxxME</td>\n",
       "      <td>SC Foods, being a grocery store, may carry a v...</td>\n",
       "      <td>6</td>\n",
       "      <td>1</td>\n",
       "      <td>0.0077</td>\n",
       "    </tr>\n",
       "    <tr>\n",
       "      <th>5</th>\n",
       "      <td>Holson's Produce</td>\n",
       "      <td>ChIJo5_x_gV554gRp3F5Ml9JGxY</td>\n",
       "      <td>Holson's Produce appears to be a market that f...</td>\n",
       "      <td>4</td>\n",
       "      <td>1</td>\n",
       "      <td>0.0147</td>\n",
       "    </tr>\n",
       "    <tr>\n",
       "      <th>6</th>\n",
       "      <td>Suns Market</td>\n",
       "      <td>ChIJwVN3bHOD54gRSlij1UhudVc</td>\n",
       "      <td>Suns Market does not appear to specialize in g...</td>\n",
       "      <td>2</td>\n",
       "      <td>1</td>\n",
       "      <td>0.0165</td>\n",
       "    </tr>\n",
       "    <tr>\n",
       "      <th>7</th>\n",
       "      <td>Colonial Grocery Deli &amp; Bodega</td>\n",
       "      <td>ChIJEaAcVKx554gRbVLiyDDehHI</td>\n",
       "      <td>While Colonial Grocery Deli &amp; Bodega has a hig...</td>\n",
       "      <td>3</td>\n",
       "      <td>1</td>\n",
       "      <td>0.0150</td>\n",
       "    </tr>\n",
       "    <tr>\n",
       "      <th>8</th>\n",
       "      <td>Trader Joe's</td>\n",
       "      <td>ChIJbeFK_p5_54gRGvfzUjKvlFA</td>\n",
       "      <td>Trader Joe's offers a variety of organic and g...</td>\n",
       "      <td>5</td>\n",
       "      <td>530</td>\n",
       "      <td>0.0245</td>\n",
       "    </tr>\n",
       "    <tr>\n",
       "      <th>9</th>\n",
       "      <td>JNM Super Market</td>\n",
       "      <td>ChIJIxxg6f9-54gRVzC_PSR-wn8</td>\n",
       "      <td>JNM Super Market appears to be more of a conve...</td>\n",
       "      <td>2</td>\n",
       "      <td>1</td>\n",
       "      <td>0.0146</td>\n",
       "    </tr>\n",
       "  </tbody>\n",
       "</table>\n",
       "</div>"
      ],
      "text/plain": [
       "                                   Store Name                     Place ID  \\\n",
       "0                            The Fresh Market  ChIJmb6kSDZ_54gRowDRme47G0k   \n",
       "1  The Ancient Olive Gourmet of Winter Garden  ChIJyZdkgPuD54gRqtF-E30N4x0   \n",
       "2             Seriously Great Market Solution  ChIJu9MkmVF_54gRwZIoka6RoQk   \n",
       "3                           Tn Food & Grocery  ChIJmfVTDG2D54gRFdvotMCET7U   \n",
       "4                                    SC Foods  ChIJ2esYs3yP54gRAarbKINxxME   \n",
       "5                            Holson's Produce  ChIJo5_x_gV554gRp3F5Ml9JGxY   \n",
       "6                                 Suns Market  ChIJwVN3bHOD54gRSlij1UhudVc   \n",
       "7              Colonial Grocery Deli & Bodega  ChIJEaAcVKx554gRbVLiyDDehHI   \n",
       "8                                Trader Joe's  ChIJbeFK_p5_54gRGvfzUjKvlFA   \n",
       "9                            JNM Super Market  ChIJIxxg6f9-54gRVzC_PSR-wn8   \n",
       "\n",
       "                                     GPT Description  GPT Score  \\\n",
       "0  The Fresh Market's upscale and gourmet focus, ...          8   \n",
       "1  The Ancient Olive Gourmet of Winter Garden spe...          9   \n",
       "2  Without specific information on their focus on...          4   \n",
       "3  Tn Food & Grocery appears to be a local store ...          4   \n",
       "4  SC Foods, being a grocery store, may carry a v...          6   \n",
       "5  Holson's Produce appears to be a market that f...          4   \n",
       "6  Suns Market does not appear to specialize in g...          2   \n",
       "7  While Colonial Grocery Deli & Bodega has a hig...          3   \n",
       "8  Trader Joe's offers a variety of organic and g...          5   \n",
       "9  JNM Super Market appears to be more of a conve...          2   \n",
       "\n",
       "   GPT Num Stores  GPT Cost ($)  \n",
       "0             159        0.0202  \n",
       "1               4        0.0158  \n",
       "2               1        0.0078  \n",
       "3               1        0.0173  \n",
       "4               1        0.0077  \n",
       "5               1        0.0147  \n",
       "6               1        0.0165  \n",
       "7               1        0.0150  \n",
       "8             530        0.0245  \n",
       "9               1        0.0146  "
      ]
     },
     "execution_count": 109,
     "metadata": {},
     "output_type": "execute_result"
    }
   ],
   "source": [
    "records = []\n",
    "\n",
    "for i in tqdm(benchmark_place_results.index):\n",
    "\n",
    "    ## Convert input to json, in accordance with chat instructions\n",
    "    input_data = benchmark_place_results.loc[i].to_json()\n",
    "\n",
    "    ## Get the GPT 4 chat completion object\n",
    "    ## Temp = 0 for reproducability\n",
    "    response = client.chat.completions.create(\n",
    "        model=\"gpt-4-1106-preview\",\n",
    "        temperature=0.0,\n",
    "        messages=[\n",
    "            {\"role\": \"system\", \"content\": instructions},\n",
    "            {\"role\": \"user\", \"content\": input_data}\n",
    "        ]\n",
    "    )\n",
    "\n",
    "    ## Parse the response\n",
    "    score, description, num_stores, total_cost = parse_chat_completion_2(response)\n",
    "\n",
    "    ## Append the record as a dictionary to the list\n",
    "    records.append({\n",
    "        'Store Name': benchmark_place_results['Name'].loc[i],\n",
    "        'Place ID': benchmark_place_results['Place ID'].loc[i],\n",
    "        'GPT Description': description,\n",
    "        'GPT Score': score,\n",
    "        'GPT Num Stores': num_stores,\n",
    "        'GPT Cost ($)': total_cost\n",
    "    })\n",
    "\n",
    "# Convert the list of records into a DataFrame\n",
    "gpt_results = pd.DataFrame(records)\n",
    "gpt_results"
   ]
  },
  {
   "cell_type": "code",
   "execution_count": 111,
   "id": "c4720c85-4012-428b-bbdf-fd21a2ba610d",
   "metadata": {},
   "outputs": [
    {
     "data": {
      "text/html": [
       "<div>\n",
       "<style scoped>\n",
       "    .dataframe tbody tr th:only-of-type {\n",
       "        vertical-align: middle;\n",
       "    }\n",
       "\n",
       "    .dataframe tbody tr th {\n",
       "        vertical-align: top;\n",
       "    }\n",
       "\n",
       "    .dataframe thead th {\n",
       "        text-align: right;\n",
       "    }\n",
       "</style>\n",
       "<table border=\"1\" class=\"dataframe\">\n",
       "  <thead>\n",
       "    <tr style=\"text-align: right;\">\n",
       "      <th></th>\n",
       "      <th>Name</th>\n",
       "      <th>Human Score</th>\n",
       "      <th>Human Notes</th>\n",
       "      <th>Place ID</th>\n",
       "      <th>GPT Description</th>\n",
       "      <th>GPT Score</th>\n",
       "      <th>GPT Num Stores</th>\n",
       "      <th>GPT Cost ($)</th>\n",
       "    </tr>\n",
       "  </thead>\n",
       "  <tbody>\n",
       "    <tr>\n",
       "      <th>0</th>\n",
       "      <td>The Fresh Market</td>\n",
       "      <td>8.0</td>\n",
       "      <td>Local market with a focus on gourmet. Several ...</td>\n",
       "      <td>ChIJmb6kSDZ_54gRowDRme47G0k</td>\n",
       "      <td>The Fresh Market's upscale and gourmet focus, ...</td>\n",
       "      <td>8</td>\n",
       "      <td>159</td>\n",
       "      <td>0.0202</td>\n",
       "    </tr>\n",
       "    <tr>\n",
       "      <th>1</th>\n",
       "      <td>The Ancient Olive Gourmet of Winter Garden</td>\n",
       "      <td>8.0</td>\n",
       "      <td>Gourmet pantry with a honey pantry section. Mi...</td>\n",
       "      <td>ChIJyZdkgPuD54gRqtF-E30N4x0</td>\n",
       "      <td>The Ancient Olive Gourmet of Winter Garden spe...</td>\n",
       "      <td>9</td>\n",
       "      <td>4</td>\n",
       "      <td>0.0158</td>\n",
       "    </tr>\n",
       "    <tr>\n",
       "      <th>2</th>\n",
       "      <td>Seriously Great Market Solution</td>\n",
       "      <td>1.0</td>\n",
       "      <td>No reviews or website</td>\n",
       "      <td>ChIJu9MkmVF_54gRwZIoka6RoQk</td>\n",
       "      <td>Without specific information on their focus on...</td>\n",
       "      <td>4</td>\n",
       "      <td>1</td>\n",
       "      <td>0.0078</td>\n",
       "    </tr>\n",
       "    <tr>\n",
       "      <th>3</th>\n",
       "      <td>Tn Food &amp; Grocery</td>\n",
       "      <td>4.0</td>\n",
       "      <td>No focus on gourmet</td>\n",
       "      <td>ChIJmfVTDG2D54gRFdvotMCET7U</td>\n",
       "      <td>Tn Food &amp; Grocery appears to be a local store ...</td>\n",
       "      <td>4</td>\n",
       "      <td>1</td>\n",
       "      <td>0.0173</td>\n",
       "    </tr>\n",
       "    <tr>\n",
       "      <th>4</th>\n",
       "      <td>Holson's Produce</td>\n",
       "      <td>5.0</td>\n",
       "      <td>No website but maybe.</td>\n",
       "      <td>ChIJo5_x_gV554gRp3F5Ml9JGxY</td>\n",
       "      <td>Holson's Produce appears to be a market that f...</td>\n",
       "      <td>4</td>\n",
       "      <td>1</td>\n",
       "      <td>0.0147</td>\n",
       "    </tr>\n",
       "    <tr>\n",
       "      <th>5</th>\n",
       "      <td>Suns Market</td>\n",
       "      <td>3.0</td>\n",
       "      <td>Family owned so that's a plus, but gas station...</td>\n",
       "      <td>ChIJwVN3bHOD54gRSlij1UhudVc</td>\n",
       "      <td>Suns Market does not appear to specialize in g...</td>\n",
       "      <td>2</td>\n",
       "      <td>1</td>\n",
       "      <td>0.0165</td>\n",
       "    </tr>\n",
       "    <tr>\n",
       "      <th>6</th>\n",
       "      <td>SC Foods</td>\n",
       "      <td>4.0</td>\n",
       "      <td>I don't know what this is but there's no focus...</td>\n",
       "      <td>ChIJ2esYs3yP54gRAarbKINxxME</td>\n",
       "      <td>SC Foods, being a grocery store, may carry a v...</td>\n",
       "      <td>6</td>\n",
       "      <td>1</td>\n",
       "      <td>0.0077</td>\n",
       "    </tr>\n",
       "    <tr>\n",
       "      <th>7</th>\n",
       "      <td>Colonial Grocery Deli &amp; Bodega</td>\n",
       "      <td>6.5</td>\n",
       "      <td>Ethnic market. Strong focus on local. No clear...</td>\n",
       "      <td>ChIJEaAcVKx554gRbVLiyDDehHI</td>\n",
       "      <td>While Colonial Grocery Deli &amp; Bodega has a hig...</td>\n",
       "      <td>3</td>\n",
       "      <td>1</td>\n",
       "      <td>0.0150</td>\n",
       "    </tr>\n",
       "    <tr>\n",
       "      <th>8</th>\n",
       "      <td>Trader Joe's</td>\n",
       "      <td>4.0</td>\n",
       "      <td>Massive chain. Too much red tape.</td>\n",
       "      <td>ChIJbeFK_p5_54gRGvfzUjKvlFA</td>\n",
       "      <td>Trader Joe's offers a variety of organic and g...</td>\n",
       "      <td>5</td>\n",
       "      <td>530</td>\n",
       "      <td>0.0245</td>\n",
       "    </tr>\n",
       "    <tr>\n",
       "      <th>9</th>\n",
       "      <td>JNM Super Market</td>\n",
       "      <td>1.0</td>\n",
       "      <td>Gas station.</td>\n",
       "      <td>ChIJIxxg6f9-54gRVzC_PSR-wn8</td>\n",
       "      <td>JNM Super Market appears to be more of a conve...</td>\n",
       "      <td>2</td>\n",
       "      <td>1</td>\n",
       "      <td>0.0146</td>\n",
       "    </tr>\n",
       "  </tbody>\n",
       "</table>\n",
       "</div>"
      ],
      "text/plain": [
       "                                         Name  Human Score  \\\n",
       "0                            The Fresh Market          8.0   \n",
       "1  The Ancient Olive Gourmet of Winter Garden          8.0   \n",
       "2             Seriously Great Market Solution          1.0   \n",
       "3                           Tn Food & Grocery          4.0   \n",
       "4                            Holson's Produce          5.0   \n",
       "5                                 Suns Market          3.0   \n",
       "6                                    SC Foods          4.0   \n",
       "7              Colonial Grocery Deli & Bodega          6.5   \n",
       "8                                Trader Joe's          4.0   \n",
       "9                            JNM Super Market          1.0   \n",
       "\n",
       "                                         Human Notes  \\\n",
       "0  Local market with a focus on gourmet. Several ...   \n",
       "1  Gourmet pantry with a honey pantry section. Mi...   \n",
       "2                              No reviews or website   \n",
       "3                                No focus on gourmet   \n",
       "4                              No website but maybe.   \n",
       "5  Family owned so that's a plus, but gas station...   \n",
       "6  I don't know what this is but there's no focus...   \n",
       "7  Ethnic market. Strong focus on local. No clear...   \n",
       "8                  Massive chain. Too much red tape.   \n",
       "9                                      Gas station.    \n",
       "\n",
       "                      Place ID  \\\n",
       "0  ChIJmb6kSDZ_54gRowDRme47G0k   \n",
       "1  ChIJyZdkgPuD54gRqtF-E30N4x0   \n",
       "2  ChIJu9MkmVF_54gRwZIoka6RoQk   \n",
       "3  ChIJmfVTDG2D54gRFdvotMCET7U   \n",
       "4  ChIJo5_x_gV554gRp3F5Ml9JGxY   \n",
       "5  ChIJwVN3bHOD54gRSlij1UhudVc   \n",
       "6  ChIJ2esYs3yP54gRAarbKINxxME   \n",
       "7  ChIJEaAcVKx554gRbVLiyDDehHI   \n",
       "8  ChIJbeFK_p5_54gRGvfzUjKvlFA   \n",
       "9  ChIJIxxg6f9-54gRVzC_PSR-wn8   \n",
       "\n",
       "                                     GPT Description  GPT Score  \\\n",
       "0  The Fresh Market's upscale and gourmet focus, ...          8   \n",
       "1  The Ancient Olive Gourmet of Winter Garden spe...          9   \n",
       "2  Without specific information on their focus on...          4   \n",
       "3  Tn Food & Grocery appears to be a local store ...          4   \n",
       "4  Holson's Produce appears to be a market that f...          4   \n",
       "5  Suns Market does not appear to specialize in g...          2   \n",
       "6  SC Foods, being a grocery store, may carry a v...          6   \n",
       "7  While Colonial Grocery Deli & Bodega has a hig...          3   \n",
       "8  Trader Joe's offers a variety of organic and g...          5   \n",
       "9  JNM Super Market appears to be more of a conve...          2   \n",
       "\n",
       "   GPT Num Stores  GPT Cost ($)  \n",
       "0             159        0.0202  \n",
       "1               4        0.0158  \n",
       "2               1        0.0078  \n",
       "3               1        0.0173  \n",
       "4               1        0.0147  \n",
       "5               1        0.0165  \n",
       "6               1        0.0077  \n",
       "7               1        0.0150  \n",
       "8             530        0.0245  \n",
       "9               1        0.0146  "
      ]
     },
     "execution_count": 111,
     "metadata": {},
     "output_type": "execute_result"
    }
   ],
   "source": [
    "benchmark_results = pd.merge(human_scores,gpt_results,how='left',left_on='Name',right_on='Store Name').drop(\"Store Name\",axis=1)\n",
    "benchmark_results"
   ]
  },
  {
   "cell_type": "code",
   "execution_count": 112,
   "id": "1cb14823-4ec3-4ad9-b932-a6c100175c94",
   "metadata": {},
   "outputs": [
    {
     "name": "stdout",
     "output_type": "stream",
     "text": [
      "DONE\n"
     ]
    }
   ],
   "source": [
    "benchmark_results.to_csv('./Results/benchmark_results_prompt3.csv',index=False)\n",
    "print(\"DONE\")"
   ]
  },
  {
   "cell_type": "code",
   "execution_count": 113,
   "id": "dbcb6f94-740d-47fb-9835-643891f57dc6",
   "metadata": {},
   "outputs": [
    {
     "data": {
      "text/html": [
       "<strong>Name:</strong> The Fresh Market"
      ],
      "text/plain": [
       "<IPython.core.display.HTML object>"
      ]
     },
     "metadata": {},
     "output_type": "display_data"
    },
    {
     "name": "stdout",
     "output_type": "stream",
     "text": [
      "\n",
      "\n"
     ]
    },
    {
     "data": {
      "text/html": [
       "<strong>GPT Compatibility Score:</strong> 8.0"
      ],
      "text/plain": [
       "<IPython.core.display.HTML object>"
      ]
     },
     "metadata": {},
     "output_type": "display_data"
    },
    {
     "data": {
      "text/html": [
       "<strong>GPT Description:</strong> The Fresh Market's upscale and gourmet focus, along with its offerings of local produce and organic products, suggests a strong alignment with high-quality, mono-floral honey from a small family-owned apiary. Their emphasis on quality and the old-world vibe may appeal to customers looking for unique and artisanal food items."
      ],
      "text/plain": [
       "<IPython.core.display.HTML object>"
      ]
     },
     "metadata": {},
     "output_type": "display_data"
    },
    {
     "data": {
      "text/html": [
       "<strong>GPT Number of Stores:</strong> 159"
      ],
      "text/plain": [
       "<IPython.core.display.HTML object>"
      ]
     },
     "metadata": {},
     "output_type": "display_data"
    },
    {
     "name": "stdout",
     "output_type": "stream",
     "text": [
      "\n",
      "\n"
     ]
    },
    {
     "data": {
      "text/html": [
       "<strong>Human Compatibility Score:</strong> 8.0"
      ],
      "text/plain": [
       "<IPython.core.display.HTML object>"
      ]
     },
     "metadata": {},
     "output_type": "display_data"
    },
    {
     "data": {
      "text/html": [
       "<strong>Human Description:</strong> Local market with a focus on gourmet. Several locations, which may mean lots of procedures"
      ],
      "text/plain": [
       "<IPython.core.display.HTML object>"
      ]
     },
     "metadata": {},
     "output_type": "display_data"
    },
    {
     "name": "stdout",
     "output_type": "stream",
     "text": [
      "\n",
      "\n"
     ]
    },
    {
     "data": {
      "text/html": [
       "<strong>GPT Cost =</strong> $0.020"
      ],
      "text/plain": [
       "<IPython.core.display.HTML object>"
      ]
     },
     "metadata": {},
     "output_type": "display_data"
    },
    {
     "name": "stdout",
     "output_type": "stream",
     "text": [
      "\n",
      "\n",
      "\n"
     ]
    },
    {
     "data": {
      "text/html": [
       "<strong>Name:</strong> The Ancient Olive Gourmet of Winter Garden"
      ],
      "text/plain": [
       "<IPython.core.display.HTML object>"
      ]
     },
     "metadata": {},
     "output_type": "display_data"
    },
    {
     "name": "stdout",
     "output_type": "stream",
     "text": [
      "\n",
      "\n"
     ]
    },
    {
     "data": {
      "text/html": [
       "<strong>GPT Compatibility Score:</strong> 9.0"
      ],
      "text/plain": [
       "<IPython.core.display.HTML object>"
      ]
     },
     "metadata": {},
     "output_type": "display_data"
    },
    {
     "data": {
      "text/html": [
       "<strong>GPT Description:</strong> The Ancient Olive Gourmet of Winter Garden specializes in gourmet food products, as evidenced by customer reviews highlighting their selection of olive oils, vinegars, and other gourmet items. Their clientele seems to appreciate high-quality, unique food products, making them a highly compatible partner for a family-owned apiary specializing in mono-floral honey."
      ],
      "text/plain": [
       "<IPython.core.display.HTML object>"
      ]
     },
     "metadata": {},
     "output_type": "display_data"
    },
    {
     "data": {
      "text/html": [
       "<strong>GPT Number of Stores:</strong> 4"
      ],
      "text/plain": [
       "<IPython.core.display.HTML object>"
      ]
     },
     "metadata": {},
     "output_type": "display_data"
    },
    {
     "name": "stdout",
     "output_type": "stream",
     "text": [
      "\n",
      "\n"
     ]
    },
    {
     "data": {
      "text/html": [
       "<strong>Human Compatibility Score:</strong> 8.0"
      ],
      "text/plain": [
       "<IPython.core.display.HTML object>"
      ]
     },
     "metadata": {},
     "output_type": "display_data"
    },
    {
     "data": {
      "text/html": [
       "<strong>Human Description:</strong> Gourmet pantry with a honey pantry section. Might be online only."
      ],
      "text/plain": [
       "<IPython.core.display.HTML object>"
      ]
     },
     "metadata": {},
     "output_type": "display_data"
    },
    {
     "name": "stdout",
     "output_type": "stream",
     "text": [
      "\n",
      "\n"
     ]
    },
    {
     "data": {
      "text/html": [
       "<strong>GPT Cost =</strong> $0.016"
      ],
      "text/plain": [
       "<IPython.core.display.HTML object>"
      ]
     },
     "metadata": {},
     "output_type": "display_data"
    },
    {
     "name": "stdout",
     "output_type": "stream",
     "text": [
      "\n",
      "\n",
      "\n"
     ]
    },
    {
     "data": {
      "text/html": [
       "<strong>Name:</strong> Seriously Great Market Solution"
      ],
      "text/plain": [
       "<IPython.core.display.HTML object>"
      ]
     },
     "metadata": {},
     "output_type": "display_data"
    },
    {
     "name": "stdout",
     "output_type": "stream",
     "text": [
      "\n",
      "\n"
     ]
    },
    {
     "data": {
      "text/html": [
       "<strong>GPT Compatibility Score:</strong> 4.0"
      ],
      "text/plain": [
       "<IPython.core.display.HTML object>"
      ]
     },
     "metadata": {},
     "output_type": "display_data"
    },
    {
     "data": {
      "text/html": [
       "<strong>GPT Description:</strong> Without specific information on their focus on gourmet or local products, it's difficult to assess the compatibility. The designation as a 'Grocery store' is broad and does not inherently suggest a specialty in gourmet items. Therefore, the compatibility is moderate, assuming they may have some interest in quality products but not necessarily a gourmet focus."
      ],
      "text/plain": [
       "<IPython.core.display.HTML object>"
      ]
     },
     "metadata": {},
     "output_type": "display_data"
    },
    {
     "data": {
      "text/html": [
       "<strong>GPT Number of Stores:</strong> 1"
      ],
      "text/plain": [
       "<IPython.core.display.HTML object>"
      ]
     },
     "metadata": {},
     "output_type": "display_data"
    },
    {
     "name": "stdout",
     "output_type": "stream",
     "text": [
      "\n",
      "\n"
     ]
    },
    {
     "data": {
      "text/html": [
       "<strong>Human Compatibility Score:</strong> 1.0"
      ],
      "text/plain": [
       "<IPython.core.display.HTML object>"
      ]
     },
     "metadata": {},
     "output_type": "display_data"
    },
    {
     "data": {
      "text/html": [
       "<strong>Human Description:</strong> No reviews or website"
      ],
      "text/plain": [
       "<IPython.core.display.HTML object>"
      ]
     },
     "metadata": {},
     "output_type": "display_data"
    },
    {
     "name": "stdout",
     "output_type": "stream",
     "text": [
      "\n",
      "\n"
     ]
    },
    {
     "data": {
      "text/html": [
       "<strong>GPT Cost =</strong> $0.008"
      ],
      "text/plain": [
       "<IPython.core.display.HTML object>"
      ]
     },
     "metadata": {},
     "output_type": "display_data"
    },
    {
     "name": "stdout",
     "output_type": "stream",
     "text": [
      "\n",
      "\n",
      "\n"
     ]
    },
    {
     "data": {
      "text/html": [
       "<strong>Name:</strong> Tn Food & Grocery"
      ],
      "text/plain": [
       "<IPython.core.display.HTML object>"
      ]
     },
     "metadata": {},
     "output_type": "display_data"
    },
    {
     "name": "stdout",
     "output_type": "stream",
     "text": [
      "\n",
      "\n"
     ]
    },
    {
     "data": {
      "text/html": [
       "<strong>GPT Compatibility Score:</strong> 4.0"
      ],
      "text/plain": [
       "<IPython.core.display.HTML object>"
      ]
     },
     "metadata": {},
     "output_type": "display_data"
    },
    {
     "data": {
      "text/html": [
       "<strong>GPT Description:</strong> Tn Food & Grocery appears to be a local store with a focus on homemade food and a friendly atmosphere. However, there is no clear indication that they specialize in gourmet products or have a specific interest in curating products from small businesses. The compatibility is moderate as they may still be interested in high-quality local products, but their primary focus does not seem to align perfectly with a specialty honey producer."
      ],
      "text/plain": [
       "<IPython.core.display.HTML object>"
      ]
     },
     "metadata": {},
     "output_type": "display_data"
    },
    {
     "data": {
      "text/html": [
       "<strong>GPT Number of Stores:</strong> 1"
      ],
      "text/plain": [
       "<IPython.core.display.HTML object>"
      ]
     },
     "metadata": {},
     "output_type": "display_data"
    },
    {
     "name": "stdout",
     "output_type": "stream",
     "text": [
      "\n",
      "\n"
     ]
    },
    {
     "data": {
      "text/html": [
       "<strong>Human Compatibility Score:</strong> 4.0"
      ],
      "text/plain": [
       "<IPython.core.display.HTML object>"
      ]
     },
     "metadata": {},
     "output_type": "display_data"
    },
    {
     "data": {
      "text/html": [
       "<strong>Human Description:</strong> No focus on gourmet"
      ],
      "text/plain": [
       "<IPython.core.display.HTML object>"
      ]
     },
     "metadata": {},
     "output_type": "display_data"
    },
    {
     "name": "stdout",
     "output_type": "stream",
     "text": [
      "\n",
      "\n"
     ]
    },
    {
     "data": {
      "text/html": [
       "<strong>GPT Cost =</strong> $0.017"
      ],
      "text/plain": [
       "<IPython.core.display.HTML object>"
      ]
     },
     "metadata": {},
     "output_type": "display_data"
    },
    {
     "name": "stdout",
     "output_type": "stream",
     "text": [
      "\n",
      "\n",
      "\n"
     ]
    },
    {
     "data": {
      "text/html": [
       "<strong>Name:</strong> Holson's Produce"
      ],
      "text/plain": [
       "<IPython.core.display.HTML object>"
      ]
     },
     "metadata": {},
     "output_type": "display_data"
    },
    {
     "name": "stdout",
     "output_type": "stream",
     "text": [
      "\n",
      "\n"
     ]
    },
    {
     "data": {
      "text/html": [
       "<strong>GPT Compatibility Score:</strong> 4.0"
      ],
      "text/plain": [
       "<IPython.core.display.HTML object>"
      ]
     },
     "metadata": {},
     "output_type": "display_data"
    },
    {
     "data": {
      "text/html": [
       "<strong>GPT Description:</strong> Holson's Produce appears to be a market that focuses on fresh produce and meats, with a community-oriented customer base. While they may appreciate high-quality products, their emphasis does not seem to be on gourmet or specialty items, which may limit the compatibility with a premium mono-floral honey. However, as a local business, they might still be open to stocking unique items from other small businesses."
      ],
      "text/plain": [
       "<IPython.core.display.HTML object>"
      ]
     },
     "metadata": {},
     "output_type": "display_data"
    },
    {
     "data": {
      "text/html": [
       "<strong>GPT Number of Stores:</strong> 1"
      ],
      "text/plain": [
       "<IPython.core.display.HTML object>"
      ]
     },
     "metadata": {},
     "output_type": "display_data"
    },
    {
     "name": "stdout",
     "output_type": "stream",
     "text": [
      "\n",
      "\n"
     ]
    },
    {
     "data": {
      "text/html": [
       "<strong>Human Compatibility Score:</strong> 5.0"
      ],
      "text/plain": [
       "<IPython.core.display.HTML object>"
      ]
     },
     "metadata": {},
     "output_type": "display_data"
    },
    {
     "data": {
      "text/html": [
       "<strong>Human Description:</strong> No website but maybe."
      ],
      "text/plain": [
       "<IPython.core.display.HTML object>"
      ]
     },
     "metadata": {},
     "output_type": "display_data"
    },
    {
     "name": "stdout",
     "output_type": "stream",
     "text": [
      "\n",
      "\n"
     ]
    },
    {
     "data": {
      "text/html": [
       "<strong>GPT Cost =</strong> $0.015"
      ],
      "text/plain": [
       "<IPython.core.display.HTML object>"
      ]
     },
     "metadata": {},
     "output_type": "display_data"
    },
    {
     "name": "stdout",
     "output_type": "stream",
     "text": [
      "\n",
      "\n",
      "\n"
     ]
    },
    {
     "data": {
      "text/html": [
       "<strong>Name:</strong> Suns Market"
      ],
      "text/plain": [
       "<IPython.core.display.HTML object>"
      ]
     },
     "metadata": {},
     "output_type": "display_data"
    },
    {
     "name": "stdout",
     "output_type": "stream",
     "text": [
      "\n",
      "\n"
     ]
    },
    {
     "data": {
      "text/html": [
       "<strong>GPT Compatibility Score:</strong> 2.0"
      ],
      "text/plain": [
       "<IPython.core.display.HTML object>"
      ]
     },
     "metadata": {},
     "output_type": "display_data"
    },
    {
     "data": {
      "text/html": [
       "<strong>GPT Description:</strong> Suns Market does not appear to specialize in gourmet food products or emphasize support for local small businesses. The reviews suggest it is a convenience store with a focus on subs and general grocery items, which does not align well with a high-quality, mono-floral honey product."
      ],
      "text/plain": [
       "<IPython.core.display.HTML object>"
      ]
     },
     "metadata": {},
     "output_type": "display_data"
    },
    {
     "data": {
      "text/html": [
       "<strong>GPT Number of Stores:</strong> 1"
      ],
      "text/plain": [
       "<IPython.core.display.HTML object>"
      ]
     },
     "metadata": {},
     "output_type": "display_data"
    },
    {
     "name": "stdout",
     "output_type": "stream",
     "text": [
      "\n",
      "\n"
     ]
    },
    {
     "data": {
      "text/html": [
       "<strong>Human Compatibility Score:</strong> 3.0"
      ],
      "text/plain": [
       "<IPython.core.display.HTML object>"
      ]
     },
     "metadata": {},
     "output_type": "display_data"
    },
    {
     "data": {
      "text/html": [
       "<strong>Human Description:</strong> Family owned so that's a plus, but gas station vibes. No gourmet."
      ],
      "text/plain": [
       "<IPython.core.display.HTML object>"
      ]
     },
     "metadata": {},
     "output_type": "display_data"
    },
    {
     "name": "stdout",
     "output_type": "stream",
     "text": [
      "\n",
      "\n"
     ]
    },
    {
     "data": {
      "text/html": [
       "<strong>GPT Cost =</strong> $0.017"
      ],
      "text/plain": [
       "<IPython.core.display.HTML object>"
      ]
     },
     "metadata": {},
     "output_type": "display_data"
    },
    {
     "name": "stdout",
     "output_type": "stream",
     "text": [
      "\n",
      "\n",
      "\n"
     ]
    },
    {
     "data": {
      "text/html": [
       "<strong>Name:</strong> SC Foods"
      ],
      "text/plain": [
       "<IPython.core.display.HTML object>"
      ]
     },
     "metadata": {},
     "output_type": "display_data"
    },
    {
     "name": "stdout",
     "output_type": "stream",
     "text": [
      "\n",
      "\n"
     ]
    },
    {
     "data": {
      "text/html": [
       "<strong>GPT Compatibility Score:</strong> 6.0"
      ],
      "text/plain": [
       "<IPython.core.display.HTML object>"
      ]
     },
     "metadata": {},
     "output_type": "display_data"
    },
    {
     "data": {
      "text/html": [
       "<strong>GPT Description:</strong> SC Foods, being a grocery store, may carry a variety of food products, but there is no specific information suggesting a focus on gourmet or locally-sourced items. This could mean a moderate level of compatibility, as they may still be interested in high-quality products, but they might not prioritize small business partnerships."
      ],
      "text/plain": [
       "<IPython.core.display.HTML object>"
      ]
     },
     "metadata": {},
     "output_type": "display_data"
    },
    {
     "data": {
      "text/html": [
       "<strong>GPT Number of Stores:</strong> 1"
      ],
      "text/plain": [
       "<IPython.core.display.HTML object>"
      ]
     },
     "metadata": {},
     "output_type": "display_data"
    },
    {
     "name": "stdout",
     "output_type": "stream",
     "text": [
      "\n",
      "\n"
     ]
    },
    {
     "data": {
      "text/html": [
       "<strong>Human Compatibility Score:</strong> 4.0"
      ],
      "text/plain": [
       "<IPython.core.display.HTML object>"
      ]
     },
     "metadata": {},
     "output_type": "display_data"
    },
    {
     "data": {
      "text/html": [
       "<strong>Human Description:</strong> I don't know what this is but there's no focus on gourmet."
      ],
      "text/plain": [
       "<IPython.core.display.HTML object>"
      ]
     },
     "metadata": {},
     "output_type": "display_data"
    },
    {
     "name": "stdout",
     "output_type": "stream",
     "text": [
      "\n",
      "\n"
     ]
    },
    {
     "data": {
      "text/html": [
       "<strong>GPT Cost =</strong> $0.008"
      ],
      "text/plain": [
       "<IPython.core.display.HTML object>"
      ]
     },
     "metadata": {},
     "output_type": "display_data"
    },
    {
     "name": "stdout",
     "output_type": "stream",
     "text": [
      "\n",
      "\n",
      "\n"
     ]
    },
    {
     "data": {
      "text/html": [
       "<strong>Name:</strong> Colonial Grocery Deli & Bodega"
      ],
      "text/plain": [
       "<IPython.core.display.HTML object>"
      ]
     },
     "metadata": {},
     "output_type": "display_data"
    },
    {
     "name": "stdout",
     "output_type": "stream",
     "text": [
      "\n",
      "\n"
     ]
    },
    {
     "data": {
      "text/html": [
       "<strong>GPT Compatibility Score:</strong> 3.0"
      ],
      "text/plain": [
       "<IPython.core.display.HTML object>"
      ]
     },
     "metadata": {},
     "output_type": "display_data"
    },
    {
     "data": {
      "text/html": [
       "<strong>GPT Description:</strong> While Colonial Grocery Deli & Bodega has a high rating and seems to offer a variety of Latin groceries and prepared foods, there is no specific mention of a focus on gourmet or artisanal products. This suggests that the store may not be the ideal venue for a specialty item like high-quality, mono-floral honey from a small family-owned business."
      ],
      "text/plain": [
       "<IPython.core.display.HTML object>"
      ]
     },
     "metadata": {},
     "output_type": "display_data"
    },
    {
     "data": {
      "text/html": [
       "<strong>GPT Number of Stores:</strong> 1"
      ],
      "text/plain": [
       "<IPython.core.display.HTML object>"
      ]
     },
     "metadata": {},
     "output_type": "display_data"
    },
    {
     "name": "stdout",
     "output_type": "stream",
     "text": [
      "\n",
      "\n"
     ]
    },
    {
     "data": {
      "text/html": [
       "<strong>Human Compatibility Score:</strong> 6.5"
      ],
      "text/plain": [
       "<IPython.core.display.HTML object>"
      ]
     },
     "metadata": {},
     "output_type": "display_data"
    },
    {
     "data": {
      "text/html": [
       "<strong>Human Description:</strong> Ethnic market. Strong focus on local. No clear gourmet but small."
      ],
      "text/plain": [
       "<IPython.core.display.HTML object>"
      ]
     },
     "metadata": {},
     "output_type": "display_data"
    },
    {
     "name": "stdout",
     "output_type": "stream",
     "text": [
      "\n",
      "\n"
     ]
    },
    {
     "data": {
      "text/html": [
       "<strong>GPT Cost =</strong> $0.015"
      ],
      "text/plain": [
       "<IPython.core.display.HTML object>"
      ]
     },
     "metadata": {},
     "output_type": "display_data"
    },
    {
     "name": "stdout",
     "output_type": "stream",
     "text": [
      "\n",
      "\n",
      "\n"
     ]
    },
    {
     "data": {
      "text/html": [
       "<strong>Name:</strong> Trader Joe's"
      ],
      "text/plain": [
       "<IPython.core.display.HTML object>"
      ]
     },
     "metadata": {},
     "output_type": "display_data"
    },
    {
     "name": "stdout",
     "output_type": "stream",
     "text": [
      "\n",
      "\n"
     ]
    },
    {
     "data": {
      "text/html": [
       "<strong>GPT Compatibility Score:</strong> 5.0"
      ],
      "text/plain": [
       "<IPython.core.display.HTML object>"
      ]
     },
     "metadata": {},
     "output_type": "display_data"
    },
    {
     "data": {
      "text/html": [
       "<strong>GPT Description:</strong> Trader Joe's offers a variety of organic and gourmet products, which could be a good fit for high-quality, mono-floral honey. However, as a large national chain, it may not prioritize small, local producers to the extent a smaller gourmet grocer would. The emphasis on private label products could also limit opportunities for external brands."
      ],
      "text/plain": [
       "<IPython.core.display.HTML object>"
      ]
     },
     "metadata": {},
     "output_type": "display_data"
    },
    {
     "data": {
      "text/html": [
       "<strong>GPT Number of Stores:</strong> 530"
      ],
      "text/plain": [
       "<IPython.core.display.HTML object>"
      ]
     },
     "metadata": {},
     "output_type": "display_data"
    },
    {
     "name": "stdout",
     "output_type": "stream",
     "text": [
      "\n",
      "\n"
     ]
    },
    {
     "data": {
      "text/html": [
       "<strong>Human Compatibility Score:</strong> 4.0"
      ],
      "text/plain": [
       "<IPython.core.display.HTML object>"
      ]
     },
     "metadata": {},
     "output_type": "display_data"
    },
    {
     "data": {
      "text/html": [
       "<strong>Human Description:</strong> Massive chain. Too much red tape."
      ],
      "text/plain": [
       "<IPython.core.display.HTML object>"
      ]
     },
     "metadata": {},
     "output_type": "display_data"
    },
    {
     "name": "stdout",
     "output_type": "stream",
     "text": [
      "\n",
      "\n"
     ]
    },
    {
     "data": {
      "text/html": [
       "<strong>GPT Cost =</strong> $0.025"
      ],
      "text/plain": [
       "<IPython.core.display.HTML object>"
      ]
     },
     "metadata": {},
     "output_type": "display_data"
    },
    {
     "name": "stdout",
     "output_type": "stream",
     "text": [
      "\n",
      "\n",
      "\n"
     ]
    },
    {
     "data": {
      "text/html": [
       "<strong>Name:</strong> JNM Super Market"
      ],
      "text/plain": [
       "<IPython.core.display.HTML object>"
      ]
     },
     "metadata": {},
     "output_type": "display_data"
    },
    {
     "name": "stdout",
     "output_type": "stream",
     "text": [
      "\n",
      "\n"
     ]
    },
    {
     "data": {
      "text/html": [
       "<strong>GPT Compatibility Score:</strong> 2.0"
      ],
      "text/plain": [
       "<IPython.core.display.HTML object>"
      ]
     },
     "metadata": {},
     "output_type": "display_data"
    },
    {
     "data": {
      "text/html": [
       "<strong>GPT Description:</strong> JNM Super Market appears to be more of a convenience store with a focus on souvenir items rather than a gourmet grocery store. Reviews suggest a limited selection of groceries, which does not align well with the specialized nature of high-quality, mono-floral honey from a small business."
      ],
      "text/plain": [
       "<IPython.core.display.HTML object>"
      ]
     },
     "metadata": {},
     "output_type": "display_data"
    },
    {
     "data": {
      "text/html": [
       "<strong>GPT Number of Stores:</strong> 1"
      ],
      "text/plain": [
       "<IPython.core.display.HTML object>"
      ]
     },
     "metadata": {},
     "output_type": "display_data"
    },
    {
     "name": "stdout",
     "output_type": "stream",
     "text": [
      "\n",
      "\n"
     ]
    },
    {
     "data": {
      "text/html": [
       "<strong>Human Compatibility Score:</strong> 1.0"
      ],
      "text/plain": [
       "<IPython.core.display.HTML object>"
      ]
     },
     "metadata": {},
     "output_type": "display_data"
    },
    {
     "data": {
      "text/html": [
       "<strong>Human Description:</strong> Gas station. "
      ],
      "text/plain": [
       "<IPython.core.display.HTML object>"
      ]
     },
     "metadata": {},
     "output_type": "display_data"
    },
    {
     "name": "stdout",
     "output_type": "stream",
     "text": [
      "\n",
      "\n"
     ]
    },
    {
     "data": {
      "text/html": [
       "<strong>GPT Cost =</strong> $0.015"
      ],
      "text/plain": [
       "<IPython.core.display.HTML object>"
      ]
     },
     "metadata": {},
     "output_type": "display_data"
    },
    {
     "name": "stdout",
     "output_type": "stream",
     "text": [
      "\n",
      "\n",
      "\n"
     ]
    }
   ],
   "source": [
    "for i in benchmark_results.index:\n",
    "\n",
    "    ## Parse Results\n",
    "    name = benchmark_results['Name'].loc[i]\n",
    "    \n",
    "    gpt_score = benchmark_results['GPT Score'].loc[i]\n",
    "    gpt_description = benchmark_results['GPT Description'].loc[i]\n",
    "    gpt_num_stores = benchmark_results['GPT Num Stores'].loc[i]\n",
    "    gpt_cost = benchmark_results['GPT Cost ($)'].loc[i]\n",
    "    \n",
    "    human_score = benchmark_results['Human Score'].loc[i]\n",
    "    human_description = benchmark_results['Human Notes'].loc[i]\n",
    "\n",
    "    ## Display with HTML formatting\n",
    "    display(HTML(f\"<strong>Name:</strong> {name}\"))\n",
    "    print(\"\\n\")\n",
    "    display(HTML(f\"<strong>GPT Compatibility Score:</strong> {float(gpt_score)}\"))\n",
    "    display(HTML(f\"<strong>GPT Description:</strong> {gpt_description}\"))\n",
    "    display(HTML(f\"<strong>GPT Number of Stores:</strong> {gpt_num_stores}\"))\n",
    "    print(\"\\n\")\n",
    "    display(HTML(f\"<strong>Human Compatibility Score:</strong> {human_score}\"))\n",
    "    display(HTML(f\"<strong>Human Description:</strong> {human_description}\"))\n",
    "    print(\"\\n\")\n",
    "    display(HTML(f\"<strong>GPT Cost =</strong> ${gpt_cost:.3f}\"))\n",
    "    print(\"\\n\\n\")"
   ]
  },
  {
   "cell_type": "markdown",
   "id": "4607bd76-3dce-49ec-85ec-404f6b1c4d3c",
   "metadata": {},
   "source": [
    "### This prompt looks good"
   ]
  },
  {
   "cell_type": "markdown",
   "id": "106af67c-1955-4f16-a04b-7401144fced9",
   "metadata": {},
   "source": [
    "### Next: tuning hyperparameters"
   ]
  }
 ],
 "metadata": {
  "kernelspec": {
   "display_name": "Python 3 (ipykernel)",
   "language": "python",
   "name": "python3"
  },
  "language_info": {
   "codemirror_mode": {
    "name": "ipython",
    "version": 3
   },
   "file_extension": ".py",
   "mimetype": "text/x-python",
   "name": "python",
   "nbconvert_exporter": "python",
   "pygments_lexer": "ipython3",
   "version": "3.11.6"
  }
 },
 "nbformat": 4,
 "nbformat_minor": 5
}
