{
 "cells": [
  {
   "cell_type": "markdown",
   "id": "3a881754-c523-47f4-b4c0-e412ae185adc",
   "metadata": {},
   "source": [
    "## Prompt Engineering\n",
    "- Try different prompts and formatting\n",
    "- Check Results against human benchmark"
   ]
  },
  {
   "cell_type": "code",
   "execution_count": 1,
   "id": "0766fe2b-2320-46c7-9351-e71f0ca50bce",
   "metadata": {},
   "outputs": [],
   "source": [
    "import os\n",
    "from openai import OpenAI\n",
    "import json"
   ]
  },
  {
   "cell_type": "markdown",
   "id": "2ad6a2b8-38c7-4247-8b24-46768d649cb0",
   "metadata": {},
   "source": [
    "## Load the Open AI API Key"
   ]
  },
  {
   "cell_type": "code",
   "execution_count": 2,
   "id": "ee7705da-222b-4d5b-9776-9cf46d017320",
   "metadata": {},
   "outputs": [
    {
     "name": "stdout",
     "output_type": "stream",
     "text": [
      "API key is loaded.\n"
     ]
    }
   ],
   "source": [
    "from dotenv import load_dotenv, find_dotenv\n",
    "_ = load_dotenv(find_dotenv()) # read local .env file\n",
    "\n",
    "api_key = os.getenv('OPENAI_API_KEY')\n",
    "\n",
    "# Check if the API key is loaded\n",
    "if api_key:\n",
    "    print(\"API key is loaded.\")\n",
    "else:\n",
    "    print(\"API key is not loaded.\")"
   ]
  },
  {
   "cell_type": "markdown",
   "id": "72c7de3e-3b18-45be-9ea0-99520e1fc363",
   "metadata": {},
   "source": [
    "## Load a single test"
   ]
  },
  {
   "cell_type": "code",
   "execution_count": 6,
   "id": "2cc285ca-3ac6-4c59-8659-be5d1f35e7e1",
   "metadata": {},
   "outputs": [
    {
     "data": {
      "text/plain": [
       "'{\"Name\":\"The Fresh Market\",\"Description\":\"Upscale grocery store chain with an old-world vibe offers local produce, prepared eats, wine & more.\",\"Website\":\"https:\\\\/\\\\/stores.thefreshmarket.com\\\\/fl\\\\/orlando\\\\/38\",\"Address\":\"5000 Dr Phillips Blvd, Orlando, FL 32819\",\"Phone\":\"(407) 294-1516\",\"Rating\":4.5,\"Price\":\"$$$\",\"Type\":[\"Grocery store\",\"American grocery store\",\"Bakery\",\"Butcher shop\",\"Fruit and vegetable store\",\"Gourmet grocery store\",\"Market\",\"Organic food store\",\"Produce market\",\"Supermarket\"],\"Highlights\":\"Great produce\",\"Offerings\":\"Organic products\",\"Q_and_A\":[{\"question\":{\"user\":{\"name\":\"Anita Caragan\",\"link\":\"https:\\\\/\\\\/www.google.com\\\\/maps\\\\/contrib\\\\/113357052055774270348\",\"thumbnail\":\"https:\\\\/\\\\/lh3.googleusercontent.com\\\\/a\\\\/ACg8ocKdK8_h2Q72RjHiQIaBRzydgHNYXF_L4fVzUnKZqkzr=s120-c-rp-mo-br100\"},\"text\":\"Do you have bake chicken?\",\"date\":\"4 years ago\",\"language\":\"en\"},\"answer\":{\"user\":{\"name\":\"Jeanne M\",\"link\":\"https:\\\\/\\\\/www.google.com\\\\/maps\\\\/contrib\\\\/103273231700736606425\",\"thumbnail\":\"https:\\\\/\\\\/lh3.googleusercontent.com\\\\/a-\\\\/ALV-UjV1dxAWbPQ3Hw4yKJqSD6JTjsAO3KK2rwa8j93c3LoWWeQd=s120-c-rp-mo-ba6-br100\"},\"text\":\"Yes they do.\",\"date\":\"2 years ago\",\"language\":\"en\"}}],\"Snippets\":[{\"snippet\":\"\\\\\"Exclusive place to buy good food, prices are what you expect, and quality meals.\\\\\"\"},{\"snippet\":\"\\\\\"Nice staff, pretty good selection of groceries available, $$$$\\\\\"\"},{\"snippet\":\"\\\\\"Good variety of produce, meat, sea food, cheeses and deli.\\\\\"\"}],\"Reviews_Most_Relevant\":[{\"username\":\"Scott Ziegler\",\"rating\":5,\"description\":\"Fresh Market is my #1\\\\nMy top 5 grocery stores in the Dr Phillips\\\\/SW Orlando area: no\\\\n\\\\nThe Fresh Market is my favorite all around grocery store in DP\\\\/SW Orlando based on product assortment\\\\/selection and quality\\\\/ freshness, customer orientation\\\\/service, value offers, shopping pleasure and parking convenience.\\\\n\\\\nClose 2nd and 3rd are Publix in the Cascades of Islesworth and Traders Joe\\\\u2019s.\\\\n\\\\nNot too far behind are Walmart Neighborhood Market and Publix O Town West\\\\n\\\\nNot in:  Winn Dixie, Whole Foods, Publix Plaza Venitzia, Sprouts, Publix Dr Phillips Marketplace\\\\n\\\\nWhat do you think?\",\"date\":\"5 days ago\"},{\"username\":\"Jack Shekinah\",\"rating\":5,\"description\":\"Beautiful place to shop! I just enjoyed my first shopping in Orlando on this shop! Great price and great staff!\",\"date\":\"2 months ago\"},{\"username\":\"Vicki\",\"rating\":5,\"description\":\"Fresh Market in the Dr. Phillips area is truly outstanding. The facility is clean, inviting, and has a great employee team working there. Great specials and the best food quality. Kudos to Ryan. the sushi team and Kat, among so many others.\",\"date\":\"a week ago\"},{\"username\":\"Jane Walker\",\"rating\":5,\"description\":\"Everyone is exceptionally nice, there is one employee that keeps her area perfect, nuts candy, coffee , Angela ! the displays at the holiday time are great, I\\\\u2019m hoping to see something for the Super Bowl.\\\\nI love Kevin, Kat  and William in the deli, both are an asset to this company. Happy New Year!\",\"date\":\"6 days ago\"},{\"username\":\"Manal Ammagui\",\"rating\":5,\"description\":\"great supermarket that offers such a great variety if produce, meats, snacks, beverages, and ready-to-go meals. those meals are my favorite thing here, so many delicious options! the staff is nice and helpful. this location\\\\u2019s in a plaza so there\\\\u2019s good parking available but it can get pretty packed since it\\\\u2019s rather small.\",\"date\":\"a year ago\"},{\"username\":\"Catherine de Beer\",\"rating\":5,\"description\":\"Great upscale local grocery store.  They have lots of fresh to go and prepared foods as well as full service deli and meat departments, a bakery, large wine and cheese selection, and varied produce section with products not found in regular supermarkets.\\\\n\\\\nThis store has great weekly fresh meat and seafood specials, and a weekly take and make dinner offering.  They have many hard to find dried herbs and spices as well as a selection of unique grocery items and craft cooking kits and sauces.  When you\\'re looking for something different or special this is a great place to try.  If you are lucky enough to live nearby they offer occasional email coupons and updates on their specials.\",\"date\":\"3 years ago\"},{\"username\":\"George Jones\",\"rating\":4,\"description\":\"The parking lot is pretty open during the weekdays, but it gets busy during the weekend. Be sure to check their weekly flyer at the front of the store to find the best deals. Rotisserie chicken was on Sales for $5 all month! Also, can\\\\u2019t say enough about their coffee, they always have a fresh pot and a great blend!\\\\nUnfortunately, found some of there food that was recently expired and the prices are a little high. So, almost great.\",\"date\":\"4 years ago\"},{\"username\":\"Olivia\",\"rating\":5,\"description\":\"Such a lovely upscale grocery store. The choice is fantastic and the staff are even better! Always so helpful, especially Kat. Will keep coming back!\",\"date\":\"2 months ago\"}]}'"
      ]
     },
     "execution_count": 6,
     "metadata": {},
     "output_type": "execute_result"
    }
   ],
   "source": [
    "with open('./Data/test.json', 'r') as file:\n",
    "    test_json = json.load(file)\n",
    "test_json"
   ]
  },
  {
   "cell_type": "markdown",
   "id": "61823d94-4db9-4818-b141-3558c65eda1e",
   "metadata": {},
   "source": [
    "## Model 1: Minimal w/ Assistant API\n",
    "- This prompt relies on the model's NLP ability to infer a match given our company description and the store information\n",
    "- Store data includes reviews, snippets, short description, address\n",
    "- API endpoint is the Assistants API, not the Chat Completions"
   ]
  },
  {
   "cell_type": "code",
   "execution_count": 7,
   "id": "9e39986d-261e-4de8-a2c9-a010dc57628f",
   "metadata": {},
   "outputs": [],
   "source": [
    "client = OpenAI()\n",
    "\n",
    "instructions = (\"You are a helpful assistant tasked with helping us find grocery stores to stock our honey. \"\n",
    "                \"We are a fourth-generation, family-owned apiary based out of northern Florida that specializes \"\n",
    "                \"in the production of extremely high quality, mono-floral honey. We are looking for grocers that \"\n",
    "                \"specialize in curating gourmet food products, especially from small businesses such as ours. \"\n",
    "                \"Your task is to assign a compatibility score from 1-10 to the grocery store based on the {json} \"\n",
    "                \"of store data we provide. The output should be a json with the score and a short description \"\n",
    "                \"justifying why a given score was received.\")\n",
    "\n",
    "assistant = client.beta.assistants.create(\n",
    "    name=\"Gourmet Grocery Store Finder (Minimal)\",\n",
    "    instructions=instructions,\n",
    "    model=\"gpt-4-1106-preview\"\n",
    ")"
   ]
  },
  {
   "cell_type": "markdown",
   "id": "bd0513b5-d1ce-4ce5-a3ef-c0c2dbc912ed",
   "metadata": {},
   "source": [
    "#### Generate a Run"
   ]
  },
  {
   "cell_type": "code",
   "execution_count": 8,
   "id": "cb71c2a4-6359-4836-b00d-64467a3026d3",
   "metadata": {},
   "outputs": [],
   "source": [
    "thread = client.beta.threads.create()"
   ]
  },
  {
   "cell_type": "code",
   "execution_count": 9,
   "id": "60a49499-1b18-405b-ab34-5bdd1ea5a3c6",
   "metadata": {},
   "outputs": [],
   "source": [
    "message = client.beta.threads.messages.create(\n",
    "    thread_id=thread.id,\n",
    "    role=\"user\",\n",
    "    content=test_json\n",
    ")"
   ]
  },
  {
   "cell_type": "code",
   "execution_count": 32,
   "id": "c59ad06b-a5e7-4a95-8d44-f5119e0c4c8c",
   "metadata": {},
   "outputs": [],
   "source": [
    "run = client.beta.threads.runs.create(\n",
    "  thread_id=thread.id,\n",
    "  assistant_id=assistant.id,\n",
    ")"
   ]
  },
  {
   "cell_type": "code",
   "execution_count": 38,
   "id": "34dbfcc2-a92a-4283-8305-93eb84474281",
   "metadata": {},
   "outputs": [
    {
     "data": {
      "text/plain": [
       "SyncCursorPage[ThreadMessage](data=[ThreadMessage(id='msg_VXClhv38cBJWwWUuH3xMVdQu', assistant_id='asst_d1LgL4keVHGdV8XmKyetMtDO', content=[MessageContentText(text=Text(annotations=[], value='```json\\n{\\n  \"Score\": 9,\\n  \"Description\": \"The Fresh Market receives a compatibility score of 9 as it aligns closely with the criterion for a grocery store that specializes in curating gourmet food products. Given its upscale and gourmet focus, it should be a natural fit for high quality, mono-floral honey from a family-owned small business. The store\\'s 4.5 rating and range of offerings, including organic products and a reputation for great produce, enhance the likelihood of a mutually beneficial partnership. Additionally, customer reviews indicate a preference for unique and high-quality items, which further supports the compatibility.\"\\n}\\n```'), type='text')], created_at=1705963418, file_ids=[], metadata={}, object='thread.message', role='assistant', run_id='run_t43dmvG5We0tfjwYFWcT1vzJ', thread_id='thread_FgO221UrN6FPouips7qEmSYK'), ThreadMessage(id='msg_RF2phsqu77fY5gibH2mQzs1e', assistant_id=None, content=[MessageContentText(text=Text(annotations=[], value='{\"Name\":\"The Fresh Market\",\"Description\":\"Upscale grocery store chain with an old-world vibe offers local produce, prepared eats, wine & more.\",\"Website\":\"https:\\\\/\\\\/stores.thefreshmarket.com\\\\/fl\\\\/orlando\\\\/38\",\"Address\":\"5000 Dr Phillips Blvd, Orlando, FL 32819\",\"Phone\":\"(407) 294-1516\",\"Rating\":4.5,\"Price\":\"$$$\",\"Type\":[\"Grocery store\",\"American grocery store\",\"Bakery\",\"Butcher shop\",\"Fruit and vegetable store\",\"Gourmet grocery store\",\"Market\",\"Organic food store\",\"Produce market\",\"Supermarket\"],\"Highlights\":\"Great produce\",\"Offerings\":\"Organic products\",\"Q_and_A\":[{\"question\":{\"user\":{\"name\":\"Anita Caragan\",\"link\":\"https:\\\\/\\\\/www.google.com\\\\/maps\\\\/contrib\\\\/113357052055774270348\",\"thumbnail\":\"https:\\\\/\\\\/lh3.googleusercontent.com\\\\/a\\\\/ACg8ocKdK8_h2Q72RjHiQIaBRzydgHNYXF_L4fVzUnKZqkzr=s120-c-rp-mo-br100\"},\"text\":\"Do you have bake chicken?\",\"date\":\"4 years ago\",\"language\":\"en\"},\"answer\":{\"user\":{\"name\":\"Jeanne M\",\"link\":\"https:\\\\/\\\\/www.google.com\\\\/maps\\\\/contrib\\\\/103273231700736606425\",\"thumbnail\":\"https:\\\\/\\\\/lh3.googleusercontent.com\\\\/a-\\\\/ALV-UjV1dxAWbPQ3Hw4yKJqSD6JTjsAO3KK2rwa8j93c3LoWWeQd=s120-c-rp-mo-ba6-br100\"},\"text\":\"Yes they do.\",\"date\":\"2 years ago\",\"language\":\"en\"}}],\"Snippets\":[{\"snippet\":\"\\\\\"Exclusive place to buy good food, prices are what you expect, and quality meals.\\\\\"\"},{\"snippet\":\"\\\\\"Nice staff, pretty good selection of groceries available, $$$$\\\\\"\"},{\"snippet\":\"\\\\\"Good variety of produce, meat, sea food, cheeses and deli.\\\\\"\"}],\"Reviews_Most_Relevant\":[{\"username\":\"Scott Ziegler\",\"rating\":5,\"description\":\"Fresh Market is my #1\\\\nMy top 5 grocery stores in the Dr Phillips\\\\/SW Orlando area: no\\\\n\\\\nThe Fresh Market is my favorite all around grocery store in DP\\\\/SW Orlando based on product assortment\\\\/selection and quality\\\\/ freshness, customer orientation\\\\/service, value offers, shopping pleasure and parking convenience.\\\\n\\\\nClose 2nd and 3rd are Publix in the Cascades of Islesworth and Traders Joe\\\\u2019s.\\\\n\\\\nNot too far behind are Walmart Neighborhood Market and Publix O Town West\\\\n\\\\nNot in:  Winn Dixie, Whole Foods, Publix Plaza Venitzia, Sprouts, Publix Dr Phillips Marketplace\\\\n\\\\nWhat do you think?\",\"date\":\"5 days ago\"},{\"username\":\"Jack Shekinah\",\"rating\":5,\"description\":\"Beautiful place to shop! I just enjoyed my first shopping in Orlando on this shop! Great price and great staff!\",\"date\":\"2 months ago\"},{\"username\":\"Vicki\",\"rating\":5,\"description\":\"Fresh Market in the Dr. Phillips area is truly outstanding. The facility is clean, inviting, and has a great employee team working there. Great specials and the best food quality. Kudos to Ryan. the sushi team and Kat, among so many others.\",\"date\":\"a week ago\"},{\"username\":\"Jane Walker\",\"rating\":5,\"description\":\"Everyone is exceptionally nice, there is one employee that keeps her area perfect, nuts candy, coffee , Angela ! the displays at the holiday time are great, I\\\\u2019m hoping to see something for the Super Bowl.\\\\nI love Kevin, Kat  and William in the deli, both are an asset to this company. Happy New Year!\",\"date\":\"6 days ago\"},{\"username\":\"Manal Ammagui\",\"rating\":5,\"description\":\"great supermarket that offers such a great variety if produce, meats, snacks, beverages, and ready-to-go meals. those meals are my favorite thing here, so many delicious options! the staff is nice and helpful. this location\\\\u2019s in a plaza so there\\\\u2019s good parking available but it can get pretty packed since it\\\\u2019s rather small.\",\"date\":\"a year ago\"},{\"username\":\"Catherine de Beer\",\"rating\":5,\"description\":\"Great upscale local grocery store.  They have lots of fresh to go and prepared foods as well as full service deli and meat departments, a bakery, large wine and cheese selection, and varied produce section with products not found in regular supermarkets.\\\\n\\\\nThis store has great weekly fresh meat and seafood specials, and a weekly take and make dinner offering.  They have many hard to find dried herbs and spices as well as a selection of unique grocery items and craft cooking kits and sauces.  When you\\'re looking for something different or special this is a great place to try.  If you are lucky enough to live nearby they offer occasional email coupons and updates on their specials.\",\"date\":\"3 years ago\"},{\"username\":\"George Jones\",\"rating\":4,\"description\":\"The parking lot is pretty open during the weekdays, but it gets busy during the weekend. Be sure to check their weekly flyer at the front of the store to find the best deals. Rotisserie chicken was on Sales for $5 all month! Also, can\\\\u2019t say enough about their coffee, they always have a fresh pot and a great blend!\\\\nUnfortunately, found some of there food that was recently expired and the prices are a little high. So, almost great.\",\"date\":\"4 years ago\"},{\"username\":\"Olivia\",\"rating\":5,\"description\":\"Such a lovely upscale grocery store. The choice is fantastic and the staff are even better! Always so helpful, especially Kat. Will keep coming back!\",\"date\":\"2 months ago\"}]}'), type='text')], created_at=1705963415, file_ids=[], metadata={}, object='thread.message', role='user', run_id=None, thread_id='thread_FgO221UrN6FPouips7qEmSYK')], object='list', first_id='msg_VXClhv38cBJWwWUuH3xMVdQu', last_id='msg_RF2phsqu77fY5gibH2mQzs1e', has_more=False)"
      ]
     },
     "execution_count": 38,
     "metadata": {},
     "output_type": "execute_result"
    }
   ],
   "source": [
    "messages = client.beta.threads.messages.list(\n",
    "  thread_id=thread.id\n",
    ")\n",
    "messages"
   ]
  },
  {
   "cell_type": "markdown",
   "id": "c633c1b6-66d8-48f1-993c-7db3571413bd",
   "metadata": {},
   "source": [
    "#### Figure out the output format"
   ]
  },
  {
   "cell_type": "code",
   "execution_count": 39,
   "id": "2145f588-7818-4a3e-9437-4e8860581b06",
   "metadata": {},
   "outputs": [
    {
     "data": {
      "text/plain": [
       "'```json\\n{\\n  \"Score\": 9,\\n  \"Description\": \"The Fresh Market receives a compatibility score of 9 as it aligns closely with the criterion for a grocery store that specializes in curating gourmet food products. Given its upscale and gourmet focus, it should be a natural fit for high quality, mono-floral honey from a family-owned small business. The store\\'s 4.5 rating and range of offerings, including organic products and a reputation for great produce, enhance the likelihood of a mutually beneficial partnership. Additionally, customer reviews indicate a preference for unique and high-quality items, which further supports the compatibility.\"\\n}\\n```'"
      ]
     },
     "execution_count": 39,
     "metadata": {},
     "output_type": "execute_result"
    }
   ],
   "source": [
    "messages.data[i].content[0].text.value"
   ]
  },
  {
   "cell_type": "code",
   "execution_count": 40,
   "id": "7e10e485-ea9c-41bf-b6cc-8d230068ff15",
   "metadata": {},
   "outputs": [
    {
     "name": "stdout",
     "output_type": "stream",
     "text": [
      "0 assistant\n",
      "\t ```json\n",
      "{\n",
      "  \"Score\": 9,\n",
      "  \"Description\": \"The Fresh Market receives a compatibility score of 9 as it aligns closely with the criterion for a grocery store that specializes in curating gourmet food products. Given its upscale and gourmet focus, it should be a natural fit for high quality, mono-floral honey from a family-owned small business. The store's 4.5 rating and range of offerings, including organic products and a reputation for great produce, enhance the likelihood of a mutually beneficial partnership. Additionally, customer reviews indicate a preference for unique and high-quality items, which further supports the compatibility.\"\n",
      "}\n",
      "```\n",
      "1 user\n",
      "\t {\"Name\":\"The Fresh Market\",\"Description\":\"Upscale grocery store chain with an old-world vibe offers local produce, prepared eats, wine & more.\",\"Website\":\"https:\\/\\/stores.thefreshmarket.com\\/fl\\/orlando\\/38\",\"Address\":\"5000 Dr Phillips Blvd, Orlando, FL 32819\",\"Phone\":\"(407) 294-1516\",\"Rating\":4.5,\"Price\":\"$$$\",\"Type\":[\"Grocery store\",\"American grocery store\",\"Bakery\",\"Butcher shop\",\"Fruit and vegetable store\",\"Gourmet grocery store\",\"Market\",\"Organic food store\",\"Produce market\",\"Supermarket\"],\"Highlights\":\"Great produce\",\"Offerings\":\"Organic products\",\"Q_and_A\":[{\"question\":{\"user\":{\"name\":\"Anita Caragan\",\"link\":\"https:\\/\\/www.google.com\\/maps\\/contrib\\/113357052055774270348\",\"thumbnail\":\"https:\\/\\/lh3.googleusercontent.com\\/a\\/ACg8ocKdK8_h2Q72RjHiQIaBRzydgHNYXF_L4fVzUnKZqkzr=s120-c-rp-mo-br100\"},\"text\":\"Do you have bake chicken?\",\"date\":\"4 years ago\",\"language\":\"en\"},\"answer\":{\"user\":{\"name\":\"Jeanne M\",\"link\":\"https:\\/\\/www.google.com\\/maps\\/contrib\\/103273231700736606425\",\"thumbnail\":\"https:\\/\\/lh3.googleusercontent.com\\/a-\\/ALV-UjV1dxAWbPQ3Hw4yKJqSD6JTjsAO3KK2rwa8j93c3LoWWeQd=s120-c-rp-mo-ba6-br100\"},\"text\":\"Yes they do.\",\"date\":\"2 years ago\",\"language\":\"en\"}}],\"Snippets\":[{\"snippet\":\"\\\"Exclusive place to buy good food, prices are what you expect, and quality meals.\\\"\"},{\"snippet\":\"\\\"Nice staff, pretty good selection of groceries available, $$$$\\\"\"},{\"snippet\":\"\\\"Good variety of produce, meat, sea food, cheeses and deli.\\\"\"}],\"Reviews_Most_Relevant\":[{\"username\":\"Scott Ziegler\",\"rating\":5,\"description\":\"Fresh Market is my #1\\nMy top 5 grocery stores in the Dr Phillips\\/SW Orlando area: no\\n\\nThe Fresh Market is my favorite all around grocery store in DP\\/SW Orlando based on product assortment\\/selection and quality\\/ freshness, customer orientation\\/service, value offers, shopping pleasure and parking convenience.\\n\\nClose 2nd and 3rd are Publix in the Cascades of Islesworth and Traders Joe\\u2019s.\\n\\nNot too far behind are Walmart Neighborhood Market and Publix O Town West\\n\\nNot in:  Winn Dixie, Whole Foods, Publix Plaza Venitzia, Sprouts, Publix Dr Phillips Marketplace\\n\\nWhat do you think?\",\"date\":\"5 days ago\"},{\"username\":\"Jack Shekinah\",\"rating\":5,\"description\":\"Beautiful place to shop! I just enjoyed my first shopping in Orlando on this shop! Great price and great staff!\",\"date\":\"2 months ago\"},{\"username\":\"Vicki\",\"rating\":5,\"description\":\"Fresh Market in the Dr. Phillips area is truly outstanding. The facility is clean, inviting, and has a great employee team working there. Great specials and the best food quality. Kudos to Ryan. the sushi team and Kat, among so many others.\",\"date\":\"a week ago\"},{\"username\":\"Jane Walker\",\"rating\":5,\"description\":\"Everyone is exceptionally nice, there is one employee that keeps her area perfect, nuts candy, coffee , Angela ! the displays at the holiday time are great, I\\u2019m hoping to see something for the Super Bowl.\\nI love Kevin, Kat  and William in the deli, both are an asset to this company. Happy New Year!\",\"date\":\"6 days ago\"},{\"username\":\"Manal Ammagui\",\"rating\":5,\"description\":\"great supermarket that offers such a great variety if produce, meats, snacks, beverages, and ready-to-go meals. those meals are my favorite thing here, so many delicious options! the staff is nice and helpful. this location\\u2019s in a plaza so there\\u2019s good parking available but it can get pretty packed since it\\u2019s rather small.\",\"date\":\"a year ago\"},{\"username\":\"Catherine de Beer\",\"rating\":5,\"description\":\"Great upscale local grocery store.  They have lots of fresh to go and prepared foods as well as full service deli and meat departments, a bakery, large wine and cheese selection, and varied produce section with products not found in regular supermarkets.\\n\\nThis store has great weekly fresh meat and seafood specials, and a weekly take and make dinner offering.  They have many hard to find dried herbs and spices as well as a selection of unique grocery items and craft cooking kits and sauces.  When you're looking for something different or special this is a great place to try.  If you are lucky enough to live nearby they offer occasional email coupons and updates on their specials.\",\"date\":\"3 years ago\"},{\"username\":\"George Jones\",\"rating\":4,\"description\":\"The parking lot is pretty open during the weekdays, but it gets busy during the weekend. Be sure to check their weekly flyer at the front of the store to find the best deals. Rotisserie chicken was on Sales for $5 all month! Also, can\\u2019t say enough about their coffee, they always have a fresh pot and a great blend!\\nUnfortunately, found some of there food that was recently expired and the prices are a little high. So, almost great.\",\"date\":\"4 years ago\"},{\"username\":\"Olivia\",\"rating\":5,\"description\":\"Such a lovely upscale grocery store. The choice is fantastic and the staff are even better! Always so helpful, especially Kat. Will keep coming back!\",\"date\":\"2 months ago\"}]}\n"
     ]
    }
   ],
   "source": [
    "for i in range(len(messages.data)):\n",
    "    print(i,messages.data[i].role)\n",
    "    print(\"\\t\",messages.data[i].content[0].text.value)\n"
   ]
  },
  {
   "cell_type": "markdown",
   "id": "3f85955d-cb44-4d25-949f-68fea0ba7ac7",
   "metadata": {},
   "source": [
    "#### Clean and evaluate"
   ]
  },
  {
   "cell_type": "code",
   "execution_count": 41,
   "id": "d93d7862-cc9a-4c8a-bd70-d30e714f1273",
   "metadata": {},
   "outputs": [
    {
     "name": "stdout",
     "output_type": "stream",
     "text": [
      "Score: 9\n",
      "Description: The Fresh Market receives a compatibility score of 9 as it aligns closely with the criterion for a grocery store that specializes in curating gourmet food products. Given its upscale and gourmet focus, it should be a natural fit for high quality, mono-floral honey from a family-owned small business. The store's 4.5 rating and range of offerings, including organic products and a reputation for great produce, enhance the likelihood of a mutually beneficial partnership. Additionally, customer reviews indicate a preference for unique and high-quality items, which further supports the compatibility.\n"
     ]
    }
   ],
   "source": [
    "json_response = messages.data[0].content[0].text.value\n",
    "cleaned_json_string = json_response.strip('```json\\n').rstrip('\\n```')\n",
    "# Parse the JSON string\n",
    "data = json.loads(cleaned_json_string)\n",
    "\n",
    "# Accessing data\n",
    "score = data.get('Score')\n",
    "description = data.get('Description')\n",
    "\n",
    "print(\"Score:\", score)\n",
    "print(\"Description:\", description)"
   ]
  },
  {
   "cell_type": "markdown",
   "id": "a374d3f1-8f38-4ade-a934-f3745d93d2b2",
   "metadata": {},
   "source": [
    "## That works, but I should probably switch to chat completions since the assistants API costs additional money and I don't need any of the features"
   ]
  },
  {
   "cell_type": "code",
   "execution_count": null,
   "id": "77149169-e4bc-4915-bed0-af1acb3c4ad6",
   "metadata": {},
   "outputs": [],
   "source": []
  }
 ],
 "metadata": {
  "kernelspec": {
   "display_name": "Python 3 (ipykernel)",
   "language": "python",
   "name": "python3"
  },
  "language_info": {
   "codemirror_mode": {
    "name": "ipython",
    "version": 3
   },
   "file_extension": ".py",
   "mimetype": "text/x-python",
   "name": "python",
   "nbconvert_exporter": "python",
   "pygments_lexer": "ipython3",
   "version": "3.11.6"
  }
 },
 "nbformat": 4,
 "nbformat_minor": 5
}
